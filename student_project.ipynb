{
 "cells": [
  {
   "cell_type": "markdown",
   "metadata": {},
   "source": [
    "# Overview"
   ]
  },
  {
   "cell_type": "markdown",
   "metadata": {},
   "source": [
    "1. Project Instructions & Prerequisites\n",
    "2. Learning Objectives\n",
    "3. Data Preparation\n",
    "4. Create Categorical Features with TF Feature Columns\n",
    "5. Create Continuous/Numerical Features with TF Feature Columns\n",
    "6. Build Deep Learning Regression Model with Sequential API and TF Probability Layers\n",
    "7. Evaluating Potential Model Biases with Aequitas Toolkit\n"
   ]
  },
  {
   "cell_type": "markdown",
   "metadata": {},
   "source": [
    "#  1. Project Instructions & Prerequisites"
   ]
  },
  {
   "cell_type": "markdown",
   "metadata": {},
   "source": [
    "## Project Instructions"
   ]
  },
  {
   "cell_type": "markdown",
   "metadata": {},
   "source": [
    "**Context**: EHR data is becoming a key source of real-world evidence (RWE) for the pharmaceutical industry and regulators to [make decisions on clinical trials](https://www.fda.gov/news-events/speeches-fda-officials/breaking-down-barriers-between-clinical-trials-and-clinical-care-incorporating-real-world-evidence). You are a data scientist for an exciting unicorn healthcare startup that has created a groundbreaking diabetes drug that is ready for clinical trial testing. It is a very unique and sensitive drug that requires administering the drug over at least 5-7 days of time in the hospital with frequent monitoring/testing and patient medication adherence training with a mobile application. You have been provided a patient dataset from a client partner and are tasked with building a predictive model that can identify which type of patients the company should focus their efforts testing this drug on. Target patients are people that are likely to be in the hospital for this duration of time and will not incur significant additional costs for administering this drug to the patient and monitoring.  \n",
    "\n",
    "In order to achieve your goal you must build a regression model that can predict the estimated hospitalization time for a patient and use this to select/filter patients for your study.\n"
   ]
  },
  {
   "cell_type": "markdown",
   "metadata": {},
   "source": [
    "**Expected Hospitalization Time Regression Model:** Utilizing a synthetic dataset(denormalized at the line level augmentation) built off of the UCI Diabetes readmission dataset, students will build a regression model that predicts the expected days of hospitalization time and then convert this to a binary prediction of whether to include or exclude that patient from the clinical trial.\n",
    "\n",
    "This project will demonstrate the importance of building the right data representation at the encounter level, with appropriate filtering and preprocessing/feature engineering of key medical code sets. This project will also require students to analyze and interpret their model for biases across key demographic groups. \n",
    "\n",
    "Please see the project rubric online for more details on the areas your project will be evaluated."
   ]
  },
  {
   "cell_type": "markdown",
   "metadata": {},
   "source": [
    "### Dataset"
   ]
  },
  {
   "cell_type": "markdown",
   "metadata": {},
   "source": [
    "Due to healthcare PHI regulations (HIPAA, HITECH), there are limited number of publicly available datasets and some datasets require training and approval. So, for the purpose of this exercise, we are using a dataset from UC Irvine(https://archive.ics.uci.edu/ml/datasets/Diabetes+130-US+hospitals+for+years+1999-2008) that has been modified for this course. Please note that it is limited in its representation of some key features such as diagnosis codes which are usually an unordered list in 835s/837s (the HL7 standard interchange formats used for claims and remits)."
   ]
  },
  {
   "cell_type": "markdown",
   "metadata": {},
   "source": [
    "**Data Schema**\n",
    "The dataset reference information can be https://github.com/udacity/nd320-c1-emr-data-starter/blob/master/project/data_schema_references/\n",
    ". There are two CSVs that provide more details on the fields and some of the mapped values."
   ]
  },
  {
   "cell_type": "markdown",
   "metadata": {},
   "source": [
    "## Project Submission "
   ]
  },
  {
   "cell_type": "markdown",
   "metadata": {},
   "source": [
    "When submitting this project, make sure to run all the cells before saving the notebook. Save the notebook file as \"student_project_submission.ipynb\" and save another copy as an HTML file by clicking \"File\" -> \"Download as..\"->\"html\". Include the \"utils.py\" and \"student_utils.py\" files in your submission. The student_utils.py should be where you put most of your code that you write and the summary and text explanations should be written inline in the notebook. Once you download these files, compress them into one zip file for submission."
   ]
  },
  {
   "cell_type": "markdown",
   "metadata": {},
   "source": [
    "## Prerequisites "
   ]
  },
  {
   "cell_type": "markdown",
   "metadata": {},
   "source": [
    "- Intermediate level knowledge of Python\n",
    "- Basic knowledge of probability and statistics\n",
    "- Basic knowledge of machine learning concepts\n",
    "- Installation of Tensorflow 2.0 and other dependencies(conda environment.yml or virtualenv requirements.txt file provided)"
   ]
  },
  {
   "cell_type": "markdown",
   "metadata": {},
   "source": [
    "## Environment Setup"
   ]
  },
  {
   "cell_type": "markdown",
   "metadata": {},
   "source": [
    "For step by step instructions on creating your environment, please go to https://github.com/udacity/nd320-c1-emr-data-starter/blob/master/project/README.md."
   ]
  },
  {
   "cell_type": "markdown",
   "metadata": {},
   "source": [
    "# 2.  Learning Objectives"
   ]
  },
  {
   "cell_type": "markdown",
   "metadata": {},
   "source": [
    "By the end of the project, you will be able to \n",
    "   - Use the Tensorflow Dataset API to scalably extract, transform, and load datasets and build datasets aggregated at the line, encounter, and patient data levels(longitudinal)\n",
    "   - Analyze EHR datasets to check for common issues (data leakage, statistical properties, missing values, high cardinality) by performing exploratory data analysis.\n",
    "   - Create categorical features from Key Industry Code Sets (ICD, CPT, NDC) and reduce dimensionality for high cardinality features by using embeddings \n",
    "   - Create derived features(bucketing, cross-features, embeddings) utilizing Tensorflow feature columns on both continuous and categorical input features\n",
    "   - SWBAT use the Tensorflow Probability library to train a model that provides uncertainty range predictions that allow for risk adjustment/prioritization and triaging of predictions\n",
    "   - Analyze and determine biases for a model for key demographic groups by evaluating performance metrics across groups by using the Aequitas framework \n"
   ]
  },
  {
   "cell_type": "markdown",
   "metadata": {},
   "source": [
    "# 3. Data Preparation"
   ]
  },
  {
   "cell_type": "code",
   "execution_count": 405,
   "metadata": {},
   "outputs": [
    {
     "name": "stdout",
     "output_type": "stream",
     "text": [
      "The autoreload extension is already loaded. To reload it, use:\n",
      "  %reload_ext autoreload\n"
     ]
    }
   ],
   "source": [
    "# from __future__ import absolute_import, division, print_function, unicode_literals\n",
    "import os\n",
    "import numpy as np\n",
    "import tensorflow as tf\n",
    "from tensorflow.keras import layers\n",
    "import tensorflow_probability as tfp\n",
    "import matplotlib.pyplot as plt\n",
    "import pandas as pd\n",
    "import aequitas as ae\n",
    "import tensorflow_data_validation as tfdv\n",
    "\n",
    "# Put all of the helper functions in utils\n",
    "from utils import build_vocab_files, show_group_stats_viz, aggregate_dataset, preprocess_df, df_to_dataset, posterior_mean_field, prior_trainable\n",
    "pd.set_option('display.max_columns', 500)\n",
    "# this allows you to make changes and save in student_utils.py and the file is reloaded every time you run a code block\n",
    "%load_ext autoreload\n",
    "%autoreload"
   ]
  },
  {
   "cell_type": "code",
   "execution_count": 406,
   "metadata": {},
   "outputs": [],
   "source": [
    "#OPEN ISSUE ON MAC OSX for TF model training\n",
    "import os\n",
    "os.environ['KMP_DUPLICATE_LIB_OK']='True'"
   ]
  },
  {
   "cell_type": "markdown",
   "metadata": {},
   "source": [
    "## Dataset Loading and Schema Review"
   ]
  },
  {
   "cell_type": "markdown",
   "metadata": {},
   "source": [
    "Load the dataset and view a sample of the dataset along with reviewing the schema reference files to gain a deeper understanding of the dataset. The dataset is located at the following path https://github.com/udacity/nd320-c1-emr-data-starter/blob/master/project/starter_code/data/final_project_dataset.csv. Also, review the information found in the data schema https://github.com/udacity/nd320-c1-emr-data-starter/blob/master/project/data_schema_references/"
   ]
  },
  {
   "cell_type": "code",
   "execution_count": 407,
   "metadata": {},
   "outputs": [],
   "source": [
    "dataset_path = \"./data/final_project_dataset.csv\"\n",
    "df = pd.read_csv(dataset_path)"
   ]
  },
  {
   "cell_type": "code",
   "execution_count": 408,
   "metadata": {},
   "outputs": [
    {
     "data": {
      "text/html": [
       "<div>\n",
       "<style scoped>\n",
       "    .dataframe tbody tr th:only-of-type {\n",
       "        vertical-align: middle;\n",
       "    }\n",
       "\n",
       "    .dataframe tbody tr th {\n",
       "        vertical-align: top;\n",
       "    }\n",
       "\n",
       "    .dataframe thead th {\n",
       "        text-align: right;\n",
       "    }\n",
       "</style>\n",
       "<table border=\"1\" class=\"dataframe\">\n",
       "  <thead>\n",
       "    <tr style=\"text-align: right;\">\n",
       "      <th></th>\n",
       "      <th>encounter_id</th>\n",
       "      <th>patient_nbr</th>\n",
       "      <th>race</th>\n",
       "      <th>gender</th>\n",
       "      <th>age</th>\n",
       "      <th>weight</th>\n",
       "      <th>admission_type_id</th>\n",
       "      <th>discharge_disposition_id</th>\n",
       "      <th>admission_source_id</th>\n",
       "      <th>time_in_hospital</th>\n",
       "      <th>payer_code</th>\n",
       "      <th>medical_specialty</th>\n",
       "      <th>primary_diagnosis_code</th>\n",
       "      <th>other_diagnosis_codes</th>\n",
       "      <th>number_outpatient</th>\n",
       "      <th>number_inpatient</th>\n",
       "      <th>number_emergency</th>\n",
       "      <th>num_lab_procedures</th>\n",
       "      <th>number_diagnoses</th>\n",
       "      <th>num_medications</th>\n",
       "      <th>num_procedures</th>\n",
       "      <th>ndc_code</th>\n",
       "      <th>max_glu_serum</th>\n",
       "      <th>A1Cresult</th>\n",
       "      <th>change</th>\n",
       "      <th>readmitted</th>\n",
       "    </tr>\n",
       "  </thead>\n",
       "  <tbody>\n",
       "    <tr>\n",
       "      <th>0</th>\n",
       "      <td>2278392</td>\n",
       "      <td>8222157</td>\n",
       "      <td>Caucasian</td>\n",
       "      <td>Female</td>\n",
       "      <td>[0-10)</td>\n",
       "      <td>?</td>\n",
       "      <td>6</td>\n",
       "      <td>25</td>\n",
       "      <td>1</td>\n",
       "      <td>1</td>\n",
       "      <td>?</td>\n",
       "      <td>Pediatrics-Endocrinology</td>\n",
       "      <td>250.83</td>\n",
       "      <td>?|?</td>\n",
       "      <td>0</td>\n",
       "      <td>0</td>\n",
       "      <td>0</td>\n",
       "      <td>41</td>\n",
       "      <td>1</td>\n",
       "      <td>1</td>\n",
       "      <td>0</td>\n",
       "      <td>NaN</td>\n",
       "      <td>None</td>\n",
       "      <td>None</td>\n",
       "      <td>No</td>\n",
       "      <td>NO</td>\n",
       "    </tr>\n",
       "    <tr>\n",
       "      <th>1</th>\n",
       "      <td>149190</td>\n",
       "      <td>55629189</td>\n",
       "      <td>Caucasian</td>\n",
       "      <td>Female</td>\n",
       "      <td>[10-20)</td>\n",
       "      <td>?</td>\n",
       "      <td>1</td>\n",
       "      <td>1</td>\n",
       "      <td>7</td>\n",
       "      <td>3</td>\n",
       "      <td>?</td>\n",
       "      <td>?</td>\n",
       "      <td>276</td>\n",
       "      <td>250.01|255</td>\n",
       "      <td>0</td>\n",
       "      <td>0</td>\n",
       "      <td>0</td>\n",
       "      <td>59</td>\n",
       "      <td>9</td>\n",
       "      <td>18</td>\n",
       "      <td>0</td>\n",
       "      <td>68071-1701</td>\n",
       "      <td>None</td>\n",
       "      <td>None</td>\n",
       "      <td>Ch</td>\n",
       "      <td>&gt;30</td>\n",
       "    </tr>\n",
       "    <tr>\n",
       "      <th>2</th>\n",
       "      <td>64410</td>\n",
       "      <td>86047875</td>\n",
       "      <td>AfricanAmerican</td>\n",
       "      <td>Female</td>\n",
       "      <td>[20-30)</td>\n",
       "      <td>?</td>\n",
       "      <td>1</td>\n",
       "      <td>1</td>\n",
       "      <td>7</td>\n",
       "      <td>2</td>\n",
       "      <td>?</td>\n",
       "      <td>?</td>\n",
       "      <td>648</td>\n",
       "      <td>250|V27</td>\n",
       "      <td>2</td>\n",
       "      <td>1</td>\n",
       "      <td>0</td>\n",
       "      <td>11</td>\n",
       "      <td>6</td>\n",
       "      <td>13</td>\n",
       "      <td>5</td>\n",
       "      <td>0378-1110</td>\n",
       "      <td>None</td>\n",
       "      <td>None</td>\n",
       "      <td>No</td>\n",
       "      <td>NO</td>\n",
       "    </tr>\n",
       "    <tr>\n",
       "      <th>3</th>\n",
       "      <td>500364</td>\n",
       "      <td>82442376</td>\n",
       "      <td>Caucasian</td>\n",
       "      <td>Male</td>\n",
       "      <td>[30-40)</td>\n",
       "      <td>?</td>\n",
       "      <td>1</td>\n",
       "      <td>1</td>\n",
       "      <td>7</td>\n",
       "      <td>2</td>\n",
       "      <td>?</td>\n",
       "      <td>?</td>\n",
       "      <td>8</td>\n",
       "      <td>250.43|403</td>\n",
       "      <td>0</td>\n",
       "      <td>0</td>\n",
       "      <td>0</td>\n",
       "      <td>44</td>\n",
       "      <td>7</td>\n",
       "      <td>16</td>\n",
       "      <td>1</td>\n",
       "      <td>68071-1701</td>\n",
       "      <td>None</td>\n",
       "      <td>None</td>\n",
       "      <td>Ch</td>\n",
       "      <td>NO</td>\n",
       "    </tr>\n",
       "    <tr>\n",
       "      <th>4</th>\n",
       "      <td>16680</td>\n",
       "      <td>42519267</td>\n",
       "      <td>Caucasian</td>\n",
       "      <td>Male</td>\n",
       "      <td>[40-50)</td>\n",
       "      <td>?</td>\n",
       "      <td>1</td>\n",
       "      <td>1</td>\n",
       "      <td>7</td>\n",
       "      <td>1</td>\n",
       "      <td>?</td>\n",
       "      <td>?</td>\n",
       "      <td>197</td>\n",
       "      <td>157|250</td>\n",
       "      <td>0</td>\n",
       "      <td>0</td>\n",
       "      <td>0</td>\n",
       "      <td>51</td>\n",
       "      <td>5</td>\n",
       "      <td>8</td>\n",
       "      <td>0</td>\n",
       "      <td>0049-4110</td>\n",
       "      <td>None</td>\n",
       "      <td>None</td>\n",
       "      <td>Ch</td>\n",
       "      <td>NO</td>\n",
       "    </tr>\n",
       "    <tr>\n",
       "      <th>...</th>\n",
       "      <td>...</td>\n",
       "      <td>...</td>\n",
       "      <td>...</td>\n",
       "      <td>...</td>\n",
       "      <td>...</td>\n",
       "      <td>...</td>\n",
       "      <td>...</td>\n",
       "      <td>...</td>\n",
       "      <td>...</td>\n",
       "      <td>...</td>\n",
       "      <td>...</td>\n",
       "      <td>...</td>\n",
       "      <td>...</td>\n",
       "      <td>...</td>\n",
       "      <td>...</td>\n",
       "      <td>...</td>\n",
       "      <td>...</td>\n",
       "      <td>...</td>\n",
       "      <td>...</td>\n",
       "      <td>...</td>\n",
       "      <td>...</td>\n",
       "      <td>...</td>\n",
       "      <td>...</td>\n",
       "      <td>...</td>\n",
       "      <td>...</td>\n",
       "      <td>...</td>\n",
       "    </tr>\n",
       "    <tr>\n",
       "      <th>95</th>\n",
       "      <td>713268</td>\n",
       "      <td>58231314</td>\n",
       "      <td>?</td>\n",
       "      <td>Female</td>\n",
       "      <td>[90-100)</td>\n",
       "      <td>?</td>\n",
       "      <td>2</td>\n",
       "      <td>3</td>\n",
       "      <td>2</td>\n",
       "      <td>8</td>\n",
       "      <td>?</td>\n",
       "      <td>?</td>\n",
       "      <td>250.7</td>\n",
       "      <td>440|715</td>\n",
       "      <td>0</td>\n",
       "      <td>0</td>\n",
       "      <td>0</td>\n",
       "      <td>43</td>\n",
       "      <td>9</td>\n",
       "      <td>18</td>\n",
       "      <td>3</td>\n",
       "      <td>47918-902</td>\n",
       "      <td>None</td>\n",
       "      <td>None</td>\n",
       "      <td>No</td>\n",
       "      <td>&gt;30</td>\n",
       "    </tr>\n",
       "    <tr>\n",
       "      <th>96</th>\n",
       "      <td>715086</td>\n",
       "      <td>3376278</td>\n",
       "      <td>Caucasian</td>\n",
       "      <td>Male</td>\n",
       "      <td>[10-20)</td>\n",
       "      <td>?</td>\n",
       "      <td>1</td>\n",
       "      <td>5</td>\n",
       "      <td>7</td>\n",
       "      <td>1</td>\n",
       "      <td>?</td>\n",
       "      <td>?</td>\n",
       "      <td>250.11</td>\n",
       "      <td>?|?</td>\n",
       "      <td>0</td>\n",
       "      <td>0</td>\n",
       "      <td>0</td>\n",
       "      <td>51</td>\n",
       "      <td>1</td>\n",
       "      <td>4</td>\n",
       "      <td>0</td>\n",
       "      <td>68071-1701</td>\n",
       "      <td>None</td>\n",
       "      <td>None</td>\n",
       "      <td>Ch</td>\n",
       "      <td>NO</td>\n",
       "    </tr>\n",
       "    <tr>\n",
       "      <th>97</th>\n",
       "      <td>792402</td>\n",
       "      <td>83775519</td>\n",
       "      <td>Caucasian</td>\n",
       "      <td>Female</td>\n",
       "      <td>[80-90)</td>\n",
       "      <td>?</td>\n",
       "      <td>2</td>\n",
       "      <td>1</td>\n",
       "      <td>4</td>\n",
       "      <td>2</td>\n",
       "      <td>?</td>\n",
       "      <td>?</td>\n",
       "      <td>410</td>\n",
       "      <td>424|414</td>\n",
       "      <td>0</td>\n",
       "      <td>0</td>\n",
       "      <td>0</td>\n",
       "      <td>25</td>\n",
       "      <td>7</td>\n",
       "      <td>10</td>\n",
       "      <td>1</td>\n",
       "      <td>68071-1701</td>\n",
       "      <td>None</td>\n",
       "      <td>None</td>\n",
       "      <td>No</td>\n",
       "      <td>NO</td>\n",
       "    </tr>\n",
       "    <tr>\n",
       "      <th>98</th>\n",
       "      <td>796152</td>\n",
       "      <td>23043240</td>\n",
       "      <td>Caucasian</td>\n",
       "      <td>Female</td>\n",
       "      <td>[50-60)</td>\n",
       "      <td>?</td>\n",
       "      <td>2</td>\n",
       "      <td>1</td>\n",
       "      <td>4</td>\n",
       "      <td>2</td>\n",
       "      <td>?</td>\n",
       "      <td>?</td>\n",
       "      <td>414</td>\n",
       "      <td>424|424</td>\n",
       "      <td>0</td>\n",
       "      <td>0</td>\n",
       "      <td>0</td>\n",
       "      <td>32</td>\n",
       "      <td>9</td>\n",
       "      <td>11</td>\n",
       "      <td>3</td>\n",
       "      <td>47918-902</td>\n",
       "      <td>None</td>\n",
       "      <td>None</td>\n",
       "      <td>No</td>\n",
       "      <td>&lt;30</td>\n",
       "    </tr>\n",
       "    <tr>\n",
       "      <th>99</th>\n",
       "      <td>833424</td>\n",
       "      <td>74447460</td>\n",
       "      <td>Caucasian</td>\n",
       "      <td>Female</td>\n",
       "      <td>[50-60)</td>\n",
       "      <td>?</td>\n",
       "      <td>2</td>\n",
       "      <td>1</td>\n",
       "      <td>2</td>\n",
       "      <td>6</td>\n",
       "      <td>?</td>\n",
       "      <td>?</td>\n",
       "      <td>784</td>\n",
       "      <td>511|518</td>\n",
       "      <td>0</td>\n",
       "      <td>0</td>\n",
       "      <td>0</td>\n",
       "      <td>55</td>\n",
       "      <td>8</td>\n",
       "      <td>7</td>\n",
       "      <td>2</td>\n",
       "      <td>47918-898</td>\n",
       "      <td>None</td>\n",
       "      <td>None</td>\n",
       "      <td>No</td>\n",
       "      <td>&gt;30</td>\n",
       "    </tr>\n",
       "  </tbody>\n",
       "</table>\n",
       "<p>100 rows × 26 columns</p>\n",
       "</div>"
      ],
      "text/plain": [
       "    encounter_id  patient_nbr             race  gender       age weight  \\\n",
       "0        2278392      8222157        Caucasian  Female    [0-10)      ?   \n",
       "1         149190     55629189        Caucasian  Female   [10-20)      ?   \n",
       "2          64410     86047875  AfricanAmerican  Female   [20-30)      ?   \n",
       "3         500364     82442376        Caucasian    Male   [30-40)      ?   \n",
       "4          16680     42519267        Caucasian    Male   [40-50)      ?   \n",
       "..           ...          ...              ...     ...       ...    ...   \n",
       "95        713268     58231314                ?  Female  [90-100)      ?   \n",
       "96        715086      3376278        Caucasian    Male   [10-20)      ?   \n",
       "97        792402     83775519        Caucasian  Female   [80-90)      ?   \n",
       "98        796152     23043240        Caucasian  Female   [50-60)      ?   \n",
       "99        833424     74447460        Caucasian  Female   [50-60)      ?   \n",
       "\n",
       "    admission_type_id  discharge_disposition_id  admission_source_id  \\\n",
       "0                   6                        25                    1   \n",
       "1                   1                         1                    7   \n",
       "2                   1                         1                    7   \n",
       "3                   1                         1                    7   \n",
       "4                   1                         1                    7   \n",
       "..                ...                       ...                  ...   \n",
       "95                  2                         3                    2   \n",
       "96                  1                         5                    7   \n",
       "97                  2                         1                    4   \n",
       "98                  2                         1                    4   \n",
       "99                  2                         1                    2   \n",
       "\n",
       "    time_in_hospital payer_code         medical_specialty  \\\n",
       "0                  1          ?  Pediatrics-Endocrinology   \n",
       "1                  3          ?                         ?   \n",
       "2                  2          ?                         ?   \n",
       "3                  2          ?                         ?   \n",
       "4                  1          ?                         ?   \n",
       "..               ...        ...                       ...   \n",
       "95                 8          ?                         ?   \n",
       "96                 1          ?                         ?   \n",
       "97                 2          ?                         ?   \n",
       "98                 2          ?                         ?   \n",
       "99                 6          ?                         ?   \n",
       "\n",
       "   primary_diagnosis_code other_diagnosis_codes  number_outpatient  \\\n",
       "0                  250.83                   ?|?                  0   \n",
       "1                     276            250.01|255                  0   \n",
       "2                     648               250|V27                  2   \n",
       "3                       8            250.43|403                  0   \n",
       "4                     197               157|250                  0   \n",
       "..                    ...                   ...                ...   \n",
       "95                  250.7               440|715                  0   \n",
       "96                 250.11                   ?|?                  0   \n",
       "97                    410               424|414                  0   \n",
       "98                    414               424|424                  0   \n",
       "99                    784               511|518                  0   \n",
       "\n",
       "    number_inpatient  number_emergency  num_lab_procedures  number_diagnoses  \\\n",
       "0                  0                 0                  41                 1   \n",
       "1                  0                 0                  59                 9   \n",
       "2                  1                 0                  11                 6   \n",
       "3                  0                 0                  44                 7   \n",
       "4                  0                 0                  51                 5   \n",
       "..               ...               ...                 ...               ...   \n",
       "95                 0                 0                  43                 9   \n",
       "96                 0                 0                  51                 1   \n",
       "97                 0                 0                  25                 7   \n",
       "98                 0                 0                  32                 9   \n",
       "99                 0                 0                  55                 8   \n",
       "\n",
       "    num_medications  num_procedures    ndc_code max_glu_serum A1Cresult  \\\n",
       "0                 1               0         NaN          None      None   \n",
       "1                18               0  68071-1701          None      None   \n",
       "2                13               5   0378-1110          None      None   \n",
       "3                16               1  68071-1701          None      None   \n",
       "4                 8               0   0049-4110          None      None   \n",
       "..              ...             ...         ...           ...       ...   \n",
       "95               18               3   47918-902          None      None   \n",
       "96                4               0  68071-1701          None      None   \n",
       "97               10               1  68071-1701          None      None   \n",
       "98               11               3   47918-902          None      None   \n",
       "99                7               2   47918-898          None      None   \n",
       "\n",
       "   change readmitted  \n",
       "0      No         NO  \n",
       "1      Ch        >30  \n",
       "2      No         NO  \n",
       "3      Ch         NO  \n",
       "4      Ch         NO  \n",
       "..    ...        ...  \n",
       "95     No        >30  \n",
       "96     Ch         NO  \n",
       "97     No         NO  \n",
       "98     No        <30  \n",
       "99     No        >30  \n",
       "\n",
       "[100 rows x 26 columns]"
      ]
     },
     "execution_count": 408,
     "metadata": {},
     "output_type": "execute_result"
    }
   ],
   "source": [
    "df.head(100)"
   ]
  },
  {
   "cell_type": "markdown",
   "metadata": {},
   "source": [
    "## Determine Level of Dataset (Line or Encounter)"
   ]
  },
  {
   "cell_type": "markdown",
   "metadata": {},
   "source": [
    "**Question 1**: Based off of analysis of the data, what level is this dataset? Is it at the line or encounter level? Are there any key fields besides the encounter_id and patient_nbr fields that we should use to aggregate on? Knowing this information will help inform us what level of aggregation is necessary for future steps and is a step that is often overlooked. "
   ]
  },
  {
   "cell_type": "markdown",
   "metadata": {},
   "source": [
    "Student Response:??"
   ]
  },
  {
   "cell_type": "code",
   "execution_count": 409,
   "metadata": {},
   "outputs": [],
   "source": [
    "# The data set is at the line level. The number of lines in the data frame (143424) is greater than the number of \n",
    "# unique encounter IDs (101766)\n",
    "# Besides the encounter_id and patient_nbr fields, we could also potentially aggregate on the primary diagnosis code \n",
    "# since that is a potential correlation that might be simpler to capture while also being effective.\n"
   ]
  },
  {
   "cell_type": "code",
   "execution_count": 410,
   "metadata": {},
   "outputs": [
    {
     "data": {
      "text/plain": [
       "143424"
      ]
     },
     "execution_count": 410,
     "metadata": {},
     "output_type": "execute_result"
    }
   ],
   "source": [
    "len(df)"
   ]
  },
  {
   "cell_type": "code",
   "execution_count": 411,
   "metadata": {},
   "outputs": [
    {
     "data": {
      "text/plain": [
       "101766"
      ]
     },
     "execution_count": 411,
     "metadata": {},
     "output_type": "execute_result"
    }
   ],
   "source": [
    "len(df['encounter_id'].unique())"
   ]
  },
  {
   "cell_type": "code",
   "execution_count": 412,
   "metadata": {},
   "outputs": [
    {
     "data": {
      "text/plain": [
       "71518"
      ]
     },
     "execution_count": 412,
     "metadata": {},
     "output_type": "execute_result"
    }
   ],
   "source": [
    "len(df['patient_nbr'].unique())"
   ]
  },
  {
   "cell_type": "markdown",
   "metadata": {},
   "source": [
    "## Analyze Dataset"
   ]
  },
  {
   "cell_type": "markdown",
   "metadata": {},
   "source": [
    "**Question 2**: Utilizing the library of your choice (recommend Pandas and Seaborn or matplotlib though), perform exploratory data analysis on the dataset. In particular be sure to address the following questions:  \n",
    "    - a. Field(s) with high amount of missing/zero values\n",
    "    - b. Based off the frequency histogram for each numerical field, which numerical field(s) has/have a Gaussian(normal) distribution shape?\n",
    "    - c. Which field(s) have high cardinality and why (HINT: ndc_code is one feature)\n",
    "    - d. Please describe the demographic distributions in the dataset for the age and gender fields.\n",
    "    \n"
   ]
  },
  {
   "cell_type": "markdown",
   "metadata": {},
   "source": [
    "**OPTIONAL**: Use the Tensorflow Data Validation and Analysis library to complete. \n",
    "- The Tensorflow Data Validation and Analysis library(https://www.tensorflow.org/tfx/data_validation/get_started) is a useful tool for analyzing and summarizing dataset statistics. It is especially useful because it can scale to large datasets that do not fit into memory. \n",
    "- Note that there are some bugs that are still being resolved with Chrome v80 and we have moved away from using this for the project. "
   ]
  },
  {
   "cell_type": "markdown",
   "metadata": {},
   "source": [
    "**Student Response**: ??"
   ]
  },
  {
   "cell_type": "code",
   "execution_count": 413,
   "metadata": {},
   "outputs": [
    {
     "data": {
      "text/html": [
       "<div>\n",
       "<style scoped>\n",
       "    .dataframe tbody tr th:only-of-type {\n",
       "        vertical-align: middle;\n",
       "    }\n",
       "\n",
       "    .dataframe tbody tr th {\n",
       "        vertical-align: top;\n",
       "    }\n",
       "\n",
       "    .dataframe thead th {\n",
       "        text-align: right;\n",
       "    }\n",
       "</style>\n",
       "<table border=\"1\" class=\"dataframe\">\n",
       "  <thead>\n",
       "    <tr style=\"text-align: right;\">\n",
       "      <th></th>\n",
       "      <th>columns</th>\n",
       "      <th>percent_null</th>\n",
       "      <th>percent_zero</th>\n",
       "      <th>Unknown_?</th>\n",
       "      <th>Invalid</th>\n",
       "    </tr>\n",
       "  </thead>\n",
       "  <tbody>\n",
       "    <tr>\n",
       "      <th>encounter_id</th>\n",
       "      <td>encounter_id</td>\n",
       "      <td>0.00000</td>\n",
       "      <td>0.000000</td>\n",
       "      <td>0.000000</td>\n",
       "      <td>0.000000</td>\n",
       "    </tr>\n",
       "    <tr>\n",
       "      <th>patient_nbr</th>\n",
       "      <td>patient_nbr</td>\n",
       "      <td>0.00000</td>\n",
       "      <td>0.000000</td>\n",
       "      <td>0.000000</td>\n",
       "      <td>0.000000</td>\n",
       "    </tr>\n",
       "    <tr>\n",
       "      <th>race</th>\n",
       "      <td>race</td>\n",
       "      <td>0.00000</td>\n",
       "      <td>0.000000</td>\n",
       "      <td>2.307145</td>\n",
       "      <td>0.000000</td>\n",
       "    </tr>\n",
       "    <tr>\n",
       "      <th>gender</th>\n",
       "      <td>gender</td>\n",
       "      <td>0.00000</td>\n",
       "      <td>0.000000</td>\n",
       "      <td>0.000000</td>\n",
       "      <td>0.003486</td>\n",
       "    </tr>\n",
       "    <tr>\n",
       "      <th>age</th>\n",
       "      <td>age</td>\n",
       "      <td>0.00000</td>\n",
       "      <td>0.000000</td>\n",
       "      <td>0.000000</td>\n",
       "      <td>0.000000</td>\n",
       "    </tr>\n",
       "    <tr>\n",
       "      <th>weight</th>\n",
       "      <td>weight</td>\n",
       "      <td>0.00000</td>\n",
       "      <td>0.000000</td>\n",
       "      <td>97.000502</td>\n",
       "      <td>0.000000</td>\n",
       "    </tr>\n",
       "    <tr>\n",
       "      <th>admission_type_id</th>\n",
       "      <td>admission_type_id</td>\n",
       "      <td>0.00000</td>\n",
       "      <td>0.000000</td>\n",
       "      <td>0.000000</td>\n",
       "      <td>0.000000</td>\n",
       "    </tr>\n",
       "    <tr>\n",
       "      <th>discharge_disposition_id</th>\n",
       "      <td>discharge_disposition_id</td>\n",
       "      <td>0.00000</td>\n",
       "      <td>0.000000</td>\n",
       "      <td>0.000000</td>\n",
       "      <td>0.000000</td>\n",
       "    </tr>\n",
       "    <tr>\n",
       "      <th>admission_source_id</th>\n",
       "      <td>admission_source_id</td>\n",
       "      <td>0.00000</td>\n",
       "      <td>0.000000</td>\n",
       "      <td>0.000000</td>\n",
       "      <td>0.000000</td>\n",
       "    </tr>\n",
       "    <tr>\n",
       "      <th>time_in_hospital</th>\n",
       "      <td>time_in_hospital</td>\n",
       "      <td>0.00000</td>\n",
       "      <td>0.000000</td>\n",
       "      <td>0.000000</td>\n",
       "      <td>0.000000</td>\n",
       "    </tr>\n",
       "    <tr>\n",
       "      <th>payer_code</th>\n",
       "      <td>payer_code</td>\n",
       "      <td>0.00000</td>\n",
       "      <td>0.000000</td>\n",
       "      <td>37.783077</td>\n",
       "      <td>0.000000</td>\n",
       "    </tr>\n",
       "    <tr>\n",
       "      <th>medical_specialty</th>\n",
       "      <td>medical_specialty</td>\n",
       "      <td>0.00000</td>\n",
       "      <td>0.000000</td>\n",
       "      <td>48.431922</td>\n",
       "      <td>0.000000</td>\n",
       "    </tr>\n",
       "    <tr>\n",
       "      <th>primary_diagnosis_code</th>\n",
       "      <td>primary_diagnosis_code</td>\n",
       "      <td>0.00000</td>\n",
       "      <td>0.000000</td>\n",
       "      <td>0.023009</td>\n",
       "      <td>0.000000</td>\n",
       "    </tr>\n",
       "    <tr>\n",
       "      <th>other_diagnosis_codes</th>\n",
       "      <td>other_diagnosis_codes</td>\n",
       "      <td>0.00000</td>\n",
       "      <td>0.000000</td>\n",
       "      <td>0.000000</td>\n",
       "      <td>0.000000</td>\n",
       "    </tr>\n",
       "    <tr>\n",
       "      <th>number_outpatient</th>\n",
       "      <td>number_outpatient</td>\n",
       "      <td>0.00000</td>\n",
       "      <td>83.686831</td>\n",
       "      <td>0.000000</td>\n",
       "      <td>0.000000</td>\n",
       "    </tr>\n",
       "    <tr>\n",
       "      <th>number_inpatient</th>\n",
       "      <td>number_inpatient</td>\n",
       "      <td>0.00000</td>\n",
       "      <td>67.421073</td>\n",
       "      <td>0.000000</td>\n",
       "      <td>0.000000</td>\n",
       "    </tr>\n",
       "    <tr>\n",
       "      <th>number_emergency</th>\n",
       "      <td>number_emergency</td>\n",
       "      <td>0.00000</td>\n",
       "      <td>88.858211</td>\n",
       "      <td>0.000000</td>\n",
       "      <td>0.000000</td>\n",
       "    </tr>\n",
       "    <tr>\n",
       "      <th>num_lab_procedures</th>\n",
       "      <td>num_lab_procedures</td>\n",
       "      <td>0.00000</td>\n",
       "      <td>0.000000</td>\n",
       "      <td>0.000000</td>\n",
       "      <td>0.000000</td>\n",
       "    </tr>\n",
       "    <tr>\n",
       "      <th>number_diagnoses</th>\n",
       "      <td>number_diagnoses</td>\n",
       "      <td>0.00000</td>\n",
       "      <td>0.000000</td>\n",
       "      <td>0.000000</td>\n",
       "      <td>0.000000</td>\n",
       "    </tr>\n",
       "    <tr>\n",
       "      <th>num_medications</th>\n",
       "      <td>num_medications</td>\n",
       "      <td>0.00000</td>\n",
       "      <td>0.000000</td>\n",
       "      <td>0.000000</td>\n",
       "      <td>0.000000</td>\n",
       "    </tr>\n",
       "    <tr>\n",
       "      <th>num_procedures</th>\n",
       "      <td>num_procedures</td>\n",
       "      <td>0.00000</td>\n",
       "      <td>45.869589</td>\n",
       "      <td>0.000000</td>\n",
       "      <td>0.000000</td>\n",
       "    </tr>\n",
       "    <tr>\n",
       "      <th>ndc_code</th>\n",
       "      <td>ndc_code</td>\n",
       "      <td>16.35849</td>\n",
       "      <td>0.000000</td>\n",
       "      <td>0.000000</td>\n",
       "      <td>0.000000</td>\n",
       "    </tr>\n",
       "    <tr>\n",
       "      <th>max_glu_serum</th>\n",
       "      <td>max_glu_serum</td>\n",
       "      <td>0.00000</td>\n",
       "      <td>0.000000</td>\n",
       "      <td>0.000000</td>\n",
       "      <td>95.108908</td>\n",
       "    </tr>\n",
       "    <tr>\n",
       "      <th>A1Cresult</th>\n",
       "      <td>A1Cresult</td>\n",
       "      <td>0.00000</td>\n",
       "      <td>0.000000</td>\n",
       "      <td>0.000000</td>\n",
       "      <td>82.029507</td>\n",
       "    </tr>\n",
       "    <tr>\n",
       "      <th>change</th>\n",
       "      <td>change</td>\n",
       "      <td>0.00000</td>\n",
       "      <td>0.000000</td>\n",
       "      <td>0.000000</td>\n",
       "      <td>0.000000</td>\n",
       "    </tr>\n",
       "    <tr>\n",
       "      <th>readmitted</th>\n",
       "      <td>readmitted</td>\n",
       "      <td>0.00000</td>\n",
       "      <td>0.000000</td>\n",
       "      <td>0.000000</td>\n",
       "      <td>0.000000</td>\n",
       "    </tr>\n",
       "  </tbody>\n",
       "</table>\n",
       "</div>"
      ],
      "text/plain": [
       "                                           columns  percent_null  \\\n",
       "encounter_id                          encounter_id       0.00000   \n",
       "patient_nbr                            patient_nbr       0.00000   \n",
       "race                                          race       0.00000   \n",
       "gender                                      gender       0.00000   \n",
       "age                                            age       0.00000   \n",
       "weight                                      weight       0.00000   \n",
       "admission_type_id                admission_type_id       0.00000   \n",
       "discharge_disposition_id  discharge_disposition_id       0.00000   \n",
       "admission_source_id            admission_source_id       0.00000   \n",
       "time_in_hospital                  time_in_hospital       0.00000   \n",
       "payer_code                              payer_code       0.00000   \n",
       "medical_specialty                medical_specialty       0.00000   \n",
       "primary_diagnosis_code      primary_diagnosis_code       0.00000   \n",
       "other_diagnosis_codes        other_diagnosis_codes       0.00000   \n",
       "number_outpatient                number_outpatient       0.00000   \n",
       "number_inpatient                  number_inpatient       0.00000   \n",
       "number_emergency                  number_emergency       0.00000   \n",
       "num_lab_procedures              num_lab_procedures       0.00000   \n",
       "number_diagnoses                  number_diagnoses       0.00000   \n",
       "num_medications                    num_medications       0.00000   \n",
       "num_procedures                      num_procedures       0.00000   \n",
       "ndc_code                                  ndc_code      16.35849   \n",
       "max_glu_serum                        max_glu_serum       0.00000   \n",
       "A1Cresult                                A1Cresult       0.00000   \n",
       "change                                      change       0.00000   \n",
       "readmitted                              readmitted       0.00000   \n",
       "\n",
       "                          percent_zero  Unknown_?    Invalid  \n",
       "encounter_id                  0.000000   0.000000   0.000000  \n",
       "patient_nbr                   0.000000   0.000000   0.000000  \n",
       "race                          0.000000   2.307145   0.000000  \n",
       "gender                        0.000000   0.000000   0.003486  \n",
       "age                           0.000000   0.000000   0.000000  \n",
       "weight                        0.000000  97.000502   0.000000  \n",
       "admission_type_id             0.000000   0.000000   0.000000  \n",
       "discharge_disposition_id      0.000000   0.000000   0.000000  \n",
       "admission_source_id           0.000000   0.000000   0.000000  \n",
       "time_in_hospital              0.000000   0.000000   0.000000  \n",
       "payer_code                    0.000000  37.783077   0.000000  \n",
       "medical_specialty             0.000000  48.431922   0.000000  \n",
       "primary_diagnosis_code        0.000000   0.023009   0.000000  \n",
       "other_diagnosis_codes         0.000000   0.000000   0.000000  \n",
       "number_outpatient            83.686831   0.000000   0.000000  \n",
       "number_inpatient             67.421073   0.000000   0.000000  \n",
       "number_emergency             88.858211   0.000000   0.000000  \n",
       "num_lab_procedures            0.000000   0.000000   0.000000  \n",
       "number_diagnoses              0.000000   0.000000   0.000000  \n",
       "num_medications               0.000000   0.000000   0.000000  \n",
       "num_procedures               45.869589   0.000000   0.000000  \n",
       "ndc_code                      0.000000   0.000000   0.000000  \n",
       "max_glu_serum                 0.000000   0.000000  95.108908  \n",
       "A1Cresult                     0.000000   0.000000  82.029507  \n",
       "change                        0.000000   0.000000   0.000000  \n",
       "readmitted                    0.000000   0.000000   0.000000  "
      ]
     },
     "execution_count": 413,
     "metadata": {},
     "output_type": "execute_result"
    }
   ],
   "source": [
    "pd.DataFrame({'columns': df.columns, \n",
    "                        'percent_null': df.isnull().sum() * 100 / len(df), \n",
    "                        'percent_zero': df.isin([0]).sum() * 100 / len(df),\n",
    "                        'Unknown_?': df.isin(['?']).sum() * 100 / len(df),\n",
    "                        'Invalid': df.isin(['Unknown/Invalid', 'None']).sum() * 100 / len(df)\n",
    "            } )"
   ]
  },
  {
   "cell_type": "code",
   "execution_count": 414,
   "metadata": {},
   "outputs": [
    {
     "data": {
      "text/plain": [
       "0"
      ]
     },
     "execution_count": 414,
     "metadata": {},
     "output_type": "execute_result"
    }
   ],
   "source": [
    "np.isnan(df['time_in_hospital']).sum()"
   ]
  },
  {
   "cell_type": "code",
   "execution_count": 415,
   "metadata": {},
   "outputs": [],
   "source": [
    "# The high '0' values for number_outpatient, number_inpatient and number_emergency is understandable since \n",
    "# they are categorical fields and not numeric, so we will leave them as-is.\n",
    "\n",
    "# The 'weight', 'payer_code' and 'medical_specialty' fields have very high '?' values, so let us remove them from the frame\n",
    "# The 'max_glu_serum' and 'A1Cresult' fields have high 'None', so let us remove them from the frame \n",
    "\n",
    "# There are 5 entries in the 'gender' field that has 'Unknown/Invalid', so let us remove those rows"
   ]
  },
  {
   "cell_type": "code",
   "execution_count": 416,
   "metadata": {
    "scrolled": true
   },
   "outputs": [
    {
     "data": {
      "text/plain": [
       "array(['Female', 'Male'], dtype=object)"
      ]
     },
     "execution_count": 416,
     "metadata": {},
     "output_type": "execute_result"
    }
   ],
   "source": [
    "df.pop('weight')\n",
    "df.pop('payer_code')\n",
    "df.pop('medical_specialty')\n",
    "df.pop('max_glu_serum')\n",
    "df.pop('A1Cresult')\n",
    "\n",
    "invalid_indices = df[df['gender'].str.contains(\"Invalid\")].index\n",
    "df.drop(invalid_indices, inplace=True)\n",
    "df['gender'].unique()\n"
   ]
  },
  {
   "cell_type": "code",
   "execution_count": 417,
   "metadata": {},
   "outputs": [
    {
     "data": {
      "text/plain": [
       "array(['No', 'Ch'], dtype=object)"
      ]
     },
     "execution_count": 417,
     "metadata": {},
     "output_type": "execute_result"
    }
   ],
   "source": [
    "df['change'].unique()"
   ]
  },
  {
   "cell_type": "code",
   "execution_count": 418,
   "metadata": {},
   "outputs": [
    {
     "data": {
      "text/plain": [
       "143419"
      ]
     },
     "execution_count": 418,
     "metadata": {},
     "output_type": "execute_result"
    }
   ],
   "source": [
    "len(df)"
   ]
  },
  {
   "cell_type": "code",
   "execution_count": 419,
   "metadata": {},
   "outputs": [
    {
     "data": {
      "text/html": [
       "<div>\n",
       "<style scoped>\n",
       "    .dataframe tbody tr th:only-of-type {\n",
       "        vertical-align: middle;\n",
       "    }\n",
       "\n",
       "    .dataframe tbody tr th {\n",
       "        vertical-align: top;\n",
       "    }\n",
       "\n",
       "    .dataframe thead th {\n",
       "        text-align: right;\n",
       "    }\n",
       "</style>\n",
       "<table border=\"1\" class=\"dataframe\">\n",
       "  <thead>\n",
       "    <tr style=\"text-align: right;\">\n",
       "      <th></th>\n",
       "      <th>encounter_id</th>\n",
       "      <th>patient_nbr</th>\n",
       "      <th>race</th>\n",
       "      <th>gender</th>\n",
       "      <th>age</th>\n",
       "      <th>admission_type_id</th>\n",
       "      <th>discharge_disposition_id</th>\n",
       "      <th>admission_source_id</th>\n",
       "      <th>time_in_hospital</th>\n",
       "      <th>primary_diagnosis_code</th>\n",
       "      <th>other_diagnosis_codes</th>\n",
       "      <th>number_outpatient</th>\n",
       "      <th>number_inpatient</th>\n",
       "      <th>number_emergency</th>\n",
       "      <th>num_lab_procedures</th>\n",
       "      <th>number_diagnoses</th>\n",
       "      <th>num_medications</th>\n",
       "      <th>num_procedures</th>\n",
       "      <th>ndc_code</th>\n",
       "      <th>change</th>\n",
       "      <th>readmitted</th>\n",
       "    </tr>\n",
       "  </thead>\n",
       "  <tbody>\n",
       "    <tr>\n",
       "      <th>0</th>\n",
       "      <td>2278392</td>\n",
       "      <td>8222157</td>\n",
       "      <td>Caucasian</td>\n",
       "      <td>Female</td>\n",
       "      <td>[0-10)</td>\n",
       "      <td>6</td>\n",
       "      <td>25</td>\n",
       "      <td>1</td>\n",
       "      <td>1</td>\n",
       "      <td>250.83</td>\n",
       "      <td>?|?</td>\n",
       "      <td>0</td>\n",
       "      <td>0</td>\n",
       "      <td>0</td>\n",
       "      <td>41</td>\n",
       "      <td>1</td>\n",
       "      <td>1</td>\n",
       "      <td>0</td>\n",
       "      <td>NaN</td>\n",
       "      <td>No</td>\n",
       "      <td>NO</td>\n",
       "    </tr>\n",
       "    <tr>\n",
       "      <th>1</th>\n",
       "      <td>149190</td>\n",
       "      <td>55629189</td>\n",
       "      <td>Caucasian</td>\n",
       "      <td>Female</td>\n",
       "      <td>[10-20)</td>\n",
       "      <td>1</td>\n",
       "      <td>1</td>\n",
       "      <td>7</td>\n",
       "      <td>3</td>\n",
       "      <td>276</td>\n",
       "      <td>250.01|255</td>\n",
       "      <td>0</td>\n",
       "      <td>0</td>\n",
       "      <td>0</td>\n",
       "      <td>59</td>\n",
       "      <td>9</td>\n",
       "      <td>18</td>\n",
       "      <td>0</td>\n",
       "      <td>68071-1701</td>\n",
       "      <td>Ch</td>\n",
       "      <td>&gt;30</td>\n",
       "    </tr>\n",
       "    <tr>\n",
       "      <th>2</th>\n",
       "      <td>64410</td>\n",
       "      <td>86047875</td>\n",
       "      <td>AfricanAmerican</td>\n",
       "      <td>Female</td>\n",
       "      <td>[20-30)</td>\n",
       "      <td>1</td>\n",
       "      <td>1</td>\n",
       "      <td>7</td>\n",
       "      <td>2</td>\n",
       "      <td>648</td>\n",
       "      <td>250|V27</td>\n",
       "      <td>2</td>\n",
       "      <td>1</td>\n",
       "      <td>0</td>\n",
       "      <td>11</td>\n",
       "      <td>6</td>\n",
       "      <td>13</td>\n",
       "      <td>5</td>\n",
       "      <td>0378-1110</td>\n",
       "      <td>No</td>\n",
       "      <td>NO</td>\n",
       "    </tr>\n",
       "    <tr>\n",
       "      <th>3</th>\n",
       "      <td>500364</td>\n",
       "      <td>82442376</td>\n",
       "      <td>Caucasian</td>\n",
       "      <td>Male</td>\n",
       "      <td>[30-40)</td>\n",
       "      <td>1</td>\n",
       "      <td>1</td>\n",
       "      <td>7</td>\n",
       "      <td>2</td>\n",
       "      <td>8</td>\n",
       "      <td>250.43|403</td>\n",
       "      <td>0</td>\n",
       "      <td>0</td>\n",
       "      <td>0</td>\n",
       "      <td>44</td>\n",
       "      <td>7</td>\n",
       "      <td>16</td>\n",
       "      <td>1</td>\n",
       "      <td>68071-1701</td>\n",
       "      <td>Ch</td>\n",
       "      <td>NO</td>\n",
       "    </tr>\n",
       "    <tr>\n",
       "      <th>4</th>\n",
       "      <td>16680</td>\n",
       "      <td>42519267</td>\n",
       "      <td>Caucasian</td>\n",
       "      <td>Male</td>\n",
       "      <td>[40-50)</td>\n",
       "      <td>1</td>\n",
       "      <td>1</td>\n",
       "      <td>7</td>\n",
       "      <td>1</td>\n",
       "      <td>197</td>\n",
       "      <td>157|250</td>\n",
       "      <td>0</td>\n",
       "      <td>0</td>\n",
       "      <td>0</td>\n",
       "      <td>51</td>\n",
       "      <td>5</td>\n",
       "      <td>8</td>\n",
       "      <td>0</td>\n",
       "      <td>0049-4110</td>\n",
       "      <td>Ch</td>\n",
       "      <td>NO</td>\n",
       "    </tr>\n",
       "  </tbody>\n",
       "</table>\n",
       "</div>"
      ],
      "text/plain": [
       "   encounter_id  patient_nbr             race  gender      age  \\\n",
       "0       2278392      8222157        Caucasian  Female   [0-10)   \n",
       "1        149190     55629189        Caucasian  Female  [10-20)   \n",
       "2         64410     86047875  AfricanAmerican  Female  [20-30)   \n",
       "3        500364     82442376        Caucasian    Male  [30-40)   \n",
       "4         16680     42519267        Caucasian    Male  [40-50)   \n",
       "\n",
       "   admission_type_id  discharge_disposition_id  admission_source_id  \\\n",
       "0                  6                        25                    1   \n",
       "1                  1                         1                    7   \n",
       "2                  1                         1                    7   \n",
       "3                  1                         1                    7   \n",
       "4                  1                         1                    7   \n",
       "\n",
       "   time_in_hospital primary_diagnosis_code other_diagnosis_codes  \\\n",
       "0                 1                 250.83                   ?|?   \n",
       "1                 3                    276            250.01|255   \n",
       "2                 2                    648               250|V27   \n",
       "3                 2                      8            250.43|403   \n",
       "4                 1                    197               157|250   \n",
       "\n",
       "   number_outpatient  number_inpatient  number_emergency  num_lab_procedures  \\\n",
       "0                  0                 0                 0                  41   \n",
       "1                  0                 0                 0                  59   \n",
       "2                  2                 1                 0                  11   \n",
       "3                  0                 0                 0                  44   \n",
       "4                  0                 0                 0                  51   \n",
       "\n",
       "   number_diagnoses  num_medications  num_procedures    ndc_code change  \\\n",
       "0                 1                1               0         NaN     No   \n",
       "1                 9               18               0  68071-1701     Ch   \n",
       "2                 6               13               5   0378-1110     No   \n",
       "3                 7               16               1  68071-1701     Ch   \n",
       "4                 5                8               0   0049-4110     Ch   \n",
       "\n",
       "  readmitted  \n",
       "0         NO  \n",
       "1        >30  \n",
       "2         NO  \n",
       "3         NO  \n",
       "4         NO  "
      ]
     },
     "execution_count": 419,
     "metadata": {},
     "output_type": "execute_result"
    }
   ],
   "source": [
    "df.head()"
   ]
  },
  {
   "cell_type": "code",
   "execution_count": 420,
   "metadata": {},
   "outputs": [],
   "source": [
    "# This is only a first cut to plot histograms and to analyze the data. The final numeric and categorical features\n",
    "# to be input to the regression model will be derived later on\n",
    "numeric_feature_list = ['encounter_id', 'patient_nbr', 'admission_type_id', 'time_in_hospital', \n",
    "                          'num_lab_procedures', 'number_diagnoses', 'num_medications', 'num_procedures']\n",
    "categorical_feature_list = ['race', 'gender', 'age','admission_type_id', 'discharge_disposition_id', 'admission_source_id', \n",
    "                            'primary_diagnosis_code', 'other_diagnosis_codes',\n",
    "                            'number_outpatient', 'number_inpatient', 'number_emergency', 'ndc_code', \n",
    "                            'change', 'readmitted']"
   ]
  },
  {
   "cell_type": "code",
   "execution_count": 421,
   "metadata": {},
   "outputs": [
    {
     "data": {
      "text/html": [
       "<div>\n",
       "<style scoped>\n",
       "    .dataframe tbody tr th:only-of-type {\n",
       "        vertical-align: middle;\n",
       "    }\n",
       "\n",
       "    .dataframe tbody tr th {\n",
       "        vertical-align: top;\n",
       "    }\n",
       "\n",
       "    .dataframe thead th {\n",
       "        text-align: right;\n",
       "    }\n",
       "</style>\n",
       "<table border=\"1\" class=\"dataframe\">\n",
       "  <thead>\n",
       "    <tr style=\"text-align: right;\">\n",
       "      <th></th>\n",
       "      <th>encounter_id</th>\n",
       "      <th>patient_nbr</th>\n",
       "      <th>admission_type_id</th>\n",
       "      <th>time_in_hospital</th>\n",
       "      <th>num_lab_procedures</th>\n",
       "      <th>number_diagnoses</th>\n",
       "      <th>num_medications</th>\n",
       "      <th>num_procedures</th>\n",
       "    </tr>\n",
       "  </thead>\n",
       "  <tbody>\n",
       "    <tr>\n",
       "      <th>count</th>\n",
       "      <td>1.434190e+05</td>\n",
       "      <td>1.434190e+05</td>\n",
       "      <td>143419.000000</td>\n",
       "      <td>143419.000000</td>\n",
       "      <td>143419.000000</td>\n",
       "      <td>143419.000000</td>\n",
       "      <td>143419.000000</td>\n",
       "      <td>143419.000000</td>\n",
       "    </tr>\n",
       "    <tr>\n",
       "      <th>mean</th>\n",
       "      <td>1.674283e+08</td>\n",
       "      <td>5.493508e+07</td>\n",
       "      <td>2.027702</td>\n",
       "      <td>4.490214</td>\n",
       "      <td>43.256096</td>\n",
       "      <td>7.424477</td>\n",
       "      <td>16.775978</td>\n",
       "      <td>1.348964</td>\n",
       "    </tr>\n",
       "    <tr>\n",
       "      <th>std</th>\n",
       "      <td>1.019054e+08</td>\n",
       "      <td>3.857859e+07</td>\n",
       "      <td>1.427598</td>\n",
       "      <td>2.999648</td>\n",
       "      <td>19.657050</td>\n",
       "      <td>1.924843</td>\n",
       "      <td>8.397191</td>\n",
       "      <td>1.719078</td>\n",
       "    </tr>\n",
       "    <tr>\n",
       "      <th>min</th>\n",
       "      <td>1.252200e+04</td>\n",
       "      <td>1.350000e+02</td>\n",
       "      <td>1.000000</td>\n",
       "      <td>1.000000</td>\n",
       "      <td>1.000000</td>\n",
       "      <td>1.000000</td>\n",
       "      <td>1.000000</td>\n",
       "      <td>0.000000</td>\n",
       "    </tr>\n",
       "    <tr>\n",
       "      <th>25%</th>\n",
       "      <td>8.829596e+07</td>\n",
       "      <td>2.357219e+07</td>\n",
       "      <td>1.000000</td>\n",
       "      <td>2.000000</td>\n",
       "      <td>32.000000</td>\n",
       "      <td>6.000000</td>\n",
       "      <td>11.000000</td>\n",
       "      <td>0.000000</td>\n",
       "    </tr>\n",
       "    <tr>\n",
       "      <th>50%</th>\n",
       "      <td>1.547637e+08</td>\n",
       "      <td>4.630755e+07</td>\n",
       "      <td>1.000000</td>\n",
       "      <td>4.000000</td>\n",
       "      <td>44.000000</td>\n",
       "      <td>8.000000</td>\n",
       "      <td>15.000000</td>\n",
       "      <td>1.000000</td>\n",
       "    </tr>\n",
       "    <tr>\n",
       "      <th>75%</th>\n",
       "      <td>2.320894e+08</td>\n",
       "      <td>8.823582e+07</td>\n",
       "      <td>3.000000</td>\n",
       "      <td>6.000000</td>\n",
       "      <td>57.000000</td>\n",
       "      <td>9.000000</td>\n",
       "      <td>21.000000</td>\n",
       "      <td>2.000000</td>\n",
       "    </tr>\n",
       "    <tr>\n",
       "      <th>max</th>\n",
       "      <td>4.438672e+08</td>\n",
       "      <td>1.895026e+08</td>\n",
       "      <td>8.000000</td>\n",
       "      <td>14.000000</td>\n",
       "      <td>132.000000</td>\n",
       "      <td>16.000000</td>\n",
       "      <td>81.000000</td>\n",
       "      <td>6.000000</td>\n",
       "    </tr>\n",
       "  </tbody>\n",
       "</table>\n",
       "</div>"
      ],
      "text/plain": [
       "       encounter_id   patient_nbr  admission_type_id  time_in_hospital  \\\n",
       "count  1.434190e+05  1.434190e+05      143419.000000     143419.000000   \n",
       "mean   1.674283e+08  5.493508e+07           2.027702          4.490214   \n",
       "std    1.019054e+08  3.857859e+07           1.427598          2.999648   \n",
       "min    1.252200e+04  1.350000e+02           1.000000          1.000000   \n",
       "25%    8.829596e+07  2.357219e+07           1.000000          2.000000   \n",
       "50%    1.547637e+08  4.630755e+07           1.000000          4.000000   \n",
       "75%    2.320894e+08  8.823582e+07           3.000000          6.000000   \n",
       "max    4.438672e+08  1.895026e+08           8.000000         14.000000   \n",
       "\n",
       "       num_lab_procedures  number_diagnoses  num_medications  num_procedures  \n",
       "count       143419.000000     143419.000000    143419.000000   143419.000000  \n",
       "mean            43.256096          7.424477        16.775978        1.348964  \n",
       "std             19.657050          1.924843         8.397191        1.719078  \n",
       "min              1.000000          1.000000         1.000000        0.000000  \n",
       "25%             32.000000          6.000000        11.000000        0.000000  \n",
       "50%             44.000000          8.000000        15.000000        1.000000  \n",
       "75%             57.000000          9.000000        21.000000        2.000000  \n",
       "max            132.000000         16.000000        81.000000        6.000000  "
      ]
     },
     "execution_count": 421,
     "metadata": {},
     "output_type": "execute_result"
    }
   ],
   "source": [
    "df[numeric_feature_list].describe()"
   ]
  },
  {
   "cell_type": "code",
   "execution_count": 422,
   "metadata": {},
   "outputs": [],
   "source": [
    "# 'number_diagnosis' is manifesting a high standard deviation of ~20, so perhaps we should eliminate that field \n",
    "# from the model. But keeping it for now.\n"
   ]
  },
  {
   "cell_type": "code",
   "execution_count": 423,
   "metadata": {},
   "outputs": [
    {
     "data": {
      "image/png": "[encoded data removed]",
      "text/plain": [
       "<Figure size 720x432 with 1 Axes>"
      ]
     },
     "metadata": {
      "needs_background": "light"
     },
     "output_type": "display_data"
    },
    {
     "data": {
      "image/png": "[encoded data removed]",
      "text/plain": [
       "<Figure size 720x432 with 1 Axes>"
      ]
     },
     "metadata": {
      "needs_background": "light"
     },
     "output_type": "display_data"
    },
    {
     "data": {
      "image/png": "[encoded data removed]",
      "text/plain": [
       "<Figure size 720x432 with 1 Axes>"
      ]
     },
     "metadata": {
      "needs_background": "light"
     },
     "output_type": "display_data"
    },
    {
     "data": {
      "image/png": "[encoded data removed]",
      "text/plain": [
       "<Figure size 720x432 with 1 Axes>"
      ]
     },
     "metadata": {
      "needs_background": "light"
     },
     "output_type": "display_data"
    },
    {
     "data": {
      "image/png": "[encoded data removed]",
      "text/plain": [
       "<Figure size 720x432 with 1 Axes>"
      ]
     },
     "metadata": {
      "needs_background": "light"
     },
     "output_type": "display_data"
    },
    {
     "data": {
      "image/png": "[encoded data removed]",
      "text/plain": [
       "<Figure size 720x432 with 1 Axes>"
      ]
     },
     "metadata": {
      "needs_background": "light"
     },
     "output_type": "display_data"
    },
    {
     "data": {
      "image/png": "[encoded data removed]",
      "text/plain": [
       "<Figure size 720x432 with 1 Axes>"
      ]
     },
     "metadata": {
      "needs_background": "light"
     },
     "output_type": "display_data"
    },
    {
     "data": {
      "image/png": "[encoded data removed]",
      "text/plain": [
       "<Figure size 720x432 with 1 Axes>"
      ]
     },
     "metadata": {
      "needs_background": "light"
     },
     "output_type": "display_data"
    }
   ],
   "source": [
    "# Plot histograms of numeric features\n",
    "for i in numeric_feature_list:\n",
    "    plt.figure(figsize=(10,6))\n",
    "    plt.hist(df[i],label=i)\n",
    "    plt.legend()\n",
    "    plt.show()"
   ]
  },
  {
   "cell_type": "code",
   "execution_count": 424,
   "metadata": {},
   "outputs": [],
   "source": [
    "# From the above histograms, the 'num_lab_procedures' and 'num_medication' fields exhibit a normal-like distribution\n",
    "# From the SNS plots (a few cells down below), \"age\" is also normally distributed"
   ]
  },
  {
   "cell_type": "code",
   "execution_count": 425,
   "metadata": {},
   "outputs": [
    {
     "data": {
      "text/html": [
       "<div>\n",
       "<style scoped>\n",
       "    .dataframe tbody tr th:only-of-type {\n",
       "        vertical-align: middle;\n",
       "    }\n",
       "\n",
       "    .dataframe tbody tr th {\n",
       "        vertical-align: top;\n",
       "    }\n",
       "\n",
       "    .dataframe thead th {\n",
       "        text-align: right;\n",
       "    }\n",
       "</style>\n",
       "<table border=\"1\" class=\"dataframe\">\n",
       "  <thead>\n",
       "    <tr style=\"text-align: right;\">\n",
       "      <th></th>\n",
       "      <th>columns</th>\n",
       "      <th>cardinality</th>\n",
       "    </tr>\n",
       "  </thead>\n",
       "  <tbody>\n",
       "    <tr>\n",
       "      <th>race</th>\n",
       "      <td>race</td>\n",
       "      <td>6</td>\n",
       "    </tr>\n",
       "    <tr>\n",
       "      <th>gender</th>\n",
       "      <td>gender</td>\n",
       "      <td>2</td>\n",
       "    </tr>\n",
       "    <tr>\n",
       "      <th>age</th>\n",
       "      <td>age</td>\n",
       "      <td>10</td>\n",
       "    </tr>\n",
       "    <tr>\n",
       "      <th>admission_type_id</th>\n",
       "      <td>admission_type_id</td>\n",
       "      <td>8</td>\n",
       "    </tr>\n",
       "    <tr>\n",
       "      <th>discharge_disposition_id</th>\n",
       "      <td>discharge_disposition_id</td>\n",
       "      <td>26</td>\n",
       "    </tr>\n",
       "    <tr>\n",
       "      <th>admission_source_id</th>\n",
       "      <td>admission_source_id</td>\n",
       "      <td>17</td>\n",
       "    </tr>\n",
       "    <tr>\n",
       "      <th>primary_diagnosis_code</th>\n",
       "      <td>primary_diagnosis_code</td>\n",
       "      <td>717</td>\n",
       "    </tr>\n",
       "    <tr>\n",
       "      <th>other_diagnosis_codes</th>\n",
       "      <td>other_diagnosis_codes</td>\n",
       "      <td>19373</td>\n",
       "    </tr>\n",
       "    <tr>\n",
       "      <th>number_outpatient</th>\n",
       "      <td>number_outpatient</td>\n",
       "      <td>39</td>\n",
       "    </tr>\n",
       "    <tr>\n",
       "      <th>number_inpatient</th>\n",
       "      <td>number_inpatient</td>\n",
       "      <td>21</td>\n",
       "    </tr>\n",
       "    <tr>\n",
       "      <th>number_emergency</th>\n",
       "      <td>number_emergency</td>\n",
       "      <td>33</td>\n",
       "    </tr>\n",
       "    <tr>\n",
       "      <th>ndc_code</th>\n",
       "      <td>ndc_code</td>\n",
       "      <td>251</td>\n",
       "    </tr>\n",
       "    <tr>\n",
       "      <th>change</th>\n",
       "      <td>change</td>\n",
       "      <td>2</td>\n",
       "    </tr>\n",
       "    <tr>\n",
       "      <th>readmitted</th>\n",
       "      <td>readmitted</td>\n",
       "      <td>3</td>\n",
       "    </tr>\n",
       "  </tbody>\n",
       "</table>\n",
       "</div>"
      ],
      "text/plain": [
       "                                           columns  cardinality\n",
       "race                                          race            6\n",
       "gender                                      gender            2\n",
       "age                                            age           10\n",
       "admission_type_id                admission_type_id            8\n",
       "discharge_disposition_id  discharge_disposition_id           26\n",
       "admission_source_id            admission_source_id           17\n",
       "primary_diagnosis_code      primary_diagnosis_code          717\n",
       "other_diagnosis_codes        other_diagnosis_codes        19373\n",
       "number_outpatient                number_outpatient           39\n",
       "number_inpatient                  number_inpatient           21\n",
       "number_emergency                  number_emergency           33\n",
       "ndc_code                                  ndc_code          251\n",
       "change                                      change            2\n",
       "readmitted                              readmitted            3"
      ]
     },
     "execution_count": 425,
     "metadata": {},
     "output_type": "execute_result"
    }
   ],
   "source": [
    "# Show cardinality of the categorical features \n",
    "pd.DataFrame({'columns': df[categorical_feature_list].columns, \n",
    "               'cardinality': df[categorical_feature_list].nunique() } )\n",
    "# Diagnosis codes have high cardinality. Also, the 'other_diagnostic_codes' fields has a '|' separator \n",
    "# that is not parsed yet."
   ]
  },
  {
   "cell_type": "code",
   "execution_count": 426,
   "metadata": {},
   "outputs": [
    {
     "data": {
      "text/plain": [
       "array(['Female', 'Male'], dtype=object)"
      ]
     },
     "execution_count": 426,
     "metadata": {},
     "output_type": "execute_result"
    }
   ],
   "source": [
    "df['gender'].unique()\n"
   ]
  },
  {
   "cell_type": "code",
   "execution_count": 427,
   "metadata": {},
   "outputs": [
    {
     "data": {
      "text/plain": [
       "0"
      ]
     },
     "execution_count": 427,
     "metadata": {},
     "output_type": "execute_result"
    }
   ],
   "source": [
    "len(df[df['gender']=='Unknown/Invalid']['gender'])"
   ]
  },
  {
   "cell_type": "code",
   "execution_count": 428,
   "metadata": {},
   "outputs": [
    {
     "data": {
      "text/plain": [
       "143419"
      ]
     },
     "execution_count": 428,
     "metadata": {},
     "output_type": "execute_result"
    }
   ],
   "source": [
    "len(df['gender'])"
   ]
  },
  {
   "cell_type": "code",
   "execution_count": 429,
   "metadata": {},
   "outputs": [
    {
     "data": {
      "text/plain": [
       "<matplotlib.axes._subplots.AxesSubplot at 0x7fb8c7bff450>"
      ]
     },
     "execution_count": 429,
     "metadata": {},
     "output_type": "execute_result"
    },
    {
     "data": {
      "image/png": "[encoded data removed]",
      "text/plain": [
       "<Figure size 432x288 with 1 Axes>"
      ]
     },
     "metadata": {
      "needs_background": "light"
     },
     "output_type": "display_data"
    }
   ],
   "source": [
    "import seaborn as sns\n",
    "\n",
    "df[\"age\"]\n",
    "#sns.boxplot(y=df['gender'])\n",
    "\n",
    "sns.countplot(x=\"age\", data=df)"
   ]
  },
  {
   "cell_type": "code",
   "execution_count": 430,
   "metadata": {},
   "outputs": [
    {
     "data": {
      "text/plain": [
       "<matplotlib.axes._subplots.AxesSubplot at 0x7fb8c7b9cb10>"
      ]
     },
     "execution_count": 430,
     "metadata": {},
     "output_type": "execute_result"
    },
    {
     "data": {
      "image/png": "[encoded data removed]",
      "text/plain": [
       "<Figure size 432x288 with 1 Axes>"
      ]
     },
     "metadata": {
      "needs_background": "light"
     },
     "output_type": "display_data"
    }
   ],
   "source": [
    "sns.countplot(x=\"age\", hue=\"gender\", data=df)"
   ]
  },
  {
   "cell_type": "code",
   "execution_count": 431,
   "metadata": {},
   "outputs": [],
   "source": [
    "######NOTE: The visualization will only display in Chrome browser. ########\n",
    "#full_data_stats = tfdv.generate_statistics_from_csv(data_location='./data/final_project_dataset.csv') \n",
    "#tfdv.visualize_statistics(full_data_stats)"
   ]
  },
  {
   "cell_type": "code",
   "execution_count": null,
   "metadata": {},
   "outputs": [],
   "source": []
  },
  {
   "cell_type": "markdown",
   "metadata": {},
   "source": [
    "## Reduce Dimensionality of the NDC Code Feature"
   ]
  },
  {
   "cell_type": "markdown",
   "metadata": {},
   "source": [
    "**Question 3**: NDC codes are a common format to represent the wide variety of drugs that are prescribed for patient care in the United States. The challenge is that there are many codes that map to the same or similar drug. You are provided with the ndc drug lookup file https://github.com/udacity/nd320-c1-emr-data-starter/blob/master/project/data_schema_references/ndc_lookup_table.csv derived from the National Drug Codes List site(https://ndclist.com/). Please use this file to come up with a way to reduce the dimensionality of this field and create a new field in the dataset called \"generic_drug_name\" in the output dataframe. "
   ]
  },
  {
   "cell_type": "code",
   "execution_count": 432,
   "metadata": {},
   "outputs": [],
   "source": [
    "#NDC code lookup file\n",
    "ndc_code_path = \"./medication_lookup_tables/final_ndc_lookup_table\"\n",
    "ndc_code_df = pd.read_csv(ndc_code_path)"
   ]
  },
  {
   "cell_type": "code",
   "execution_count": 433,
   "metadata": {},
   "outputs": [
    {
     "data": {
      "text/html": [
       "<div>\n",
       "<style scoped>\n",
       "    .dataframe tbody tr th:only-of-type {\n",
       "        vertical-align: middle;\n",
       "    }\n",
       "\n",
       "    .dataframe tbody tr th {\n",
       "        vertical-align: top;\n",
       "    }\n",
       "\n",
       "    .dataframe thead th {\n",
       "        text-align: right;\n",
       "    }\n",
       "</style>\n",
       "<table border=\"1\" class=\"dataframe\">\n",
       "  <thead>\n",
       "    <tr style=\"text-align: right;\">\n",
       "      <th></th>\n",
       "      <th>NDC_Code</th>\n",
       "      <th>Proprietary Name</th>\n",
       "      <th>Non-proprietary Name</th>\n",
       "      <th>Dosage Form</th>\n",
       "      <th>Route Name</th>\n",
       "      <th>Company Name</th>\n",
       "      <th>Product Type</th>\n",
       "    </tr>\n",
       "  </thead>\n",
       "  <tbody>\n",
       "    <tr>\n",
       "      <th>0</th>\n",
       "      <td>0087-6060</td>\n",
       "      <td>Glucophage</td>\n",
       "      <td>Metformin Hydrochloride</td>\n",
       "      <td>Tablet, Film Coated</td>\n",
       "      <td>Oral</td>\n",
       "      <td>Bristol-myers Squibb Company</td>\n",
       "      <td>Human Prescription Drug</td>\n",
       "    </tr>\n",
       "    <tr>\n",
       "      <th>1</th>\n",
       "      <td>0087-6063</td>\n",
       "      <td>Glucophage XR</td>\n",
       "      <td>Metformin Hydrochloride</td>\n",
       "      <td>Tablet, Extended Release</td>\n",
       "      <td>Oral</td>\n",
       "      <td>Bristol-myers Squibb Company</td>\n",
       "      <td>Human Prescription Drug</td>\n",
       "    </tr>\n",
       "    <tr>\n",
       "      <th>2</th>\n",
       "      <td>0087-6064</td>\n",
       "      <td>Glucophage XR</td>\n",
       "      <td>Metformin Hydrochloride</td>\n",
       "      <td>Tablet, Extended Release</td>\n",
       "      <td>Oral</td>\n",
       "      <td>Bristol-myers Squibb Company</td>\n",
       "      <td>Human Prescription Drug</td>\n",
       "    </tr>\n",
       "    <tr>\n",
       "      <th>3</th>\n",
       "      <td>0087-6070</td>\n",
       "      <td>Glucophage</td>\n",
       "      <td>Metformin Hydrochloride</td>\n",
       "      <td>Tablet, Film Coated</td>\n",
       "      <td>Oral</td>\n",
       "      <td>Bristol-myers Squibb Company</td>\n",
       "      <td>Human Prescription Drug</td>\n",
       "    </tr>\n",
       "    <tr>\n",
       "      <th>4</th>\n",
       "      <td>0087-6071</td>\n",
       "      <td>Glucophage</td>\n",
       "      <td>Metformin Hydrochloride</td>\n",
       "      <td>Tablet, Film Coated</td>\n",
       "      <td>Oral</td>\n",
       "      <td>Bristol-myers Squibb Company</td>\n",
       "      <td>Human Prescription Drug</td>\n",
       "    </tr>\n",
       "    <tr>\n",
       "      <th>...</th>\n",
       "      <td>...</td>\n",
       "      <td>...</td>\n",
       "      <td>...</td>\n",
       "      <td>...</td>\n",
       "      <td>...</td>\n",
       "      <td>...</td>\n",
       "      <td>...</td>\n",
       "    </tr>\n",
       "    <tr>\n",
       "      <th>264</th>\n",
       "      <td>0781-5635</td>\n",
       "      <td>Pioglitazone Hydrochloride And Glimepiride</td>\n",
       "      <td>Pioglitazone Hydrochloride And Glimepiride</td>\n",
       "      <td>Tablet</td>\n",
       "      <td>Oral</td>\n",
       "      <td>Sandoz Inc</td>\n",
       "      <td>Human Prescription Drug</td>\n",
       "    </tr>\n",
       "    <tr>\n",
       "      <th>265</th>\n",
       "      <td>64764-302</td>\n",
       "      <td>Duetact</td>\n",
       "      <td>Pioglitazone And Glimepiride</td>\n",
       "      <td>Tablet</td>\n",
       "      <td>Oral</td>\n",
       "      <td>Takeda Pharmaceuticals America, Inc.</td>\n",
       "      <td>Human Prescription Drug</td>\n",
       "    </tr>\n",
       "    <tr>\n",
       "      <th>266</th>\n",
       "      <td>64764-304</td>\n",
       "      <td>Duetact</td>\n",
       "      <td>Pioglitazone And Glimepiride</td>\n",
       "      <td>Tablet</td>\n",
       "      <td>Oral</td>\n",
       "      <td>Takeda Pharmaceuticals America, Inc.</td>\n",
       "      <td>Human Prescription Drug</td>\n",
       "    </tr>\n",
       "    <tr>\n",
       "      <th>267</th>\n",
       "      <td>66993-821</td>\n",
       "      <td>Pioglitazone And Glimepiride</td>\n",
       "      <td>Pioglitazone And Glimepiride</td>\n",
       "      <td>Tablet</td>\n",
       "      <td>Oral</td>\n",
       "      <td>Prasco Laboratories</td>\n",
       "      <td>Human Prescription Drug</td>\n",
       "    </tr>\n",
       "    <tr>\n",
       "      <th>268</th>\n",
       "      <td>66993-822</td>\n",
       "      <td>Pioglitazone And Glimepiride</td>\n",
       "      <td>Pioglitazone And Glimepiride</td>\n",
       "      <td>Tablet</td>\n",
       "      <td>Oral</td>\n",
       "      <td>Prasco Laboratories</td>\n",
       "      <td>Human Prescription Drug</td>\n",
       "    </tr>\n",
       "  </tbody>\n",
       "</table>\n",
       "<p>269 rows × 7 columns</p>\n",
       "</div>"
      ],
      "text/plain": [
       "      NDC_Code                            Proprietary Name  \\\n",
       "0    0087-6060                                  Glucophage   \n",
       "1    0087-6063                               Glucophage XR   \n",
       "2    0087-6064                               Glucophage XR   \n",
       "3    0087-6070                                  Glucophage   \n",
       "4    0087-6071                                  Glucophage   \n",
       "..         ...                                         ...   \n",
       "264  0781-5635  Pioglitazone Hydrochloride And Glimepiride   \n",
       "265  64764-302                                     Duetact   \n",
       "266  64764-304                                     Duetact   \n",
       "267  66993-821                Pioglitazone And Glimepiride   \n",
       "268  66993-822                Pioglitazone And Glimepiride   \n",
       "\n",
       "                           Non-proprietary Name               Dosage Form  \\\n",
       "0                       Metformin Hydrochloride       Tablet, Film Coated   \n",
       "1                       Metformin Hydrochloride  Tablet, Extended Release   \n",
       "2                       Metformin Hydrochloride  Tablet, Extended Release   \n",
       "3                       Metformin Hydrochloride       Tablet, Film Coated   \n",
       "4                       Metformin Hydrochloride       Tablet, Film Coated   \n",
       "..                                          ...                       ...   \n",
       "264  Pioglitazone Hydrochloride And Glimepiride                    Tablet   \n",
       "265                Pioglitazone And Glimepiride                    Tablet   \n",
       "266                Pioglitazone And Glimepiride                    Tablet   \n",
       "267                Pioglitazone And Glimepiride                    Tablet   \n",
       "268                Pioglitazone And Glimepiride                    Tablet   \n",
       "\n",
       "    Route Name                          Company Name             Product Type  \n",
       "0         Oral          Bristol-myers Squibb Company  Human Prescription Drug  \n",
       "1         Oral          Bristol-myers Squibb Company  Human Prescription Drug  \n",
       "2         Oral          Bristol-myers Squibb Company  Human Prescription Drug  \n",
       "3         Oral          Bristol-myers Squibb Company  Human Prescription Drug  \n",
       "4         Oral          Bristol-myers Squibb Company  Human Prescription Drug  \n",
       "..         ...                                   ...                      ...  \n",
       "264       Oral                            Sandoz Inc  Human Prescription Drug  \n",
       "265       Oral  Takeda Pharmaceuticals America, Inc.  Human Prescription Drug  \n",
       "266       Oral  Takeda Pharmaceuticals America, Inc.  Human Prescription Drug  \n",
       "267       Oral                   Prasco Laboratories  Human Prescription Drug  \n",
       "268       Oral                   Prasco Laboratories  Human Prescription Drug  \n",
       "\n",
       "[269 rows x 7 columns]"
      ]
     },
     "execution_count": 433,
     "metadata": {},
     "output_type": "execute_result"
    }
   ],
   "source": [
    "ndc_code_df"
   ]
  },
  {
   "cell_type": "code",
   "execution_count": 434,
   "metadata": {},
   "outputs": [],
   "source": [
    "from student_utils import reduce_dimension_ndc\n",
    "\n",
    "reduce_dim_df = reduce_dimension_ndc(df, ndc_code_df)"
   ]
  },
  {
   "cell_type": "code",
   "execution_count": 435,
   "metadata": {},
   "outputs": [
    {
     "data": {
      "text/plain": [
       "(143477, 22)"
      ]
     },
     "execution_count": 435,
     "metadata": {},
     "output_type": "execute_result"
    }
   ],
   "source": [
    "reduce_dim_df.shape"
   ]
  },
  {
   "cell_type": "code",
   "execution_count": 436,
   "metadata": {},
   "outputs": [
    {
     "data": {
      "text/plain": [
       "(143419, 21)"
      ]
     },
     "execution_count": 436,
     "metadata": {},
     "output_type": "execute_result"
    }
   ],
   "source": [
    "df.shape"
   ]
  },
  {
   "cell_type": "code",
   "execution_count": 437,
   "metadata": {},
   "outputs": [
    {
     "data": {
      "text/plain": [
       "encounter_id                101763\n",
       "patient_nbr                  71515\n",
       "race                             6\n",
       "gender                           2\n",
       "age                             10\n",
       "admission_type_id                8\n",
       "discharge_disposition_id        26\n",
       "admission_source_id             17\n",
       "time_in_hospital                14\n",
       "primary_diagnosis_code         717\n",
       "other_diagnosis_codes        19373\n",
       "number_outpatient               39\n",
       "number_inpatient                21\n",
       "number_emergency                33\n",
       "num_lab_procedures             118\n",
       "number_diagnoses                16\n",
       "num_medications                 75\n",
       "num_procedures                   7\n",
       "ndc_code                       251\n",
       "change                           2\n",
       "readmitted                       3\n",
       "dtype: int64"
      ]
     },
     "execution_count": 437,
     "metadata": {},
     "output_type": "execute_result"
    }
   ],
   "source": [
    "df.nunique()"
   ]
  },
  {
   "cell_type": "code",
   "execution_count": 438,
   "metadata": {
    "scrolled": true
   },
   "outputs": [
    {
     "data": {
      "text/plain": [
       "encounter_id                101763\n",
       "patient_nbr                  71515\n",
       "race                             6\n",
       "gender                           2\n",
       "age                             10\n",
       "admission_type_id                8\n",
       "discharge_disposition_id        26\n",
       "admission_source_id             17\n",
       "time_in_hospital                14\n",
       "primary_diagnosis_code         717\n",
       "other_diagnosis_codes        19373\n",
       "number_outpatient               39\n",
       "number_inpatient                21\n",
       "number_emergency                33\n",
       "num_lab_procedures             118\n",
       "number_diagnoses                16\n",
       "num_medications                 75\n",
       "num_procedures                   7\n",
       "ndc_code                       251\n",
       "change                           2\n",
       "readmitted                       3\n",
       "generic_drug_name               22\n",
       "dtype: int64"
      ]
     },
     "execution_count": 438,
     "metadata": {},
     "output_type": "execute_result"
    }
   ],
   "source": [
    "reduce_dim_df.nunique()"
   ]
  },
  {
   "cell_type": "code",
   "execution_count": 439,
   "metadata": {},
   "outputs": [],
   "source": [
    "# Number of unique values should be less for the new output field\n",
    "assert df['ndc_code'].nunique() > reduce_dim_df['generic_drug_name'].nunique()"
   ]
  },
  {
   "cell_type": "markdown",
   "metadata": {},
   "source": [
    "## Select First Encounter for each Patient "
   ]
  },
  {
   "cell_type": "markdown",
   "metadata": {},
   "source": [
    "**Question 4**: In order to simplify the aggregation of data for the model, we will only select the first encounter for each patient in the dataset. This is to reduce the risk of data leakage of future patient encounters and to reduce complexity of the data transformation and modeling steps. We will assume that sorting in numerical order on the encounter_id provides the time horizon for determining which encounters come before and after another."
   ]
  },
  {
   "cell_type": "code",
   "execution_count": 440,
   "metadata": {},
   "outputs": [],
   "source": [
    "from student_utils import select_first_encounter\n",
    "\n",
    "#print (len(df))\n",
    "#print (len(first_encounter_df))\n",
    "#print (df['patient_nbr'].nunique())\n",
    "#print (first_encounter['patient_nbr'].nunique())\n",
    "#print (first_encounter['encounter_id'].nunique())\n",
    "\n",
    "first_encounter_df = select_first_encounter(reduce_dim_df)"
   ]
  },
  {
   "cell_type": "code",
   "execution_count": 441,
   "metadata": {},
   "outputs": [
    {
     "data": {
      "text/html": [
       "<div>\n",
       "<style scoped>\n",
       "    .dataframe tbody tr th:only-of-type {\n",
       "        vertical-align: middle;\n",
       "    }\n",
       "\n",
       "    .dataframe tbody tr th {\n",
       "        vertical-align: top;\n",
       "    }\n",
       "\n",
       "    .dataframe thead th {\n",
       "        text-align: right;\n",
       "    }\n",
       "</style>\n",
       "<table border=\"1\" class=\"dataframe\">\n",
       "  <thead>\n",
       "    <tr style=\"text-align: right;\">\n",
       "      <th></th>\n",
       "      <th>encounter_id</th>\n",
       "      <th>patient_nbr</th>\n",
       "      <th>race</th>\n",
       "      <th>gender</th>\n",
       "      <th>age</th>\n",
       "      <th>admission_type_id</th>\n",
       "      <th>discharge_disposition_id</th>\n",
       "      <th>admission_source_id</th>\n",
       "      <th>time_in_hospital</th>\n",
       "      <th>primary_diagnosis_code</th>\n",
       "      <th>other_diagnosis_codes</th>\n",
       "      <th>number_outpatient</th>\n",
       "      <th>number_inpatient</th>\n",
       "      <th>number_emergency</th>\n",
       "      <th>num_lab_procedures</th>\n",
       "      <th>number_diagnoses</th>\n",
       "      <th>num_medications</th>\n",
       "      <th>num_procedures</th>\n",
       "      <th>ndc_code</th>\n",
       "      <th>change</th>\n",
       "      <th>readmitted</th>\n",
       "      <th>generic_drug_name</th>\n",
       "    </tr>\n",
       "  </thead>\n",
       "  <tbody>\n",
       "    <tr>\n",
       "      <th>12</th>\n",
       "      <td>12522</td>\n",
       "      <td>48330783</td>\n",
       "      <td>Caucasian</td>\n",
       "      <td>Female</td>\n",
       "      <td>[80-90)</td>\n",
       "      <td>2</td>\n",
       "      <td>1</td>\n",
       "      <td>4</td>\n",
       "      <td>13</td>\n",
       "      <td>398</td>\n",
       "      <td>427|38</td>\n",
       "      <td>0</td>\n",
       "      <td>0</td>\n",
       "      <td>0</td>\n",
       "      <td>68</td>\n",
       "      <td>8</td>\n",
       "      <td>28</td>\n",
       "      <td>2</td>\n",
       "      <td>47918-902</td>\n",
       "      <td>Ch</td>\n",
       "      <td>NO</td>\n",
       "      <td>Insulin Human</td>\n",
       "    </tr>\n",
       "    <tr>\n",
       "      <th>14</th>\n",
       "      <td>15738</td>\n",
       "      <td>63555939</td>\n",
       "      <td>Caucasian</td>\n",
       "      <td>Female</td>\n",
       "      <td>[90-100)</td>\n",
       "      <td>3</td>\n",
       "      <td>3</td>\n",
       "      <td>4</td>\n",
       "      <td>12</td>\n",
       "      <td>434</td>\n",
       "      <td>198|486</td>\n",
       "      <td>0</td>\n",
       "      <td>0</td>\n",
       "      <td>0</td>\n",
       "      <td>33</td>\n",
       "      <td>8</td>\n",
       "      <td>18</td>\n",
       "      <td>3</td>\n",
       "      <td>68071-1701</td>\n",
       "      <td>Ch</td>\n",
       "      <td>NO</td>\n",
       "      <td>Human Insulin</td>\n",
       "    </tr>\n",
       "    <tr>\n",
       "      <th>4</th>\n",
       "      <td>16680</td>\n",
       "      <td>42519267</td>\n",
       "      <td>Caucasian</td>\n",
       "      <td>Male</td>\n",
       "      <td>[40-50)</td>\n",
       "      <td>1</td>\n",
       "      <td>1</td>\n",
       "      <td>7</td>\n",
       "      <td>1</td>\n",
       "      <td>197</td>\n",
       "      <td>157|250</td>\n",
       "      <td>0</td>\n",
       "      <td>0</td>\n",
       "      <td>0</td>\n",
       "      <td>51</td>\n",
       "      <td>5</td>\n",
       "      <td>8</td>\n",
       "      <td>0</td>\n",
       "      <td>0049-4110</td>\n",
       "      <td>Ch</td>\n",
       "      <td>NO</td>\n",
       "      <td>Glipizide</td>\n",
       "    </tr>\n",
       "    <tr>\n",
       "      <th>15</th>\n",
       "      <td>28236</td>\n",
       "      <td>89869032</td>\n",
       "      <td>AfricanAmerican</td>\n",
       "      <td>Female</td>\n",
       "      <td>[40-50)</td>\n",
       "      <td>1</td>\n",
       "      <td>1</td>\n",
       "      <td>7</td>\n",
       "      <td>9</td>\n",
       "      <td>250.7</td>\n",
       "      <td>403|996</td>\n",
       "      <td>0</td>\n",
       "      <td>0</td>\n",
       "      <td>0</td>\n",
       "      <td>47</td>\n",
       "      <td>9</td>\n",
       "      <td>17</td>\n",
       "      <td>2</td>\n",
       "      <td>68071-1701</td>\n",
       "      <td>No</td>\n",
       "      <td>&gt;30</td>\n",
       "      <td>Human Insulin</td>\n",
       "    </tr>\n",
       "    <tr>\n",
       "      <th>6</th>\n",
       "      <td>35754</td>\n",
       "      <td>82637451</td>\n",
       "      <td>Caucasian</td>\n",
       "      <td>Male</td>\n",
       "      <td>[50-60)</td>\n",
       "      <td>2</td>\n",
       "      <td>1</td>\n",
       "      <td>2</td>\n",
       "      <td>3</td>\n",
       "      <td>414</td>\n",
       "      <td>411|250</td>\n",
       "      <td>0</td>\n",
       "      <td>0</td>\n",
       "      <td>0</td>\n",
       "      <td>31</td>\n",
       "      <td>9</td>\n",
       "      <td>16</td>\n",
       "      <td>6</td>\n",
       "      <td>47918-902</td>\n",
       "      <td>No</td>\n",
       "      <td>&gt;30</td>\n",
       "      <td>Insulin Human</td>\n",
       "    </tr>\n",
       "    <tr>\n",
       "      <th>...</th>\n",
       "      <td>...</td>\n",
       "      <td>...</td>\n",
       "      <td>...</td>\n",
       "      <td>...</td>\n",
       "      <td>...</td>\n",
       "      <td>...</td>\n",
       "      <td>...</td>\n",
       "      <td>...</td>\n",
       "      <td>...</td>\n",
       "      <td>...</td>\n",
       "      <td>...</td>\n",
       "      <td>...</td>\n",
       "      <td>...</td>\n",
       "      <td>...</td>\n",
       "      <td>...</td>\n",
       "      <td>...</td>\n",
       "      <td>...</td>\n",
       "      <td>...</td>\n",
       "      <td>...</td>\n",
       "      <td>...</td>\n",
       "      <td>...</td>\n",
       "      <td>...</td>\n",
       "    </tr>\n",
       "    <tr>\n",
       "      <th>143458</th>\n",
       "      <td>443842016</td>\n",
       "      <td>183087545</td>\n",
       "      <td>Caucasian</td>\n",
       "      <td>Female</td>\n",
       "      <td>[70-80)</td>\n",
       "      <td>1</td>\n",
       "      <td>1</td>\n",
       "      <td>7</td>\n",
       "      <td>9</td>\n",
       "      <td>574</td>\n",
       "      <td>574|250.02</td>\n",
       "      <td>0</td>\n",
       "      <td>0</td>\n",
       "      <td>0</td>\n",
       "      <td>50</td>\n",
       "      <td>9</td>\n",
       "      <td>33</td>\n",
       "      <td>2</td>\n",
       "      <td>0009-3449</td>\n",
       "      <td>Ch</td>\n",
       "      <td>&gt;30</td>\n",
       "      <td>Glyburide</td>\n",
       "    </tr>\n",
       "    <tr>\n",
       "      <th>143460</th>\n",
       "      <td>443842022</td>\n",
       "      <td>188574944</td>\n",
       "      <td>Other</td>\n",
       "      <td>Female</td>\n",
       "      <td>[40-50)</td>\n",
       "      <td>1</td>\n",
       "      <td>1</td>\n",
       "      <td>7</td>\n",
       "      <td>14</td>\n",
       "      <td>592</td>\n",
       "      <td>599|518</td>\n",
       "      <td>0</td>\n",
       "      <td>0</td>\n",
       "      <td>1</td>\n",
       "      <td>73</td>\n",
       "      <td>9</td>\n",
       "      <td>26</td>\n",
       "      <td>6</td>\n",
       "      <td>0049-0178</td>\n",
       "      <td>Ch</td>\n",
       "      <td>&gt;30</td>\n",
       "      <td>Glipizide</td>\n",
       "    </tr>\n",
       "    <tr>\n",
       "      <th>143462</th>\n",
       "      <td>443842070</td>\n",
       "      <td>140199494</td>\n",
       "      <td>Other</td>\n",
       "      <td>Female</td>\n",
       "      <td>[60-70)</td>\n",
       "      <td>1</td>\n",
       "      <td>1</td>\n",
       "      <td>7</td>\n",
       "      <td>2</td>\n",
       "      <td>996</td>\n",
       "      <td>585|403</td>\n",
       "      <td>1</td>\n",
       "      <td>1</td>\n",
       "      <td>1</td>\n",
       "      <td>46</td>\n",
       "      <td>9</td>\n",
       "      <td>17</td>\n",
       "      <td>6</td>\n",
       "      <td>47918-902</td>\n",
       "      <td>No</td>\n",
       "      <td>&gt;30</td>\n",
       "      <td>Insulin Human</td>\n",
       "    </tr>\n",
       "    <tr>\n",
       "      <th>143464</th>\n",
       "      <td>443842340</td>\n",
       "      <td>120975314</td>\n",
       "      <td>Caucasian</td>\n",
       "      <td>Female</td>\n",
       "      <td>[80-90)</td>\n",
       "      <td>1</td>\n",
       "      <td>1</td>\n",
       "      <td>7</td>\n",
       "      <td>5</td>\n",
       "      <td>292</td>\n",
       "      <td>8|304</td>\n",
       "      <td>0</td>\n",
       "      <td>0</td>\n",
       "      <td>1</td>\n",
       "      <td>76</td>\n",
       "      <td>9</td>\n",
       "      <td>22</td>\n",
       "      <td>1</td>\n",
       "      <td>47918-902</td>\n",
       "      <td>Ch</td>\n",
       "      <td>NO</td>\n",
       "      <td>Insulin Human</td>\n",
       "    </tr>\n",
       "    <tr>\n",
       "      <th>143476</th>\n",
       "      <td>443867222</td>\n",
       "      <td>175429310</td>\n",
       "      <td>Caucasian</td>\n",
       "      <td>Male</td>\n",
       "      <td>[70-80)</td>\n",
       "      <td>1</td>\n",
       "      <td>1</td>\n",
       "      <td>7</td>\n",
       "      <td>6</td>\n",
       "      <td>530</td>\n",
       "      <td>530|787</td>\n",
       "      <td>0</td>\n",
       "      <td>0</td>\n",
       "      <td>0</td>\n",
       "      <td>13</td>\n",
       "      <td>9</td>\n",
       "      <td>3</td>\n",
       "      <td>3</td>\n",
       "      <td>NaN</td>\n",
       "      <td>No</td>\n",
       "      <td>NO</td>\n",
       "      <td>NaN</td>\n",
       "    </tr>\n",
       "  </tbody>\n",
       "</table>\n",
       "<p>71515 rows × 22 columns</p>\n",
       "</div>"
      ],
      "text/plain": [
       "        encounter_id  patient_nbr             race  gender       age  \\\n",
       "12             12522     48330783        Caucasian  Female   [80-90)   \n",
       "14             15738     63555939        Caucasian  Female  [90-100)   \n",
       "4              16680     42519267        Caucasian    Male   [40-50)   \n",
       "15             28236     89869032  AfricanAmerican  Female   [40-50)   \n",
       "6              35754     82637451        Caucasian    Male   [50-60)   \n",
       "...              ...          ...              ...     ...       ...   \n",
       "143458     443842016    183087545        Caucasian  Female   [70-80)   \n",
       "143460     443842022    188574944            Other  Female   [40-50)   \n",
       "143462     443842070    140199494            Other  Female   [60-70)   \n",
       "143464     443842340    120975314        Caucasian  Female   [80-90)   \n",
       "143476     443867222    175429310        Caucasian    Male   [70-80)   \n",
       "\n",
       "        admission_type_id  discharge_disposition_id  admission_source_id  \\\n",
       "12                      2                         1                    4   \n",
       "14                      3                         3                    4   \n",
       "4                       1                         1                    7   \n",
       "15                      1                         1                    7   \n",
       "6                       2                         1                    2   \n",
       "...                   ...                       ...                  ...   \n",
       "143458                  1                         1                    7   \n",
       "143460                  1                         1                    7   \n",
       "143462                  1                         1                    7   \n",
       "143464                  1                         1                    7   \n",
       "143476                  1                         1                    7   \n",
       "\n",
       "        time_in_hospital primary_diagnosis_code other_diagnosis_codes  \\\n",
       "12                    13                    398                427|38   \n",
       "14                    12                    434               198|486   \n",
       "4                      1                    197               157|250   \n",
       "15                     9                  250.7               403|996   \n",
       "6                      3                    414               411|250   \n",
       "...                  ...                    ...                   ...   \n",
       "143458                 9                    574            574|250.02   \n",
       "143460                14                    592               599|518   \n",
       "143462                 2                    996               585|403   \n",
       "143464                 5                    292                 8|304   \n",
       "143476                 6                    530               530|787   \n",
       "\n",
       "        number_outpatient  number_inpatient  number_emergency  \\\n",
       "12                      0                 0                 0   \n",
       "14                      0                 0                 0   \n",
       "4                       0                 0                 0   \n",
       "15                      0                 0                 0   \n",
       "6                       0                 0                 0   \n",
       "...                   ...               ...               ...   \n",
       "143458                  0                 0                 0   \n",
       "143460                  0                 0                 1   \n",
       "143462                  1                 1                 1   \n",
       "143464                  0                 0                 1   \n",
       "143476                  0                 0                 0   \n",
       "\n",
       "        num_lab_procedures  number_diagnoses  num_medications  num_procedures  \\\n",
       "12                      68                 8               28               2   \n",
       "14                      33                 8               18               3   \n",
       "4                       51                 5                8               0   \n",
       "15                      47                 9               17               2   \n",
       "6                       31                 9               16               6   \n",
       "...                    ...               ...              ...             ...   \n",
       "143458                  50                 9               33               2   \n",
       "143460                  73                 9               26               6   \n",
       "143462                  46                 9               17               6   \n",
       "143464                  76                 9               22               1   \n",
       "143476                  13                 9                3               3   \n",
       "\n",
       "          ndc_code change readmitted generic_drug_name  \n",
       "12       47918-902     Ch         NO     Insulin Human  \n",
       "14      68071-1701     Ch         NO     Human Insulin  \n",
       "4        0049-4110     Ch         NO         Glipizide  \n",
       "15      68071-1701     No        >30     Human Insulin  \n",
       "6        47918-902     No        >30     Insulin Human  \n",
       "...            ...    ...        ...               ...  \n",
       "143458   0009-3449     Ch        >30         Glyburide  \n",
       "143460   0049-0178     Ch        >30         Glipizide  \n",
       "143462   47918-902     No        >30     Insulin Human  \n",
       "143464   47918-902     Ch         NO     Insulin Human  \n",
       "143476         NaN     No         NO               NaN  \n",
       "\n",
       "[71515 rows x 22 columns]"
      ]
     },
     "execution_count": 441,
     "metadata": {},
     "output_type": "execute_result"
    }
   ],
   "source": [
    "first_encounter_df"
   ]
  },
  {
   "cell_type": "code",
   "execution_count": 442,
   "metadata": {},
   "outputs": [
    {
     "name": "stdout",
     "output_type": "stream",
     "text": [
      "Number of unique patients:71515\n",
      "Number of unique encounters:71515\n",
      "Tests passed!!\n"
     ]
    }
   ],
   "source": [
    "# unique patients in transformed dataset\n",
    "unique_patients = first_encounter_df['patient_nbr'].nunique()\n",
    "print(\"Number of unique patients:{}\".format(unique_patients))\n",
    "\n",
    "# unique encounters in transformed dataset\n",
    "unique_encounters = first_encounter_df['encounter_id'].nunique()\n",
    "print(\"Number of unique encounters:{}\".format(unique_encounters))\n",
    "\n",
    "original_unique_patient_number = reduce_dim_df['patient_nbr'].nunique()\n",
    "# number of unique patients should be equal to the number of unique encounters and patients in the final dataset\n",
    "assert original_unique_patient_number == unique_patients\n",
    "assert original_unique_patient_number == unique_encounters\n",
    "print(\"Tests passed!!\")"
   ]
  },
  {
   "cell_type": "markdown",
   "metadata": {},
   "source": [
    "## Aggregate Dataset to Right Level for Modeling "
   ]
  },
  {
   "cell_type": "markdown",
   "metadata": {},
   "source": [
    "In order to provide a broad scope of the steps and to prevent students from getting stuck with data transformations, we have selected the aggregation columns and provided a function to build the dataset at the appropriate level. The 'aggregate_dataset\" function that you can find in the 'utils.py' file can take the preceding dataframe with the 'generic_drug_name' field and transform the data appropriately for the project. \n",
    "\n",
    "To make it simpler for students, we are creating dummy columns for each unique generic drug name and adding those are input features to the model. There are other options for data representation but this is out of scope for the time constraints of the course."
   ]
  },
  {
   "cell_type": "code",
   "execution_count": 443,
   "metadata": {},
   "outputs": [
    {
     "name": "stderr",
     "output_type": "stream",
     "text": [
      "/home/workspace/starter_code/utils.py:10: FutureWarning: Indexing with multiple keys (implicitly converted to a tuple of keys) will be deprecated, use a list instead.\n",
      "  array_field].apply(lambda x: x[array_field].values.tolist()).reset_index().rename(columns={\n"
     ]
    }
   ],
   "source": [
    "exclusion_list = ['generic_drug_name']\n",
    "grouping_field_list = [c for c in first_encounter_df.columns if c not in exclusion_list]\n",
    "agg_drug_df, ndc_col_list = aggregate_dataset(first_encounter_df, grouping_field_list, 'generic_drug_name')"
   ]
  },
  {
   "cell_type": "code",
   "execution_count": 444,
   "metadata": {},
   "outputs": [],
   "source": [
    "assert len(agg_drug_df) == agg_drug_df['patient_nbr'].nunique() == agg_drug_df['encounter_id'].nunique()"
   ]
  },
  {
   "cell_type": "code",
   "execution_count": 445,
   "metadata": {},
   "outputs": [
    {
     "data": {
      "text/html": [
       "<div>\n",
       "<style scoped>\n",
       "    .dataframe tbody tr th:only-of-type {\n",
       "        vertical-align: middle;\n",
       "    }\n",
       "\n",
       "    .dataframe tbody tr th {\n",
       "        vertical-align: top;\n",
       "    }\n",
       "\n",
       "    .dataframe thead th {\n",
       "        text-align: right;\n",
       "    }\n",
       "</style>\n",
       "<table border=\"1\" class=\"dataframe\">\n",
       "  <thead>\n",
       "    <tr style=\"text-align: right;\">\n",
       "      <th></th>\n",
       "      <th>encounter_id</th>\n",
       "      <th>patient_nbr</th>\n",
       "      <th>race</th>\n",
       "      <th>gender</th>\n",
       "      <th>age</th>\n",
       "      <th>admission_type_id</th>\n",
       "      <th>discharge_disposition_id</th>\n",
       "      <th>admission_source_id</th>\n",
       "      <th>time_in_hospital</th>\n",
       "      <th>primary_diagnosis_code</th>\n",
       "      <th>other_diagnosis_codes</th>\n",
       "      <th>number_outpatient</th>\n",
       "      <th>number_inpatient</th>\n",
       "      <th>number_emergency</th>\n",
       "      <th>num_lab_procedures</th>\n",
       "      <th>number_diagnoses</th>\n",
       "      <th>num_medications</th>\n",
       "      <th>num_procedures</th>\n",
       "      <th>ndc_code</th>\n",
       "      <th>change</th>\n",
       "      <th>readmitted</th>\n",
       "      <th>generic_drug_name_array</th>\n",
       "      <th>Acarbose</th>\n",
       "      <th>Glimepiride</th>\n",
       "      <th>Glipizide</th>\n",
       "      <th>Glipizide_And_Metformin_Hcl</th>\n",
       "      <th>Glipizide_And_Metformin_Hydrochloride</th>\n",
       "      <th>Glyburide</th>\n",
       "      <th>Glyburide_And_Metformin_Hydrochloride</th>\n",
       "      <th>Glyburide-metformin_Hydrochloride</th>\n",
       "      <th>Human_Insulin</th>\n",
       "      <th>Insulin_Human</th>\n",
       "      <th>Metformin_Hcl</th>\n",
       "      <th>Metformin_Hydrochloride</th>\n",
       "      <th>Miglitol</th>\n",
       "      <th>Nateglinide</th>\n",
       "      <th>Pioglitazone</th>\n",
       "      <th>Pioglitazone_Hydrochloride_And_Glimepiride</th>\n",
       "      <th>Repaglinide</th>\n",
       "      <th>Rosiglitazone_Maleate</th>\n",
       "      <th>Tolazamide</th>\n",
       "      <th>Tolbutamide</th>\n",
       "    </tr>\n",
       "  </thead>\n",
       "  <tbody>\n",
       "    <tr>\n",
       "      <th>0</th>\n",
       "      <td>12522</td>\n",
       "      <td>48330783</td>\n",
       "      <td>Caucasian</td>\n",
       "      <td>Female</td>\n",
       "      <td>[80-90)</td>\n",
       "      <td>2</td>\n",
       "      <td>1</td>\n",
       "      <td>4</td>\n",
       "      <td>13</td>\n",
       "      <td>398</td>\n",
       "      <td>427|38</td>\n",
       "      <td>0</td>\n",
       "      <td>0</td>\n",
       "      <td>0</td>\n",
       "      <td>68</td>\n",
       "      <td>8</td>\n",
       "      <td>28</td>\n",
       "      <td>2</td>\n",
       "      <td>47918-902</td>\n",
       "      <td>Ch</td>\n",
       "      <td>NO</td>\n",
       "      <td>[Insulin Human]</td>\n",
       "      <td>0</td>\n",
       "      <td>0</td>\n",
       "      <td>0</td>\n",
       "      <td>0</td>\n",
       "      <td>0</td>\n",
       "      <td>0</td>\n",
       "      <td>0</td>\n",
       "      <td>0</td>\n",
       "      <td>0</td>\n",
       "      <td>1</td>\n",
       "      <td>0</td>\n",
       "      <td>0</td>\n",
       "      <td>0</td>\n",
       "      <td>0</td>\n",
       "      <td>0</td>\n",
       "      <td>0</td>\n",
       "      <td>0</td>\n",
       "      <td>0</td>\n",
       "      <td>0</td>\n",
       "      <td>0</td>\n",
       "    </tr>\n",
       "    <tr>\n",
       "      <th>1</th>\n",
       "      <td>15738</td>\n",
       "      <td>63555939</td>\n",
       "      <td>Caucasian</td>\n",
       "      <td>Female</td>\n",
       "      <td>[90-100)</td>\n",
       "      <td>3</td>\n",
       "      <td>3</td>\n",
       "      <td>4</td>\n",
       "      <td>12</td>\n",
       "      <td>434</td>\n",
       "      <td>198|486</td>\n",
       "      <td>0</td>\n",
       "      <td>0</td>\n",
       "      <td>0</td>\n",
       "      <td>33</td>\n",
       "      <td>8</td>\n",
       "      <td>18</td>\n",
       "      <td>3</td>\n",
       "      <td>68071-1701</td>\n",
       "      <td>Ch</td>\n",
       "      <td>NO</td>\n",
       "      <td>[Human Insulin]</td>\n",
       "      <td>0</td>\n",
       "      <td>0</td>\n",
       "      <td>0</td>\n",
       "      <td>0</td>\n",
       "      <td>0</td>\n",
       "      <td>0</td>\n",
       "      <td>0</td>\n",
       "      <td>0</td>\n",
       "      <td>1</td>\n",
       "      <td>0</td>\n",
       "      <td>0</td>\n",
       "      <td>0</td>\n",
       "      <td>0</td>\n",
       "      <td>0</td>\n",
       "      <td>0</td>\n",
       "      <td>0</td>\n",
       "      <td>0</td>\n",
       "      <td>0</td>\n",
       "      <td>0</td>\n",
       "      <td>0</td>\n",
       "    </tr>\n",
       "    <tr>\n",
       "      <th>2</th>\n",
       "      <td>16680</td>\n",
       "      <td>42519267</td>\n",
       "      <td>Caucasian</td>\n",
       "      <td>Male</td>\n",
       "      <td>[40-50)</td>\n",
       "      <td>1</td>\n",
       "      <td>1</td>\n",
       "      <td>7</td>\n",
       "      <td>1</td>\n",
       "      <td>197</td>\n",
       "      <td>157|250</td>\n",
       "      <td>0</td>\n",
       "      <td>0</td>\n",
       "      <td>0</td>\n",
       "      <td>51</td>\n",
       "      <td>5</td>\n",
       "      <td>8</td>\n",
       "      <td>0</td>\n",
       "      <td>0049-4110</td>\n",
       "      <td>Ch</td>\n",
       "      <td>NO</td>\n",
       "      <td>[Glipizide]</td>\n",
       "      <td>0</td>\n",
       "      <td>0</td>\n",
       "      <td>1</td>\n",
       "      <td>0</td>\n",
       "      <td>0</td>\n",
       "      <td>0</td>\n",
       "      <td>0</td>\n",
       "      <td>0</td>\n",
       "      <td>0</td>\n",
       "      <td>0</td>\n",
       "      <td>0</td>\n",
       "      <td>0</td>\n",
       "      <td>0</td>\n",
       "      <td>0</td>\n",
       "      <td>0</td>\n",
       "      <td>0</td>\n",
       "      <td>0</td>\n",
       "      <td>0</td>\n",
       "      <td>0</td>\n",
       "      <td>0</td>\n",
       "    </tr>\n",
       "    <tr>\n",
       "      <th>3</th>\n",
       "      <td>28236</td>\n",
       "      <td>89869032</td>\n",
       "      <td>AfricanAmerican</td>\n",
       "      <td>Female</td>\n",
       "      <td>[40-50)</td>\n",
       "      <td>1</td>\n",
       "      <td>1</td>\n",
       "      <td>7</td>\n",
       "      <td>9</td>\n",
       "      <td>250.7</td>\n",
       "      <td>403|996</td>\n",
       "      <td>0</td>\n",
       "      <td>0</td>\n",
       "      <td>0</td>\n",
       "      <td>47</td>\n",
       "      <td>9</td>\n",
       "      <td>17</td>\n",
       "      <td>2</td>\n",
       "      <td>68071-1701</td>\n",
       "      <td>No</td>\n",
       "      <td>&gt;30</td>\n",
       "      <td>[Human Insulin]</td>\n",
       "      <td>0</td>\n",
       "      <td>0</td>\n",
       "      <td>0</td>\n",
       "      <td>0</td>\n",
       "      <td>0</td>\n",
       "      <td>0</td>\n",
       "      <td>0</td>\n",
       "      <td>0</td>\n",
       "      <td>1</td>\n",
       "      <td>0</td>\n",
       "      <td>0</td>\n",
       "      <td>0</td>\n",
       "      <td>0</td>\n",
       "      <td>0</td>\n",
       "      <td>0</td>\n",
       "      <td>0</td>\n",
       "      <td>0</td>\n",
       "      <td>0</td>\n",
       "      <td>0</td>\n",
       "      <td>0</td>\n",
       "    </tr>\n",
       "    <tr>\n",
       "      <th>4</th>\n",
       "      <td>35754</td>\n",
       "      <td>82637451</td>\n",
       "      <td>Caucasian</td>\n",
       "      <td>Male</td>\n",
       "      <td>[50-60)</td>\n",
       "      <td>2</td>\n",
       "      <td>1</td>\n",
       "      <td>2</td>\n",
       "      <td>3</td>\n",
       "      <td>414</td>\n",
       "      <td>411|250</td>\n",
       "      <td>0</td>\n",
       "      <td>0</td>\n",
       "      <td>0</td>\n",
       "      <td>31</td>\n",
       "      <td>9</td>\n",
       "      <td>16</td>\n",
       "      <td>6</td>\n",
       "      <td>47918-902</td>\n",
       "      <td>No</td>\n",
       "      <td>&gt;30</td>\n",
       "      <td>[Insulin Human]</td>\n",
       "      <td>0</td>\n",
       "      <td>0</td>\n",
       "      <td>0</td>\n",
       "      <td>0</td>\n",
       "      <td>0</td>\n",
       "      <td>0</td>\n",
       "      <td>0</td>\n",
       "      <td>0</td>\n",
       "      <td>0</td>\n",
       "      <td>1</td>\n",
       "      <td>0</td>\n",
       "      <td>0</td>\n",
       "      <td>0</td>\n",
       "      <td>0</td>\n",
       "      <td>0</td>\n",
       "      <td>0</td>\n",
       "      <td>0</td>\n",
       "      <td>0</td>\n",
       "      <td>0</td>\n",
       "      <td>0</td>\n",
       "    </tr>\n",
       "    <tr>\n",
       "      <th>...</th>\n",
       "      <td>...</td>\n",
       "      <td>...</td>\n",
       "      <td>...</td>\n",
       "      <td>...</td>\n",
       "      <td>...</td>\n",
       "      <td>...</td>\n",
       "      <td>...</td>\n",
       "      <td>...</td>\n",
       "      <td>...</td>\n",
       "      <td>...</td>\n",
       "      <td>...</td>\n",
       "      <td>...</td>\n",
       "      <td>...</td>\n",
       "      <td>...</td>\n",
       "      <td>...</td>\n",
       "      <td>...</td>\n",
       "      <td>...</td>\n",
       "      <td>...</td>\n",
       "      <td>...</td>\n",
       "      <td>...</td>\n",
       "      <td>...</td>\n",
       "      <td>...</td>\n",
       "      <td>...</td>\n",
       "      <td>...</td>\n",
       "      <td>...</td>\n",
       "      <td>...</td>\n",
       "      <td>...</td>\n",
       "      <td>...</td>\n",
       "      <td>...</td>\n",
       "      <td>...</td>\n",
       "      <td>...</td>\n",
       "      <td>...</td>\n",
       "      <td>...</td>\n",
       "      <td>...</td>\n",
       "      <td>...</td>\n",
       "      <td>...</td>\n",
       "      <td>...</td>\n",
       "      <td>...</td>\n",
       "      <td>...</td>\n",
       "      <td>...</td>\n",
       "      <td>...</td>\n",
       "      <td>...</td>\n",
       "    </tr>\n",
       "    <tr>\n",
       "      <th>54264</th>\n",
       "      <td>443841992</td>\n",
       "      <td>184875899</td>\n",
       "      <td>Other</td>\n",
       "      <td>Male</td>\n",
       "      <td>[40-50)</td>\n",
       "      <td>1</td>\n",
       "      <td>1</td>\n",
       "      <td>7</td>\n",
       "      <td>13</td>\n",
       "      <td>250.8</td>\n",
       "      <td>730|731</td>\n",
       "      <td>0</td>\n",
       "      <td>0</td>\n",
       "      <td>0</td>\n",
       "      <td>51</td>\n",
       "      <td>9</td>\n",
       "      <td>13</td>\n",
       "      <td>2</td>\n",
       "      <td>0904-6328</td>\n",
       "      <td>Ch</td>\n",
       "      <td>NO</td>\n",
       "      <td>[Metformin Hydrochloride]</td>\n",
       "      <td>0</td>\n",
       "      <td>0</td>\n",
       "      <td>0</td>\n",
       "      <td>0</td>\n",
       "      <td>0</td>\n",
       "      <td>0</td>\n",
       "      <td>0</td>\n",
       "      <td>0</td>\n",
       "      <td>0</td>\n",
       "      <td>0</td>\n",
       "      <td>0</td>\n",
       "      <td>1</td>\n",
       "      <td>0</td>\n",
       "      <td>0</td>\n",
       "      <td>0</td>\n",
       "      <td>0</td>\n",
       "      <td>0</td>\n",
       "      <td>0</td>\n",
       "      <td>0</td>\n",
       "      <td>0</td>\n",
       "    </tr>\n",
       "    <tr>\n",
       "      <th>54265</th>\n",
       "      <td>443842016</td>\n",
       "      <td>183087545</td>\n",
       "      <td>Caucasian</td>\n",
       "      <td>Female</td>\n",
       "      <td>[70-80)</td>\n",
       "      <td>1</td>\n",
       "      <td>1</td>\n",
       "      <td>7</td>\n",
       "      <td>9</td>\n",
       "      <td>574</td>\n",
       "      <td>574|250.02</td>\n",
       "      <td>0</td>\n",
       "      <td>0</td>\n",
       "      <td>0</td>\n",
       "      <td>50</td>\n",
       "      <td>9</td>\n",
       "      <td>33</td>\n",
       "      <td>2</td>\n",
       "      <td>0009-3449</td>\n",
       "      <td>Ch</td>\n",
       "      <td>&gt;30</td>\n",
       "      <td>[Glyburide]</td>\n",
       "      <td>0</td>\n",
       "      <td>0</td>\n",
       "      <td>0</td>\n",
       "      <td>0</td>\n",
       "      <td>0</td>\n",
       "      <td>1</td>\n",
       "      <td>0</td>\n",
       "      <td>0</td>\n",
       "      <td>0</td>\n",
       "      <td>0</td>\n",
       "      <td>0</td>\n",
       "      <td>0</td>\n",
       "      <td>0</td>\n",
       "      <td>0</td>\n",
       "      <td>0</td>\n",
       "      <td>0</td>\n",
       "      <td>0</td>\n",
       "      <td>0</td>\n",
       "      <td>0</td>\n",
       "      <td>0</td>\n",
       "    </tr>\n",
       "    <tr>\n",
       "      <th>54266</th>\n",
       "      <td>443842022</td>\n",
       "      <td>188574944</td>\n",
       "      <td>Other</td>\n",
       "      <td>Female</td>\n",
       "      <td>[40-50)</td>\n",
       "      <td>1</td>\n",
       "      <td>1</td>\n",
       "      <td>7</td>\n",
       "      <td>14</td>\n",
       "      <td>592</td>\n",
       "      <td>599|518</td>\n",
       "      <td>0</td>\n",
       "      <td>0</td>\n",
       "      <td>1</td>\n",
       "      <td>73</td>\n",
       "      <td>9</td>\n",
       "      <td>26</td>\n",
       "      <td>6</td>\n",
       "      <td>0049-0178</td>\n",
       "      <td>Ch</td>\n",
       "      <td>&gt;30</td>\n",
       "      <td>[Glipizide]</td>\n",
       "      <td>0</td>\n",
       "      <td>0</td>\n",
       "      <td>1</td>\n",
       "      <td>0</td>\n",
       "      <td>0</td>\n",
       "      <td>0</td>\n",
       "      <td>0</td>\n",
       "      <td>0</td>\n",
       "      <td>0</td>\n",
       "      <td>0</td>\n",
       "      <td>0</td>\n",
       "      <td>0</td>\n",
       "      <td>0</td>\n",
       "      <td>0</td>\n",
       "      <td>0</td>\n",
       "      <td>0</td>\n",
       "      <td>0</td>\n",
       "      <td>0</td>\n",
       "      <td>0</td>\n",
       "      <td>0</td>\n",
       "    </tr>\n",
       "    <tr>\n",
       "      <th>54267</th>\n",
       "      <td>443842070</td>\n",
       "      <td>140199494</td>\n",
       "      <td>Other</td>\n",
       "      <td>Female</td>\n",
       "      <td>[60-70)</td>\n",
       "      <td>1</td>\n",
       "      <td>1</td>\n",
       "      <td>7</td>\n",
       "      <td>2</td>\n",
       "      <td>996</td>\n",
       "      <td>585|403</td>\n",
       "      <td>1</td>\n",
       "      <td>1</td>\n",
       "      <td>1</td>\n",
       "      <td>46</td>\n",
       "      <td>9</td>\n",
       "      <td>17</td>\n",
       "      <td>6</td>\n",
       "      <td>47918-902</td>\n",
       "      <td>No</td>\n",
       "      <td>&gt;30</td>\n",
       "      <td>[Insulin Human]</td>\n",
       "      <td>0</td>\n",
       "      <td>0</td>\n",
       "      <td>0</td>\n",
       "      <td>0</td>\n",
       "      <td>0</td>\n",
       "      <td>0</td>\n",
       "      <td>0</td>\n",
       "      <td>0</td>\n",
       "      <td>0</td>\n",
       "      <td>1</td>\n",
       "      <td>0</td>\n",
       "      <td>0</td>\n",
       "      <td>0</td>\n",
       "      <td>0</td>\n",
       "      <td>0</td>\n",
       "      <td>0</td>\n",
       "      <td>0</td>\n",
       "      <td>0</td>\n",
       "      <td>0</td>\n",
       "      <td>0</td>\n",
       "    </tr>\n",
       "    <tr>\n",
       "      <th>54268</th>\n",
       "      <td>443842340</td>\n",
       "      <td>120975314</td>\n",
       "      <td>Caucasian</td>\n",
       "      <td>Female</td>\n",
       "      <td>[80-90)</td>\n",
       "      <td>1</td>\n",
       "      <td>1</td>\n",
       "      <td>7</td>\n",
       "      <td>5</td>\n",
       "      <td>292</td>\n",
       "      <td>8|304</td>\n",
       "      <td>0</td>\n",
       "      <td>0</td>\n",
       "      <td>1</td>\n",
       "      <td>76</td>\n",
       "      <td>9</td>\n",
       "      <td>22</td>\n",
       "      <td>1</td>\n",
       "      <td>47918-902</td>\n",
       "      <td>Ch</td>\n",
       "      <td>NO</td>\n",
       "      <td>[Insulin Human]</td>\n",
       "      <td>0</td>\n",
       "      <td>0</td>\n",
       "      <td>0</td>\n",
       "      <td>0</td>\n",
       "      <td>0</td>\n",
       "      <td>0</td>\n",
       "      <td>0</td>\n",
       "      <td>0</td>\n",
       "      <td>0</td>\n",
       "      <td>1</td>\n",
       "      <td>0</td>\n",
       "      <td>0</td>\n",
       "      <td>0</td>\n",
       "      <td>0</td>\n",
       "      <td>0</td>\n",
       "      <td>0</td>\n",
       "      <td>0</td>\n",
       "      <td>0</td>\n",
       "      <td>0</td>\n",
       "      <td>0</td>\n",
       "    </tr>\n",
       "  </tbody>\n",
       "</table>\n",
       "<p>54269 rows × 42 columns</p>\n",
       "</div>"
      ],
      "text/plain": [
       "       encounter_id  patient_nbr             race  gender       age  \\\n",
       "0             12522     48330783        Caucasian  Female   [80-90)   \n",
       "1             15738     63555939        Caucasian  Female  [90-100)   \n",
       "2             16680     42519267        Caucasian    Male   [40-50)   \n",
       "3             28236     89869032  AfricanAmerican  Female   [40-50)   \n",
       "4             35754     82637451        Caucasian    Male   [50-60)   \n",
       "...             ...          ...              ...     ...       ...   \n",
       "54264     443841992    184875899            Other    Male   [40-50)   \n",
       "54265     443842016    183087545        Caucasian  Female   [70-80)   \n",
       "54266     443842022    188574944            Other  Female   [40-50)   \n",
       "54267     443842070    140199494            Other  Female   [60-70)   \n",
       "54268     443842340    120975314        Caucasian  Female   [80-90)   \n",
       "\n",
       "       admission_type_id  discharge_disposition_id  admission_source_id  \\\n",
       "0                      2                         1                    4   \n",
       "1                      3                         3                    4   \n",
       "2                      1                         1                    7   \n",
       "3                      1                         1                    7   \n",
       "4                      2                         1                    2   \n",
       "...                  ...                       ...                  ...   \n",
       "54264                  1                         1                    7   \n",
       "54265                  1                         1                    7   \n",
       "54266                  1                         1                    7   \n",
       "54267                  1                         1                    7   \n",
       "54268                  1                         1                    7   \n",
       "\n",
       "       time_in_hospital primary_diagnosis_code other_diagnosis_codes  \\\n",
       "0                    13                    398                427|38   \n",
       "1                    12                    434               198|486   \n",
       "2                     1                    197               157|250   \n",
       "3                     9                  250.7               403|996   \n",
       "4                     3                    414               411|250   \n",
       "...                 ...                    ...                   ...   \n",
       "54264                13                  250.8               730|731   \n",
       "54265                 9                    574            574|250.02   \n",
       "54266                14                    592               599|518   \n",
       "54267                 2                    996               585|403   \n",
       "54268                 5                    292                 8|304   \n",
       "\n",
       "       number_outpatient  number_inpatient  number_emergency  \\\n",
       "0                      0                 0                 0   \n",
       "1                      0                 0                 0   \n",
       "2                      0                 0                 0   \n",
       "3                      0                 0                 0   \n",
       "4                      0                 0                 0   \n",
       "...                  ...               ...               ...   \n",
       "54264                  0                 0                 0   \n",
       "54265                  0                 0                 0   \n",
       "54266                  0                 0                 1   \n",
       "54267                  1                 1                 1   \n",
       "54268                  0                 0                 1   \n",
       "\n",
       "       num_lab_procedures  number_diagnoses  num_medications  num_procedures  \\\n",
       "0                      68                 8               28               2   \n",
       "1                      33                 8               18               3   \n",
       "2                      51                 5                8               0   \n",
       "3                      47                 9               17               2   \n",
       "4                      31                 9               16               6   \n",
       "...                   ...               ...              ...             ...   \n",
       "54264                  51                 9               13               2   \n",
       "54265                  50                 9               33               2   \n",
       "54266                  73                 9               26               6   \n",
       "54267                  46                 9               17               6   \n",
       "54268                  76                 9               22               1   \n",
       "\n",
       "         ndc_code change readmitted    generic_drug_name_array  Acarbose  \\\n",
       "0       47918-902     Ch         NO            [Insulin Human]         0   \n",
       "1      68071-1701     Ch         NO            [Human Insulin]         0   \n",
       "2       0049-4110     Ch         NO                [Glipizide]         0   \n",
       "3      68071-1701     No        >30            [Human Insulin]         0   \n",
       "4       47918-902     No        >30            [Insulin Human]         0   \n",
       "...           ...    ...        ...                        ...       ...   \n",
       "54264   0904-6328     Ch         NO  [Metformin Hydrochloride]         0   \n",
       "54265   0009-3449     Ch        >30                [Glyburide]         0   \n",
       "54266   0049-0178     Ch        >30                [Glipizide]         0   \n",
       "54267   47918-902     No        >30            [Insulin Human]         0   \n",
       "54268   47918-902     Ch         NO            [Insulin Human]         0   \n",
       "\n",
       "       Glimepiride  Glipizide  Glipizide_And_Metformin_Hcl  \\\n",
       "0                0          0                            0   \n",
       "1                0          0                            0   \n",
       "2                0          1                            0   \n",
       "3                0          0                            0   \n",
       "4                0          0                            0   \n",
       "...            ...        ...                          ...   \n",
       "54264            0          0                            0   \n",
       "54265            0          0                            0   \n",
       "54266            0          1                            0   \n",
       "54267            0          0                            0   \n",
       "54268            0          0                            0   \n",
       "\n",
       "       Glipizide_And_Metformin_Hydrochloride  Glyburide  \\\n",
       "0                                          0          0   \n",
       "1                                          0          0   \n",
       "2                                          0          0   \n",
       "3                                          0          0   \n",
       "4                                          0          0   \n",
       "...                                      ...        ...   \n",
       "54264                                      0          0   \n",
       "54265                                      0          1   \n",
       "54266                                      0          0   \n",
       "54267                                      0          0   \n",
       "54268                                      0          0   \n",
       "\n",
       "       Glyburide_And_Metformin_Hydrochloride  \\\n",
       "0                                          0   \n",
       "1                                          0   \n",
       "2                                          0   \n",
       "3                                          0   \n",
       "4                                          0   \n",
       "...                                      ...   \n",
       "54264                                      0   \n",
       "54265                                      0   \n",
       "54266                                      0   \n",
       "54267                                      0   \n",
       "54268                                      0   \n",
       "\n",
       "       Glyburide-metformin_Hydrochloride  Human_Insulin  Insulin_Human  \\\n",
       "0                                      0              0              1   \n",
       "1                                      0              1              0   \n",
       "2                                      0              0              0   \n",
       "3                                      0              1              0   \n",
       "4                                      0              0              1   \n",
       "...                                  ...            ...            ...   \n",
       "54264                                  0              0              0   \n",
       "54265                                  0              0              0   \n",
       "54266                                  0              0              0   \n",
       "54267                                  0              0              1   \n",
       "54268                                  0              0              1   \n",
       "\n",
       "       Metformin_Hcl  Metformin_Hydrochloride  Miglitol  Nateglinide  \\\n",
       "0                  0                        0         0            0   \n",
       "1                  0                        0         0            0   \n",
       "2                  0                        0         0            0   \n",
       "3                  0                        0         0            0   \n",
       "4                  0                        0         0            0   \n",
       "...              ...                      ...       ...          ...   \n",
       "54264              0                        1         0            0   \n",
       "54265              0                        0         0            0   \n",
       "54266              0                        0         0            0   \n",
       "54267              0                        0         0            0   \n",
       "54268              0                        0         0            0   \n",
       "\n",
       "       Pioglitazone  Pioglitazone_Hydrochloride_And_Glimepiride  Repaglinide  \\\n",
       "0                 0                                           0            0   \n",
       "1                 0                                           0            0   \n",
       "2                 0                                           0            0   \n",
       "3                 0                                           0            0   \n",
       "4                 0                                           0            0   \n",
       "...             ...                                         ...          ...   \n",
       "54264             0                                           0            0   \n",
       "54265             0                                           0            0   \n",
       "54266             0                                           0            0   \n",
       "54267             0                                           0            0   \n",
       "54268             0                                           0            0   \n",
       "\n",
       "       Rosiglitazone_Maleate  Tolazamide  Tolbutamide  \n",
       "0                          0           0            0  \n",
       "1                          0           0            0  \n",
       "2                          0           0            0  \n",
       "3                          0           0            0  \n",
       "4                          0           0            0  \n",
       "...                      ...         ...          ...  \n",
       "54264                      0           0            0  \n",
       "54265                      0           0            0  \n",
       "54266                      0           0            0  \n",
       "54267                      0           0            0  \n",
       "54268                      0           0            0  \n",
       "\n",
       "[54269 rows x 42 columns]"
      ]
     },
     "execution_count": 445,
     "metadata": {},
     "output_type": "execute_result"
    }
   ],
   "source": [
    "agg_drug_df"
   ]
  },
  {
   "cell_type": "markdown",
   "metadata": {},
   "source": [
    "## Prepare Fields and Cast Dataset "
   ]
  },
  {
   "cell_type": "markdown",
   "metadata": {},
   "source": [
    "### Feature Selection"
   ]
  },
  {
   "cell_type": "markdown",
   "metadata": {},
   "source": [
    "**Question 5**: After you have aggregated the dataset to the right level, we can do feature selection (we will include the ndc_col_list, dummy column features too). In the block below, please select the categorical and numerical features that you will use for the model, so that we can create a dataset subset. \n",
    "\n",
    "For the payer_code and weight fields, please provide whether you think we should include/exclude the field in our model and give a justification/rationale for this based off of the statistics of the data. Feel free to use visualizations or summary statistics to support your choice."
   ]
  },
  {
   "cell_type": "markdown",
   "metadata": {},
   "source": [
    "Student response: ??"
   ]
  },
  {
   "cell_type": "code",
   "execution_count": 446,
   "metadata": {},
   "outputs": [],
   "source": [
    "# The weight, payer_code and medical_specialty fields have very high '?' values and so they should be \n",
    "# exlcuded from our model. We have already dropped them from the dataframe during preprocessing\n",
    "# Similarly A1Cresult and max_glu_serum have high 'None' values, so they have also been excluded. \n",
    "# See evidence for the above in the data processing code above\n",
    "\n",
    "'''\n",
    "Please update the list to include the features you think are appropriate for the model \n",
    "and the field that we will be using to train the model. There are three required demographic features for the model \n",
    "and I have inserted a list with them already in the categorical list. \n",
    "These will be required for later steps when analyzing data splits and model biases.\n",
    "'''\n",
    "required_demo_col_list = ['race', 'gender', 'age']\n",
    "#student_categorical_col_list = ['primary_diagnosis_code', 'number_emergency', 'readmitted', 'change' ] + required_demo_col_list + ndc_col_list\n",
    "student_categorical_col_list = [ 'readmitted', 'admission_type_id', 'discharge_disposition_id', \n",
    "                                'admission_source_id', 'primary_diagnosis_code', #'other_diagnosis_codes', 'ndc_code',\n",
    "                               ] + required_demo_col_list + ndc_col_list\n",
    "#student_categorical_col_list = required_demo_col_list + ndc_col_list\n",
    "\n",
    "#student_numerical_col_list = ['number_emergency', 'num_lab_procedures', 'number_diagnoses', 'num_medications', \n",
    "#                               'num_procedures']\n",
    "#student_numerical_col_list = ['number_diagnoses', 'num_medications', 'num_procedures', 'number_outpatient', \n",
    "#                              'number_inpatient', 'number_emergency', 'num_lab_procedures']\n",
    "student_numerical_col_list = ['number_diagnoses', 'num_medications', 'num_procedures']\n",
    "PREDICTOR_FIELD = 'time_in_hospital'"
   ]
  },
  {
   "cell_type": "code",
   "execution_count": 447,
   "metadata": {},
   "outputs": [],
   "source": [
    "def select_model_features(df, categorical_col_list, numerical_col_list, PREDICTOR_FIELD, grouping_key='patient_nbr'):\n",
    "    selected_col_list = [grouping_key] + [PREDICTOR_FIELD] + categorical_col_list + numerical_col_list   \n",
    "    return agg_drug_df[selected_col_list]\n"
   ]
  },
  {
   "cell_type": "code",
   "execution_count": 448,
   "metadata": {},
   "outputs": [],
   "source": [
    "selected_features_df = select_model_features(agg_drug_df, student_categorical_col_list, student_numerical_col_list,\n",
    "                                            PREDICTOR_FIELD)"
   ]
  },
  {
   "cell_type": "code",
   "execution_count": 449,
   "metadata": {},
   "outputs": [
    {
     "data": {
      "text/html": [
       "<div>\n",
       "<style scoped>\n",
       "    .dataframe tbody tr th:only-of-type {\n",
       "        vertical-align: middle;\n",
       "    }\n",
       "\n",
       "    .dataframe tbody tr th {\n",
       "        vertical-align: top;\n",
       "    }\n",
       "\n",
       "    .dataframe thead th {\n",
       "        text-align: right;\n",
       "    }\n",
       "</style>\n",
       "<table border=\"1\" class=\"dataframe\">\n",
       "  <thead>\n",
       "    <tr style=\"text-align: right;\">\n",
       "      <th></th>\n",
       "      <th>patient_nbr</th>\n",
       "      <th>time_in_hospital</th>\n",
       "      <th>readmitted</th>\n",
       "      <th>admission_type_id</th>\n",
       "      <th>discharge_disposition_id</th>\n",
       "      <th>admission_source_id</th>\n",
       "      <th>primary_diagnosis_code</th>\n",
       "      <th>race</th>\n",
       "      <th>gender</th>\n",
       "      <th>age</th>\n",
       "      <th>Acarbose</th>\n",
       "      <th>Glimepiride</th>\n",
       "      <th>Glipizide</th>\n",
       "      <th>Glipizide_And_Metformin_Hcl</th>\n",
       "      <th>Glipizide_And_Metformin_Hydrochloride</th>\n",
       "      <th>Glyburide</th>\n",
       "      <th>Glyburide_And_Metformin_Hydrochloride</th>\n",
       "      <th>Glyburide-metformin_Hydrochloride</th>\n",
       "      <th>Human_Insulin</th>\n",
       "      <th>Insulin_Human</th>\n",
       "      <th>Metformin_Hcl</th>\n",
       "      <th>Metformin_Hydrochloride</th>\n",
       "      <th>Miglitol</th>\n",
       "      <th>Nateglinide</th>\n",
       "      <th>Pioglitazone</th>\n",
       "      <th>Pioglitazone_Hydrochloride_And_Glimepiride</th>\n",
       "      <th>Repaglinide</th>\n",
       "      <th>Rosiglitazone_Maleate</th>\n",
       "      <th>Tolazamide</th>\n",
       "      <th>Tolbutamide</th>\n",
       "      <th>number_diagnoses</th>\n",
       "      <th>num_medications</th>\n",
       "      <th>num_procedures</th>\n",
       "    </tr>\n",
       "  </thead>\n",
       "  <tbody>\n",
       "    <tr>\n",
       "      <th>0</th>\n",
       "      <td>48330783</td>\n",
       "      <td>13</td>\n",
       "      <td>NO</td>\n",
       "      <td>2</td>\n",
       "      <td>1</td>\n",
       "      <td>4</td>\n",
       "      <td>398</td>\n",
       "      <td>Caucasian</td>\n",
       "      <td>Female</td>\n",
       "      <td>[80-90)</td>\n",
       "      <td>0</td>\n",
       "      <td>0</td>\n",
       "      <td>0</td>\n",
       "      <td>0</td>\n",
       "      <td>0</td>\n",
       "      <td>0</td>\n",
       "      <td>0</td>\n",
       "      <td>0</td>\n",
       "      <td>0</td>\n",
       "      <td>1</td>\n",
       "      <td>0</td>\n",
       "      <td>0</td>\n",
       "      <td>0</td>\n",
       "      <td>0</td>\n",
       "      <td>0</td>\n",
       "      <td>0</td>\n",
       "      <td>0</td>\n",
       "      <td>0</td>\n",
       "      <td>0</td>\n",
       "      <td>0</td>\n",
       "      <td>8</td>\n",
       "      <td>28</td>\n",
       "      <td>2</td>\n",
       "    </tr>\n",
       "    <tr>\n",
       "      <th>1</th>\n",
       "      <td>63555939</td>\n",
       "      <td>12</td>\n",
       "      <td>NO</td>\n",
       "      <td>3</td>\n",
       "      <td>3</td>\n",
       "      <td>4</td>\n",
       "      <td>434</td>\n",
       "      <td>Caucasian</td>\n",
       "      <td>Female</td>\n",
       "      <td>[90-100)</td>\n",
       "      <td>0</td>\n",
       "      <td>0</td>\n",
       "      <td>0</td>\n",
       "      <td>0</td>\n",
       "      <td>0</td>\n",
       "      <td>0</td>\n",
       "      <td>0</td>\n",
       "      <td>0</td>\n",
       "      <td>1</td>\n",
       "      <td>0</td>\n",
       "      <td>0</td>\n",
       "      <td>0</td>\n",
       "      <td>0</td>\n",
       "      <td>0</td>\n",
       "      <td>0</td>\n",
       "      <td>0</td>\n",
       "      <td>0</td>\n",
       "      <td>0</td>\n",
       "      <td>0</td>\n",
       "      <td>0</td>\n",
       "      <td>8</td>\n",
       "      <td>18</td>\n",
       "      <td>3</td>\n",
       "    </tr>\n",
       "    <tr>\n",
       "      <th>2</th>\n",
       "      <td>42519267</td>\n",
       "      <td>1</td>\n",
       "      <td>NO</td>\n",
       "      <td>1</td>\n",
       "      <td>1</td>\n",
       "      <td>7</td>\n",
       "      <td>197</td>\n",
       "      <td>Caucasian</td>\n",
       "      <td>Male</td>\n",
       "      <td>[40-50)</td>\n",
       "      <td>0</td>\n",
       "      <td>0</td>\n",
       "      <td>1</td>\n",
       "      <td>0</td>\n",
       "      <td>0</td>\n",
       "      <td>0</td>\n",
       "      <td>0</td>\n",
       "      <td>0</td>\n",
       "      <td>0</td>\n",
       "      <td>0</td>\n",
       "      <td>0</td>\n",
       "      <td>0</td>\n",
       "      <td>0</td>\n",
       "      <td>0</td>\n",
       "      <td>0</td>\n",
       "      <td>0</td>\n",
       "      <td>0</td>\n",
       "      <td>0</td>\n",
       "      <td>0</td>\n",
       "      <td>0</td>\n",
       "      <td>5</td>\n",
       "      <td>8</td>\n",
       "      <td>0</td>\n",
       "    </tr>\n",
       "    <tr>\n",
       "      <th>3</th>\n",
       "      <td>89869032</td>\n",
       "      <td>9</td>\n",
       "      <td>&gt;30</td>\n",
       "      <td>1</td>\n",
       "      <td>1</td>\n",
       "      <td>7</td>\n",
       "      <td>250.7</td>\n",
       "      <td>AfricanAmerican</td>\n",
       "      <td>Female</td>\n",
       "      <td>[40-50)</td>\n",
       "      <td>0</td>\n",
       "      <td>0</td>\n",
       "      <td>0</td>\n",
       "      <td>0</td>\n",
       "      <td>0</td>\n",
       "      <td>0</td>\n",
       "      <td>0</td>\n",
       "      <td>0</td>\n",
       "      <td>1</td>\n",
       "      <td>0</td>\n",
       "      <td>0</td>\n",
       "      <td>0</td>\n",
       "      <td>0</td>\n",
       "      <td>0</td>\n",
       "      <td>0</td>\n",
       "      <td>0</td>\n",
       "      <td>0</td>\n",
       "      <td>0</td>\n",
       "      <td>0</td>\n",
       "      <td>0</td>\n",
       "      <td>9</td>\n",
       "      <td>17</td>\n",
       "      <td>2</td>\n",
       "    </tr>\n",
       "    <tr>\n",
       "      <th>4</th>\n",
       "      <td>82637451</td>\n",
       "      <td>3</td>\n",
       "      <td>&gt;30</td>\n",
       "      <td>2</td>\n",
       "      <td>1</td>\n",
       "      <td>2</td>\n",
       "      <td>414</td>\n",
       "      <td>Caucasian</td>\n",
       "      <td>Male</td>\n",
       "      <td>[50-60)</td>\n",
       "      <td>0</td>\n",
       "      <td>0</td>\n",
       "      <td>0</td>\n",
       "      <td>0</td>\n",
       "      <td>0</td>\n",
       "      <td>0</td>\n",
       "      <td>0</td>\n",
       "      <td>0</td>\n",
       "      <td>0</td>\n",
       "      <td>1</td>\n",
       "      <td>0</td>\n",
       "      <td>0</td>\n",
       "      <td>0</td>\n",
       "      <td>0</td>\n",
       "      <td>0</td>\n",
       "      <td>0</td>\n",
       "      <td>0</td>\n",
       "      <td>0</td>\n",
       "      <td>0</td>\n",
       "      <td>0</td>\n",
       "      <td>9</td>\n",
       "      <td>16</td>\n",
       "      <td>6</td>\n",
       "    </tr>\n",
       "  </tbody>\n",
       "</table>\n",
       "</div>"
      ],
      "text/plain": [
       "   patient_nbr  time_in_hospital readmitted  admission_type_id  \\\n",
       "0     48330783                13         NO                  2   \n",
       "1     63555939                12         NO                  3   \n",
       "2     42519267                 1         NO                  1   \n",
       "3     89869032                 9        >30                  1   \n",
       "4     82637451                 3        >30                  2   \n",
       "\n",
       "   discharge_disposition_id  admission_source_id primary_diagnosis_code  \\\n",
       "0                         1                    4                    398   \n",
       "1                         3                    4                    434   \n",
       "2                         1                    7                    197   \n",
       "3                         1                    7                  250.7   \n",
       "4                         1                    2                    414   \n",
       "\n",
       "              race  gender       age  Acarbose  Glimepiride  Glipizide  \\\n",
       "0        Caucasian  Female   [80-90)         0            0          0   \n",
       "1        Caucasian  Female  [90-100)         0            0          0   \n",
       "2        Caucasian    Male   [40-50)         0            0          1   \n",
       "3  AfricanAmerican  Female   [40-50)         0            0          0   \n",
       "4        Caucasian    Male   [50-60)         0            0          0   \n",
       "\n",
       "   Glipizide_And_Metformin_Hcl  Glipizide_And_Metformin_Hydrochloride  \\\n",
       "0                            0                                      0   \n",
       "1                            0                                      0   \n",
       "2                            0                                      0   \n",
       "3                            0                                      0   \n",
       "4                            0                                      0   \n",
       "\n",
       "   Glyburide  Glyburide_And_Metformin_Hydrochloride  \\\n",
       "0          0                                      0   \n",
       "1          0                                      0   \n",
       "2          0                                      0   \n",
       "3          0                                      0   \n",
       "4          0                                      0   \n",
       "\n",
       "   Glyburide-metformin_Hydrochloride  Human_Insulin  Insulin_Human  \\\n",
       "0                                  0              0              1   \n",
       "1                                  0              1              0   \n",
       "2                                  0              0              0   \n",
       "3                                  0              1              0   \n",
       "4                                  0              0              1   \n",
       "\n",
       "   Metformin_Hcl  Metformin_Hydrochloride  Miglitol  Nateglinide  \\\n",
       "0              0                        0         0            0   \n",
       "1              0                        0         0            0   \n",
       "2              0                        0         0            0   \n",
       "3              0                        0         0            0   \n",
       "4              0                        0         0            0   \n",
       "\n",
       "   Pioglitazone  Pioglitazone_Hydrochloride_And_Glimepiride  Repaglinide  \\\n",
       "0             0                                           0            0   \n",
       "1             0                                           0            0   \n",
       "2             0                                           0            0   \n",
       "3             0                                           0            0   \n",
       "4             0                                           0            0   \n",
       "\n",
       "   Rosiglitazone_Maleate  Tolazamide  Tolbutamide  number_diagnoses  \\\n",
       "0                      0           0            0                 8   \n",
       "1                      0           0            0                 8   \n",
       "2                      0           0            0                 5   \n",
       "3                      0           0            0                 9   \n",
       "4                      0           0            0                 9   \n",
       "\n",
       "   num_medications  num_procedures  \n",
       "0               28               2  \n",
       "1               18               3  \n",
       "2                8               0  \n",
       "3               17               2  \n",
       "4               16               6  "
      ]
     },
     "execution_count": 449,
     "metadata": {},
     "output_type": "execute_result"
    }
   ],
   "source": [
    "selected_features_df.head()"
   ]
  },
  {
   "cell_type": "markdown",
   "metadata": {},
   "source": [
    "### Preprocess Dataset - Casting and Imputing  "
   ]
  },
  {
   "cell_type": "markdown",
   "metadata": {},
   "source": [
    "We will cast and impute the dataset before splitting so that we do not have to repeat these steps across the splits in the next step. For imputing, there can be deeper analysis into which features to impute and how to impute but for the sake of time, we are taking a general strategy of imputing zero for only numerical features. \n",
    "\n",
    "OPTIONAL: What are some potential issues with this approach? Can you recommend a better way and also implement it?"
   ]
  },
  {
   "cell_type": "code",
   "execution_count": 450,
   "metadata": {},
   "outputs": [
    {
     "name": "stderr",
     "output_type": "stream",
     "text": [
      "/home/workspace/starter_code/utils.py:29: SettingWithCopyWarning: \n",
      "A value is trying to be set on a copy of a slice from a DataFrame.\n",
      "Try using .loc[row_indexer,col_indexer] = value instead\n",
      "\n",
      "See the caveats in the documentation: https://pandas.pydata.org/pandas-docs/stable/user_guide/indexing.html#returning-a-view-versus-a-copy\n",
      "  df[predictor] = df[predictor].astype(float)\n",
      "/home/workspace/starter_code/utils.py:31: SettingWithCopyWarning: \n",
      "A value is trying to be set on a copy of a slice from a DataFrame.\n",
      "Try using .loc[row_indexer,col_indexer] = value instead\n",
      "\n",
      "See the caveats in the documentation: https://pandas.pydata.org/pandas-docs/stable/user_guide/indexing.html#returning-a-view-versus-a-copy\n",
      "  df[c] = cast_df(df, c, d_type=str)\n",
      "/home/workspace/starter_code/utils.py:33: SettingWithCopyWarning: \n",
      "A value is trying to be set on a copy of a slice from a DataFrame.\n",
      "Try using .loc[row_indexer,col_indexer] = value instead\n",
      "\n",
      "See the caveats in the documentation: https://pandas.pydata.org/pandas-docs/stable/user_guide/indexing.html#returning-a-view-versus-a-copy\n",
      "  df[numerical_column] = impute_df(df, numerical_column, numerical_impute_value)\n"
     ]
    }
   ],
   "source": [
    "processed_df = preprocess_df(selected_features_df, student_categorical_col_list, \n",
    "        student_numerical_col_list, PREDICTOR_FIELD, categorical_impute_value='nan', numerical_impute_value=0)"
   ]
  },
  {
   "cell_type": "markdown",
   "metadata": {},
   "source": [
    "## Split Dataset into Train, Validation, and Test Partitions"
   ]
  },
  {
   "cell_type": "markdown",
   "metadata": {},
   "source": [
    "**Question 6**: In order to prepare the data for being trained and evaluated by a deep learning model, we will split the dataset into three partitions, with the validation partition used for optimizing the model hyperparameters during training. One of the key parts is that we need to be sure that the data does not accidently leak across partitions.\n",
    "\n",
    "Please complete the function below to split the input dataset into three partitions(train, validation, test) with the following requirements.\n",
    "- Approximately 60%/20%/20%  train/validation/test split\n",
    "- Randomly sample different patients into each data partition\n",
    "- **IMPORTANT** Make sure that a patient's data is not in more than one partition, so that we can avoid possible data leakage.\n",
    "- Make sure that the total number of unique patients across the splits is equal to the total number of unique patients in the original dataset\n",
    "- Total number of rows in original dataset = sum of rows across all three dataset partitions"
   ]
  },
  {
   "cell_type": "code",
   "execution_count": 451,
   "metadata": {},
   "outputs": [],
   "source": [
    "from student_utils import patient_dataset_splitter\n",
    "\n",
    "d_train, d_val, d_test = patient_dataset_splitter(processed_df, 'patient_nbr')"
   ]
  },
  {
   "cell_type": "code",
   "execution_count": 452,
   "metadata": {},
   "outputs": [
    {
     "data": {
      "text/plain": [
       "number_diagnoses     7.276097\n",
       "num_medications     16.571973\n",
       "num_procedures       1.422284\n",
       "Name: mean, dtype: float64"
      ]
     },
     "execution_count": 452,
     "metadata": {},
     "output_type": "execute_result"
    }
   ],
   "source": [
    "d_train[student_numerical_col_list].describe().transpose()['mean']"
   ]
  },
  {
   "cell_type": "code",
   "execution_count": 453,
   "metadata": {},
   "outputs": [],
   "source": [
    "#Normalize the data\n",
    "def norm(x, nume_cols):\n",
    "    return (x - d_train[nume_cols].describe().transpose()['mean']) / d_train[nume_cols].describe().transpose()['std']\n",
    "d_train[student_numerical_col_list] = norm(d_train[student_numerical_col_list], student_numerical_col_list)\n",
    "d_val[student_numerical_col_list]   = norm(d_val[student_numerical_col_list], student_numerical_col_list)\n",
    "#d_test[student_numerical_col_list]  = norm(d_test[student_numerical_col_list], student_numerical_col_list)"
   ]
  },
  {
   "cell_type": "code",
   "execution_count": 454,
   "metadata": {},
   "outputs": [
    {
     "name": "stdout",
     "output_type": "stream",
     "text": [
      "Test passed for number of total rows equal!\n"
     ]
    }
   ],
   "source": [
    "assert len(d_train) + len(d_val) + len(d_test) == len(processed_df)\n",
    "print(\"Test passed for number of total rows equal!\")"
   ]
  },
  {
   "cell_type": "code",
   "execution_count": 455,
   "metadata": {},
   "outputs": [
    {
     "name": "stdout",
     "output_type": "stream",
     "text": [
      "Test passed for number of unique patients being equal!\n"
     ]
    }
   ],
   "source": [
    "assert (d_train['patient_nbr'].nunique() + d_val['patient_nbr'].nunique() + d_test['patient_nbr'].nunique()) == agg_drug_df['patient_nbr'].nunique()\n",
    "print(\"Test passed for number of unique patients being equal!\")"
   ]
  },
  {
   "cell_type": "code",
   "execution_count": 456,
   "metadata": {
    "scrolled": true
   },
   "outputs": [
    {
     "data": {
      "text/html": [
       "<div>\n",
       "<style scoped>\n",
       "    .dataframe tbody tr th:only-of-type {\n",
       "        vertical-align: middle;\n",
       "    }\n",
       "\n",
       "    .dataframe tbody tr th {\n",
       "        vertical-align: top;\n",
       "    }\n",
       "\n",
       "    .dataframe thead th {\n",
       "        text-align: right;\n",
       "    }\n",
       "</style>\n",
       "<table border=\"1\" class=\"dataframe\">\n",
       "  <thead>\n",
       "    <tr style=\"text-align: right;\">\n",
       "      <th></th>\n",
       "      <th>patient_nbr</th>\n",
       "      <th>time_in_hospital</th>\n",
       "      <th>readmitted</th>\n",
       "      <th>admission_type_id</th>\n",
       "      <th>discharge_disposition_id</th>\n",
       "      <th>admission_source_id</th>\n",
       "      <th>primary_diagnosis_code</th>\n",
       "      <th>race</th>\n",
       "      <th>gender</th>\n",
       "      <th>age</th>\n",
       "      <th>Acarbose</th>\n",
       "      <th>Glimepiride</th>\n",
       "      <th>Glipizide</th>\n",
       "      <th>Glipizide_And_Metformin_Hcl</th>\n",
       "      <th>Glipizide_And_Metformin_Hydrochloride</th>\n",
       "      <th>Glyburide</th>\n",
       "      <th>Glyburide_And_Metformin_Hydrochloride</th>\n",
       "      <th>Glyburide-metformin_Hydrochloride</th>\n",
       "      <th>Human_Insulin</th>\n",
       "      <th>Insulin_Human</th>\n",
       "      <th>Metformin_Hcl</th>\n",
       "      <th>Metformin_Hydrochloride</th>\n",
       "      <th>Miglitol</th>\n",
       "      <th>Nateglinide</th>\n",
       "      <th>Pioglitazone</th>\n",
       "      <th>Pioglitazone_Hydrochloride_And_Glimepiride</th>\n",
       "      <th>Repaglinide</th>\n",
       "      <th>Rosiglitazone_Maleate</th>\n",
       "      <th>Tolazamide</th>\n",
       "      <th>Tolbutamide</th>\n",
       "      <th>number_diagnoses</th>\n",
       "      <th>num_medications</th>\n",
       "      <th>num_procedures</th>\n",
       "    </tr>\n",
       "  </thead>\n",
       "  <tbody>\n",
       "    <tr>\n",
       "      <th>0</th>\n",
       "      <td>24264432</td>\n",
       "      <td>3.0</td>\n",
       "      <td>NO</td>\n",
       "      <td>1</td>\n",
       "      <td>3</td>\n",
       "      <td>7</td>\n",
       "      <td>434</td>\n",
       "      <td>Caucasian</td>\n",
       "      <td>Female</td>\n",
       "      <td>[90-100)</td>\n",
       "      <td>0</td>\n",
       "      <td>0</td>\n",
       "      <td>0</td>\n",
       "      <td>0</td>\n",
       "      <td>0</td>\n",
       "      <td>0</td>\n",
       "      <td>0</td>\n",
       "      <td>0</td>\n",
       "      <td>0</td>\n",
       "      <td>1</td>\n",
       "      <td>0</td>\n",
       "      <td>0</td>\n",
       "      <td>0</td>\n",
       "      <td>0</td>\n",
       "      <td>0</td>\n",
       "      <td>0</td>\n",
       "      <td>0</td>\n",
       "      <td>0</td>\n",
       "      <td>0</td>\n",
       "      <td>0</td>\n",
       "      <td>8</td>\n",
       "      <td>17</td>\n",
       "      <td>1</td>\n",
       "    </tr>\n",
       "    <tr>\n",
       "      <th>1</th>\n",
       "      <td>99431694</td>\n",
       "      <td>4.0</td>\n",
       "      <td>NO</td>\n",
       "      <td>1</td>\n",
       "      <td>3</td>\n",
       "      <td>6</td>\n",
       "      <td>250.8</td>\n",
       "      <td>Caucasian</td>\n",
       "      <td>Male</td>\n",
       "      <td>[70-80)</td>\n",
       "      <td>0</td>\n",
       "      <td>0</td>\n",
       "      <td>0</td>\n",
       "      <td>0</td>\n",
       "      <td>0</td>\n",
       "      <td>0</td>\n",
       "      <td>0</td>\n",
       "      <td>0</td>\n",
       "      <td>0</td>\n",
       "      <td>0</td>\n",
       "      <td>0</td>\n",
       "      <td>1</td>\n",
       "      <td>0</td>\n",
       "      <td>0</td>\n",
       "      <td>0</td>\n",
       "      <td>0</td>\n",
       "      <td>0</td>\n",
       "      <td>0</td>\n",
       "      <td>0</td>\n",
       "      <td>0</td>\n",
       "      <td>9</td>\n",
       "      <td>12</td>\n",
       "      <td>0</td>\n",
       "    </tr>\n",
       "    <tr>\n",
       "      <th>2</th>\n",
       "      <td>87297345</td>\n",
       "      <td>1.0</td>\n",
       "      <td>&gt;30</td>\n",
       "      <td>1</td>\n",
       "      <td>1</td>\n",
       "      <td>7</td>\n",
       "      <td>786</td>\n",
       "      <td>Caucasian</td>\n",
       "      <td>Male</td>\n",
       "      <td>[50-60)</td>\n",
       "      <td>0</td>\n",
       "      <td>0</td>\n",
       "      <td>0</td>\n",
       "      <td>0</td>\n",
       "      <td>0</td>\n",
       "      <td>1</td>\n",
       "      <td>0</td>\n",
       "      <td>0</td>\n",
       "      <td>0</td>\n",
       "      <td>0</td>\n",
       "      <td>0</td>\n",
       "      <td>0</td>\n",
       "      <td>0</td>\n",
       "      <td>0</td>\n",
       "      <td>0</td>\n",
       "      <td>0</td>\n",
       "      <td>0</td>\n",
       "      <td>0</td>\n",
       "      <td>0</td>\n",
       "      <td>0</td>\n",
       "      <td>8</td>\n",
       "      <td>13</td>\n",
       "      <td>0</td>\n",
       "    </tr>\n",
       "    <tr>\n",
       "      <th>3</th>\n",
       "      <td>67130091</td>\n",
       "      <td>4.0</td>\n",
       "      <td>NO</td>\n",
       "      <td>3</td>\n",
       "      <td>1</td>\n",
       "      <td>2</td>\n",
       "      <td>738</td>\n",
       "      <td>Caucasian</td>\n",
       "      <td>Male</td>\n",
       "      <td>[50-60)</td>\n",
       "      <td>0</td>\n",
       "      <td>0</td>\n",
       "      <td>0</td>\n",
       "      <td>0</td>\n",
       "      <td>0</td>\n",
       "      <td>1</td>\n",
       "      <td>0</td>\n",
       "      <td>0</td>\n",
       "      <td>0</td>\n",
       "      <td>0</td>\n",
       "      <td>0</td>\n",
       "      <td>0</td>\n",
       "      <td>0</td>\n",
       "      <td>0</td>\n",
       "      <td>0</td>\n",
       "      <td>0</td>\n",
       "      <td>0</td>\n",
       "      <td>0</td>\n",
       "      <td>0</td>\n",
       "      <td>0</td>\n",
       "      <td>9</td>\n",
       "      <td>32</td>\n",
       "      <td>2</td>\n",
       "    </tr>\n",
       "    <tr>\n",
       "      <th>4</th>\n",
       "      <td>41464089</td>\n",
       "      <td>7.0</td>\n",
       "      <td>&gt;30</td>\n",
       "      <td>1</td>\n",
       "      <td>6</td>\n",
       "      <td>7</td>\n",
       "      <td>428</td>\n",
       "      <td>Caucasian</td>\n",
       "      <td>Female</td>\n",
       "      <td>[70-80)</td>\n",
       "      <td>0</td>\n",
       "      <td>0</td>\n",
       "      <td>0</td>\n",
       "      <td>0</td>\n",
       "      <td>0</td>\n",
       "      <td>0</td>\n",
       "      <td>0</td>\n",
       "      <td>0</td>\n",
       "      <td>1</td>\n",
       "      <td>0</td>\n",
       "      <td>0</td>\n",
       "      <td>0</td>\n",
       "      <td>0</td>\n",
       "      <td>0</td>\n",
       "      <td>0</td>\n",
       "      <td>0</td>\n",
       "      <td>0</td>\n",
       "      <td>0</td>\n",
       "      <td>0</td>\n",
       "      <td>0</td>\n",
       "      <td>9</td>\n",
       "      <td>25</td>\n",
       "      <td>6</td>\n",
       "    </tr>\n",
       "    <tr>\n",
       "      <th>...</th>\n",
       "      <td>...</td>\n",
       "      <td>...</td>\n",
       "      <td>...</td>\n",
       "      <td>...</td>\n",
       "      <td>...</td>\n",
       "      <td>...</td>\n",
       "      <td>...</td>\n",
       "      <td>...</td>\n",
       "      <td>...</td>\n",
       "      <td>...</td>\n",
       "      <td>...</td>\n",
       "      <td>...</td>\n",
       "      <td>...</td>\n",
       "      <td>...</td>\n",
       "      <td>...</td>\n",
       "      <td>...</td>\n",
       "      <td>...</td>\n",
       "      <td>...</td>\n",
       "      <td>...</td>\n",
       "      <td>...</td>\n",
       "      <td>...</td>\n",
       "      <td>...</td>\n",
       "      <td>...</td>\n",
       "      <td>...</td>\n",
       "      <td>...</td>\n",
       "      <td>...</td>\n",
       "      <td>...</td>\n",
       "      <td>...</td>\n",
       "      <td>...</td>\n",
       "      <td>...</td>\n",
       "      <td>...</td>\n",
       "      <td>...</td>\n",
       "      <td>...</td>\n",
       "    </tr>\n",
       "    <tr>\n",
       "      <th>10849</th>\n",
       "      <td>68161518</td>\n",
       "      <td>3.0</td>\n",
       "      <td>NO</td>\n",
       "      <td>1</td>\n",
       "      <td>1</td>\n",
       "      <td>7</td>\n",
       "      <td>434</td>\n",
       "      <td>Caucasian</td>\n",
       "      <td>Female</td>\n",
       "      <td>[60-70)</td>\n",
       "      <td>0</td>\n",
       "      <td>0</td>\n",
       "      <td>0</td>\n",
       "      <td>0</td>\n",
       "      <td>0</td>\n",
       "      <td>0</td>\n",
       "      <td>0</td>\n",
       "      <td>0</td>\n",
       "      <td>0</td>\n",
       "      <td>0</td>\n",
       "      <td>0</td>\n",
       "      <td>1</td>\n",
       "      <td>0</td>\n",
       "      <td>0</td>\n",
       "      <td>0</td>\n",
       "      <td>0</td>\n",
       "      <td>0</td>\n",
       "      <td>0</td>\n",
       "      <td>0</td>\n",
       "      <td>0</td>\n",
       "      <td>9</td>\n",
       "      <td>17</td>\n",
       "      <td>2</td>\n",
       "    </tr>\n",
       "    <tr>\n",
       "      <th>10850</th>\n",
       "      <td>41456448</td>\n",
       "      <td>4.0</td>\n",
       "      <td>&gt;30</td>\n",
       "      <td>1</td>\n",
       "      <td>1</td>\n",
       "      <td>7</td>\n",
       "      <td>560</td>\n",
       "      <td>Caucasian</td>\n",
       "      <td>Female</td>\n",
       "      <td>[60-70)</td>\n",
       "      <td>0</td>\n",
       "      <td>0</td>\n",
       "      <td>0</td>\n",
       "      <td>0</td>\n",
       "      <td>0</td>\n",
       "      <td>0</td>\n",
       "      <td>0</td>\n",
       "      <td>0</td>\n",
       "      <td>0</td>\n",
       "      <td>0</td>\n",
       "      <td>0</td>\n",
       "      <td>1</td>\n",
       "      <td>0</td>\n",
       "      <td>0</td>\n",
       "      <td>0</td>\n",
       "      <td>0</td>\n",
       "      <td>0</td>\n",
       "      <td>0</td>\n",
       "      <td>0</td>\n",
       "      <td>0</td>\n",
       "      <td>5</td>\n",
       "      <td>14</td>\n",
       "      <td>0</td>\n",
       "    </tr>\n",
       "    <tr>\n",
       "      <th>10851</th>\n",
       "      <td>57846393</td>\n",
       "      <td>6.0</td>\n",
       "      <td>NO</td>\n",
       "      <td>2</td>\n",
       "      <td>3</td>\n",
       "      <td>4</td>\n",
       "      <td>599</td>\n",
       "      <td>Asian</td>\n",
       "      <td>Female</td>\n",
       "      <td>[90-100)</td>\n",
       "      <td>0</td>\n",
       "      <td>0</td>\n",
       "      <td>0</td>\n",
       "      <td>0</td>\n",
       "      <td>0</td>\n",
       "      <td>0</td>\n",
       "      <td>0</td>\n",
       "      <td>0</td>\n",
       "      <td>1</td>\n",
       "      <td>0</td>\n",
       "      <td>0</td>\n",
       "      <td>0</td>\n",
       "      <td>0</td>\n",
       "      <td>0</td>\n",
       "      <td>0</td>\n",
       "      <td>0</td>\n",
       "      <td>0</td>\n",
       "      <td>0</td>\n",
       "      <td>0</td>\n",
       "      <td>0</td>\n",
       "      <td>9</td>\n",
       "      <td>19</td>\n",
       "      <td>0</td>\n",
       "    </tr>\n",
       "    <tr>\n",
       "      <th>10852</th>\n",
       "      <td>78751161</td>\n",
       "      <td>5.0</td>\n",
       "      <td>NO</td>\n",
       "      <td>1</td>\n",
       "      <td>6</td>\n",
       "      <td>7</td>\n",
       "      <td>250.82</td>\n",
       "      <td>Caucasian</td>\n",
       "      <td>Female</td>\n",
       "      <td>[50-60)</td>\n",
       "      <td>0</td>\n",
       "      <td>0</td>\n",
       "      <td>0</td>\n",
       "      <td>0</td>\n",
       "      <td>0</td>\n",
       "      <td>0</td>\n",
       "      <td>0</td>\n",
       "      <td>0</td>\n",
       "      <td>0</td>\n",
       "      <td>0</td>\n",
       "      <td>0</td>\n",
       "      <td>1</td>\n",
       "      <td>0</td>\n",
       "      <td>0</td>\n",
       "      <td>0</td>\n",
       "      <td>0</td>\n",
       "      <td>0</td>\n",
       "      <td>0</td>\n",
       "      <td>0</td>\n",
       "      <td>0</td>\n",
       "      <td>9</td>\n",
       "      <td>21</td>\n",
       "      <td>1</td>\n",
       "    </tr>\n",
       "    <tr>\n",
       "      <th>10853</th>\n",
       "      <td>41351130</td>\n",
       "      <td>6.0</td>\n",
       "      <td>NO</td>\n",
       "      <td>3</td>\n",
       "      <td>3</td>\n",
       "      <td>1</td>\n",
       "      <td>715</td>\n",
       "      <td>Caucasian</td>\n",
       "      <td>Female</td>\n",
       "      <td>[50-60)</td>\n",
       "      <td>0</td>\n",
       "      <td>0</td>\n",
       "      <td>0</td>\n",
       "      <td>0</td>\n",
       "      <td>0</td>\n",
       "      <td>0</td>\n",
       "      <td>0</td>\n",
       "      <td>0</td>\n",
       "      <td>0</td>\n",
       "      <td>0</td>\n",
       "      <td>0</td>\n",
       "      <td>1</td>\n",
       "      <td>0</td>\n",
       "      <td>0</td>\n",
       "      <td>0</td>\n",
       "      <td>0</td>\n",
       "      <td>0</td>\n",
       "      <td>0</td>\n",
       "      <td>0</td>\n",
       "      <td>0</td>\n",
       "      <td>9</td>\n",
       "      <td>32</td>\n",
       "      <td>1</td>\n",
       "    </tr>\n",
       "  </tbody>\n",
       "</table>\n",
       "<p>10854 rows × 33 columns</p>\n",
       "</div>"
      ],
      "text/plain": [
       "       patient_nbr  time_in_hospital readmitted admission_type_id  \\\n",
       "0         24264432               3.0         NO                 1   \n",
       "1         99431694               4.0         NO                 1   \n",
       "2         87297345               1.0        >30                 1   \n",
       "3         67130091               4.0         NO                 3   \n",
       "4         41464089               7.0        >30                 1   \n",
       "...            ...               ...        ...               ...   \n",
       "10849     68161518               3.0         NO                 1   \n",
       "10850     41456448               4.0        >30                 1   \n",
       "10851     57846393               6.0         NO                 2   \n",
       "10852     78751161               5.0         NO                 1   \n",
       "10853     41351130               6.0         NO                 3   \n",
       "\n",
       "      discharge_disposition_id admission_source_id primary_diagnosis_code  \\\n",
       "0                            3                   7                    434   \n",
       "1                            3                   6                  250.8   \n",
       "2                            1                   7                    786   \n",
       "3                            1                   2                    738   \n",
       "4                            6                   7                    428   \n",
       "...                        ...                 ...                    ...   \n",
       "10849                        1                   7                    434   \n",
       "10850                        1                   7                    560   \n",
       "10851                        3                   4                    599   \n",
       "10852                        6                   7                 250.82   \n",
       "10853                        3                   1                    715   \n",
       "\n",
       "            race  gender       age Acarbose Glimepiride Glipizide  \\\n",
       "0      Caucasian  Female  [90-100)        0           0         0   \n",
       "1      Caucasian    Male   [70-80)        0           0         0   \n",
       "2      Caucasian    Male   [50-60)        0           0         0   \n",
       "3      Caucasian    Male   [50-60)        0           0         0   \n",
       "4      Caucasian  Female   [70-80)        0           0         0   \n",
       "...          ...     ...       ...      ...         ...       ...   \n",
       "10849  Caucasian  Female   [60-70)        0           0         0   \n",
       "10850  Caucasian  Female   [60-70)        0           0         0   \n",
       "10851      Asian  Female  [90-100)        0           0         0   \n",
       "10852  Caucasian  Female   [50-60)        0           0         0   \n",
       "10853  Caucasian  Female   [50-60)        0           0         0   \n",
       "\n",
       "      Glipizide_And_Metformin_Hcl Glipizide_And_Metformin_Hydrochloride  \\\n",
       "0                               0                                     0   \n",
       "1                               0                                     0   \n",
       "2                               0                                     0   \n",
       "3                               0                                     0   \n",
       "4                               0                                     0   \n",
       "...                           ...                                   ...   \n",
       "10849                           0                                     0   \n",
       "10850                           0                                     0   \n",
       "10851                           0                                     0   \n",
       "10852                           0                                     0   \n",
       "10853                           0                                     0   \n",
       "\n",
       "      Glyburide Glyburide_And_Metformin_Hydrochloride  \\\n",
       "0             0                                     0   \n",
       "1             0                                     0   \n",
       "2             1                                     0   \n",
       "3             1                                     0   \n",
       "4             0                                     0   \n",
       "...         ...                                   ...   \n",
       "10849         0                                     0   \n",
       "10850         0                                     0   \n",
       "10851         0                                     0   \n",
       "10852         0                                     0   \n",
       "10853         0                                     0   \n",
       "\n",
       "      Glyburide-metformin_Hydrochloride Human_Insulin Insulin_Human  \\\n",
       "0                                     0             0             1   \n",
       "1                                     0             0             0   \n",
       "2                                     0             0             0   \n",
       "3                                     0             0             0   \n",
       "4                                     0             1             0   \n",
       "...                                 ...           ...           ...   \n",
       "10849                                 0             0             0   \n",
       "10850                                 0             0             0   \n",
       "10851                                 0             1             0   \n",
       "10852                                 0             0             0   \n",
       "10853                                 0             0             0   \n",
       "\n",
       "      Metformin_Hcl Metformin_Hydrochloride Miglitol Nateglinide Pioglitazone  \\\n",
       "0                 0                       0        0           0            0   \n",
       "1                 0                       1        0           0            0   \n",
       "2                 0                       0        0           0            0   \n",
       "3                 0                       0        0           0            0   \n",
       "4                 0                       0        0           0            0   \n",
       "...             ...                     ...      ...         ...          ...   \n",
       "10849             0                       1        0           0            0   \n",
       "10850             0                       1        0           0            0   \n",
       "10851             0                       0        0           0            0   \n",
       "10852             0                       1        0           0            0   \n",
       "10853             0                       1        0           0            0   \n",
       "\n",
       "      Pioglitazone_Hydrochloride_And_Glimepiride Repaglinide  \\\n",
       "0                                              0           0   \n",
       "1                                              0           0   \n",
       "2                                              0           0   \n",
       "3                                              0           0   \n",
       "4                                              0           0   \n",
       "...                                          ...         ...   \n",
       "10849                                          0           0   \n",
       "10850                                          0           0   \n",
       "10851                                          0           0   \n",
       "10852                                          0           0   \n",
       "10853                                          0           0   \n",
       "\n",
       "      Rosiglitazone_Maleate Tolazamide Tolbutamide  number_diagnoses  \\\n",
       "0                         0          0           0                 8   \n",
       "1                         0          0           0                 9   \n",
       "2                         0          0           0                 8   \n",
       "3                         0          0           0                 9   \n",
       "4                         0          0           0                 9   \n",
       "...                     ...        ...         ...               ...   \n",
       "10849                     0          0           0                 9   \n",
       "10850                     0          0           0                 5   \n",
       "10851                     0          0           0                 9   \n",
       "10852                     0          0           0                 9   \n",
       "10853                     0          0           0                 9   \n",
       "\n",
       "       num_medications  num_procedures  \n",
       "0                   17               1  \n",
       "1                   12               0  \n",
       "2                   13               0  \n",
       "3                   32               2  \n",
       "4                   25               6  \n",
       "...                ...             ...  \n",
       "10849               17               2  \n",
       "10850               14               0  \n",
       "10851               19               0  \n",
       "10852               21               1  \n",
       "10853               32               1  \n",
       "\n",
       "[10854 rows x 33 columns]"
      ]
     },
     "execution_count": 456,
     "metadata": {},
     "output_type": "execute_result"
    }
   ],
   "source": [
    "d_test"
   ]
  },
  {
   "cell_type": "markdown",
   "metadata": {},
   "source": [
    "## Demographic Representation Analysis of Split"
   ]
  },
  {
   "cell_type": "markdown",
   "metadata": {},
   "source": [
    "After the split, we should check to see the distribution of key features/groups and make sure that there is representative samples across the partitions. The show_group_stats_viz function in the utils.py file can be used to group and visualize different groups and dataframe partitions."
   ]
  },
  {
   "cell_type": "markdown",
   "metadata": {},
   "source": [
    "### Label Distribution Across Partitions"
   ]
  },
  {
   "cell_type": "markdown",
   "metadata": {},
   "source": [
    "Below you can see the distributution of the label across your splits. Are the histogram distribution shapes similar across partitions?"
   ]
  },
  {
   "cell_type": "code",
   "execution_count": 457,
   "metadata": {},
   "outputs": [
    {
     "name": "stdout",
     "output_type": "stream",
     "text": [
      "time_in_hospital\n",
      "1.0     7317\n",
      "2.0     9191\n",
      "3.0     9740\n",
      "4.0     7417\n",
      "5.0     5348\n",
      "6.0     3991\n",
      "7.0     3123\n",
      "8.0     2310\n",
      "9.0     1597\n",
      "10.0    1241\n",
      "11.0    1008\n",
      "12.0     783\n",
      "13.0     663\n",
      "14.0     540\n",
      "dtype: int64\n",
      "AxesSubplot(0.125,0.125;0.775x0.755)\n"
     ]
    },
    {
     "data": {
      "image/png": "[encoded data removed]",
      "text/plain": [
       "<Figure size 432x288 with 1 Axes>"
      ]
     },
     "metadata": {
      "needs_background": "light"
     },
     "output_type": "display_data"
    }
   ],
   "source": [
    "show_group_stats_viz(processed_df, PREDICTOR_FIELD)"
   ]
  },
  {
   "cell_type": "code",
   "execution_count": 458,
   "metadata": {},
   "outputs": [
    {
     "name": "stdout",
     "output_type": "stream",
     "text": [
      "time_in_hospital\n",
      "1.0     4382\n",
      "2.0     5491\n",
      "3.0     5916\n",
      "4.0     4458\n",
      "5.0     3175\n",
      "6.0     2392\n",
      "7.0     1882\n",
      "8.0     1389\n",
      "9.0      957\n",
      "10.0     724\n",
      "11.0     596\n",
      "12.0     477\n",
      "13.0     398\n",
      "14.0     324\n",
      "dtype: int64\n",
      "AxesSubplot(0.125,0.125;0.775x0.755)\n"
     ]
    },
    {
     "data": {
      "image/png": "[encoded data removed]",
      "text/plain": [
       "<Figure size 432x288 with 1 Axes>"
      ]
     },
     "metadata": {
      "needs_background": "light"
     },
     "output_type": "display_data"
    }
   ],
   "source": [
    "show_group_stats_viz(d_train, PREDICTOR_FIELD)"
   ]
  },
  {
   "cell_type": "code",
   "execution_count": 459,
   "metadata": {},
   "outputs": [
    {
     "name": "stdout",
     "output_type": "stream",
     "text": [
      "time_in_hospital\n",
      "1.0     1494\n",
      "2.0     1848\n",
      "3.0     1876\n",
      "4.0     1525\n",
      "5.0     1099\n",
      "6.0      765\n",
      "7.0      615\n",
      "8.0      477\n",
      "9.0      301\n",
      "10.0     253\n",
      "11.0     219\n",
      "12.0     146\n",
      "13.0     140\n",
      "14.0      96\n",
      "dtype: int64\n",
      "AxesSubplot(0.125,0.125;0.775x0.755)\n"
     ]
    },
    {
     "data": {
      "image/png": "[encoded data removed]",
      "text/plain": [
       "<Figure size 432x288 with 1 Axes>"
      ]
     },
     "metadata": {
      "needs_background": "light"
     },
     "output_type": "display_data"
    }
   ],
   "source": [
    "show_group_stats_viz(d_test, PREDICTOR_FIELD)"
   ]
  },
  {
   "cell_type": "markdown",
   "metadata": {},
   "source": [
    "## Demographic Group Analysis"
   ]
  },
  {
   "cell_type": "markdown",
   "metadata": {},
   "source": [
    "We should check that our partitions/splits of the dataset are similar in terms of their demographic profiles. Below you can see how we might visualize and analyze the full dataset vs. the partitions."
   ]
  },
  {
   "cell_type": "code",
   "execution_count": 460,
   "metadata": {},
   "outputs": [
    {
     "name": "stdout",
     "output_type": "stream",
     "text": [
      "gender\n",
      "Female    28572\n",
      "Male      25697\n",
      "dtype: int64\n",
      "AxesSubplot(0.125,0.125;0.775x0.755)\n"
     ]
    },
    {
     "data": {
      "image/png": "[encoded data removed]",
      "text/plain": [
       "<Figure size 432x288 with 1 Axes>"
      ]
     },
     "metadata": {
      "needs_background": "light"
     },
     "output_type": "display_data"
    }
   ],
   "source": [
    "# Full dataset before splitting\n",
    "patient_demo_features = ['race', 'gender', 'age', 'patient_nbr']\n",
    "patient_group_analysis_df = processed_df[patient_demo_features].groupby('patient_nbr').head(1).reset_index(drop=True)\n",
    "show_group_stats_viz(patient_group_analysis_df, 'gender')"
   ]
  },
  {
   "cell_type": "code",
   "execution_count": 461,
   "metadata": {},
   "outputs": [
    {
     "name": "stdout",
     "output_type": "stream",
     "text": [
      "gender\n",
      "Female    17180\n",
      "Male      15381\n",
      "dtype: int64\n",
      "AxesSubplot(0.125,0.125;0.775x0.755)\n"
     ]
    },
    {
     "data": {
      "image/png": "[encoded data removed]",
      "text/plain": [
       "<Figure size 432x288 with 1 Axes>"
      ]
     },
     "metadata": {
      "needs_background": "light"
     },
     "output_type": "display_data"
    }
   ],
   "source": [
    "# Training partition\n",
    "show_group_stats_viz(d_train, 'gender')"
   ]
  },
  {
   "cell_type": "code",
   "execution_count": 462,
   "metadata": {},
   "outputs": [
    {
     "name": "stdout",
     "output_type": "stream",
     "text": [
      "gender\n",
      "Female    5716\n",
      "Male      5138\n",
      "dtype: int64\n",
      "AxesSubplot(0.125,0.125;0.775x0.755)\n"
     ]
    },
    {
     "data": {
      "image/png": "[encoded data removed]",
      "text/plain": [
       "<Figure size 432x288 with 1 Axes>"
      ]
     },
     "metadata": {
      "needs_background": "light"
     },
     "output_type": "display_data"
    }
   ],
   "source": [
    "# Test partition\n",
    "show_group_stats_viz(d_test, 'gender')"
   ]
  },
  {
   "cell_type": "markdown",
   "metadata": {},
   "source": [
    "## Convert Dataset Splits to TF Dataset"
   ]
  },
  {
   "cell_type": "markdown",
   "metadata": {},
   "source": [
    "We have provided you the function to convert the Pandas dataframe to TF tensors using the TF Dataset API. \n",
    "Please note that this is not a scalable method and for larger datasets, the 'make_csv_dataset' method is recommended -https://www.tensorflow.org/api_docs/python/tf/data/experimental/make_csv_dataset."
   ]
  },
  {
   "cell_type": "code",
   "execution_count": 463,
   "metadata": {},
   "outputs": [],
   "source": [
    "# Convert dataset from Pandas dataframes to TF dataset \n",
    "batch_size = 128\n",
    "diabetes_train_ds = df_to_dataset(d_train, PREDICTOR_FIELD, batch_size=batch_size)\n",
    "diabetes_val_ds = df_to_dataset(d_val, PREDICTOR_FIELD, batch_size=batch_size)\n",
    "diabetes_test_ds = df_to_dataset(d_test, PREDICTOR_FIELD, batch_size=batch_size)"
   ]
  },
  {
   "cell_type": "code",
   "execution_count": 464,
   "metadata": {},
   "outputs": [],
   "source": [
    "# We use this sample of the dataset to show transformations later\n",
    "diabetes_batch = next(iter(diabetes_train_ds))[0]\n",
    "def demo(feature_column, example_batch):\n",
    "    feature_layer = layers.DenseFeatures(feature_column)\n",
    "    print(feature_layer(example_batch))"
   ]
  },
  {
   "cell_type": "markdown",
   "metadata": {},
   "source": [
    "# 4. Create Categorical Features with TF Feature Columns"
   ]
  },
  {
   "cell_type": "markdown",
   "metadata": {},
   "source": [
    "## Build Vocabulary for Categorical Features"
   ]
  },
  {
   "cell_type": "markdown",
   "metadata": {},
   "source": [
    "Before we can create the TF categorical features, we must first create the vocab files with the unique values for a given field that are from the **training** dataset. Below we have provided a function that you can use that only requires providing the pandas train dataset partition and the list of the categorical columns in a list format. The output variable 'vocab_file_list' will be a list of the file paths that can be used in the next step for creating the categorical features."
   ]
  },
  {
   "cell_type": "code",
   "execution_count": 465,
   "metadata": {},
   "outputs": [],
   "source": [
    "vocab_file_list = build_vocab_files(d_train, student_categorical_col_list)"
   ]
  },
  {
   "cell_type": "code",
   "execution_count": 466,
   "metadata": {},
   "outputs": [
    {
     "data": {
      "text/plain": [
       "['./diabetes_vocab/readmitted_vocab.txt',\n",
       " './diabetes_vocab/admission_type_id_vocab.txt',\n",
       " './diabetes_vocab/discharge_disposition_id_vocab.txt',\n",
       " './diabetes_vocab/admission_source_id_vocab.txt',\n",
       " './diabetes_vocab/primary_diagnosis_code_vocab.txt',\n",
       " './diabetes_vocab/race_vocab.txt',\n",
       " './diabetes_vocab/gender_vocab.txt',\n",
       " './diabetes_vocab/age_vocab.txt',\n",
       " './diabetes_vocab/Acarbose_vocab.txt',\n",
       " './diabetes_vocab/Glimepiride_vocab.txt',\n",
       " './diabetes_vocab/Glipizide_vocab.txt',\n",
       " './diabetes_vocab/Glipizide_And_Metformin_Hcl_vocab.txt',\n",
       " './diabetes_vocab/Glipizide_And_Metformin_Hydrochloride_vocab.txt',\n",
       " './diabetes_vocab/Glyburide_vocab.txt',\n",
       " './diabetes_vocab/Glyburide_And_Metformin_Hydrochloride_vocab.txt',\n",
       " './diabetes_vocab/Glyburide-metformin_Hydrochloride_vocab.txt',\n",
       " './diabetes_vocab/Human_Insulin_vocab.txt',\n",
       " './diabetes_vocab/Insulin_Human_vocab.txt',\n",
       " './diabetes_vocab/Metformin_Hcl_vocab.txt',\n",
       " './diabetes_vocab/Metformin_Hydrochloride_vocab.txt',\n",
       " './diabetes_vocab/Miglitol_vocab.txt',\n",
       " './diabetes_vocab/Nateglinide_vocab.txt',\n",
       " './diabetes_vocab/Pioglitazone_vocab.txt',\n",
       " './diabetes_vocab/Pioglitazone_Hydrochloride_And_Glimepiride_vocab.txt',\n",
       " './diabetes_vocab/Repaglinide_vocab.txt',\n",
       " './diabetes_vocab/Rosiglitazone_Maleate_vocab.txt',\n",
       " './diabetes_vocab/Tolazamide_vocab.txt',\n",
       " './diabetes_vocab/Tolbutamide_vocab.txt']"
      ]
     },
     "execution_count": 466,
     "metadata": {},
     "output_type": "execute_result"
    }
   ],
   "source": [
    "vocab_file_list"
   ]
  },
  {
   "cell_type": "markdown",
   "metadata": {},
   "source": [
    "## Create Categorical Features with Tensorflow Feature Column API"
   ]
  },
  {
   "cell_type": "markdown",
   "metadata": {},
   "source": [
    "**Question 7**: Using the vocab file list from above that was derived fromt the features you selected earlier, please create categorical features with the Tensorflow Feature Column API, https://www.tensorflow.org/api_docs/python/tf/feature_column. Below is a function to help guide you."
   ]
  },
  {
   "cell_type": "code",
   "execution_count": 467,
   "metadata": {},
   "outputs": [
    {
     "name": "stdout",
     "output_type": "stream",
     "text": [
      "INFO:tensorflow:vocabulary_size = 4 in readmitted is inferred from the number of elements in the vocabulary_file ./diabetes_vocab/readmitted_vocab.txt.\n"
     ]
    },
    {
     "name": "stderr",
     "output_type": "stream",
     "text": [
      "INFO:tensorflow:vocabulary_size = 4 in readmitted is inferred from the number of elements in the vocabulary_file ./diabetes_vocab/readmitted_vocab.txt.\n"
     ]
    },
    {
     "name": "stdout",
     "output_type": "stream",
     "text": [
      "readmitted ./diabetes_vocab/readmitted_vocab.txt\n",
      "INFO:tensorflow:vocabulary_size = 9 in admission_type_id is inferred from the number of elements in the vocabulary_file ./diabetes_vocab/admission_type_id_vocab.txt.\n"
     ]
    },
    {
     "name": "stderr",
     "output_type": "stream",
     "text": [
      "INFO:tensorflow:vocabulary_size = 9 in admission_type_id is inferred from the number of elements in the vocabulary_file ./diabetes_vocab/admission_type_id_vocab.txt.\n"
     ]
    },
    {
     "name": "stdout",
     "output_type": "stream",
     "text": [
      "admission_type_id ./diabetes_vocab/admission_type_id_vocab.txt\n",
      "INFO:tensorflow:vocabulary_size = 26 in discharge_disposition_id is inferred from the number of elements in the vocabulary_file ./diabetes_vocab/discharge_disposition_id_vocab.txt.\n"
     ]
    },
    {
     "name": "stderr",
     "output_type": "stream",
     "text": [
      "INFO:tensorflow:vocabulary_size = 26 in discharge_disposition_id is inferred from the number of elements in the vocabulary_file ./diabetes_vocab/discharge_disposition_id_vocab.txt.\n"
     ]
    },
    {
     "name": "stdout",
     "output_type": "stream",
     "text": [
      "discharge_disposition_id ./diabetes_vocab/discharge_disposition_id_vocab.txt\n",
      "INFO:tensorflow:vocabulary_size = 18 in admission_source_id is inferred from the number of elements in the vocabulary_file ./diabetes_vocab/admission_source_id_vocab.txt.\n"
     ]
    },
    {
     "name": "stderr",
     "output_type": "stream",
     "text": [
      "INFO:tensorflow:vocabulary_size = 18 in admission_source_id is inferred from the number of elements in the vocabulary_file ./diabetes_vocab/admission_source_id_vocab.txt.\n"
     ]
    },
    {
     "name": "stdout",
     "output_type": "stream",
     "text": [
      "admission_source_id ./diabetes_vocab/admission_source_id_vocab.txt\n",
      "INFO:tensorflow:vocabulary_size = 602 in primary_diagnosis_code is inferred from the number of elements in the vocabulary_file ./diabetes_vocab/primary_diagnosis_code_vocab.txt.\n"
     ]
    },
    {
     "name": "stderr",
     "output_type": "stream",
     "text": [
      "INFO:tensorflow:vocabulary_size = 602 in primary_diagnosis_code is inferred from the number of elements in the vocabulary_file ./diabetes_vocab/primary_diagnosis_code_vocab.txt.\n"
     ]
    },
    {
     "name": "stdout",
     "output_type": "stream",
     "text": [
      "primary_diagnosis_code ./diabetes_vocab/primary_diagnosis_code_vocab.txt\n",
      "INFO:tensorflow:vocabulary_size = 7 in race is inferred from the number of elements in the vocabulary_file ./diabetes_vocab/race_vocab.txt.\n"
     ]
    },
    {
     "name": "stderr",
     "output_type": "stream",
     "text": [
      "INFO:tensorflow:vocabulary_size = 7 in race is inferred from the number of elements in the vocabulary_file ./diabetes_vocab/race_vocab.txt.\n"
     ]
    },
    {
     "name": "stdout",
     "output_type": "stream",
     "text": [
      "race ./diabetes_vocab/race_vocab.txt\n",
      "INFO:tensorflow:vocabulary_size = 3 in gender is inferred from the number of elements in the vocabulary_file ./diabetes_vocab/gender_vocab.txt.\n"
     ]
    },
    {
     "name": "stderr",
     "output_type": "stream",
     "text": [
      "INFO:tensorflow:vocabulary_size = 3 in gender is inferred from the number of elements in the vocabulary_file ./diabetes_vocab/gender_vocab.txt.\n"
     ]
    },
    {
     "name": "stdout",
     "output_type": "stream",
     "text": [
      "gender ./diabetes_vocab/gender_vocab.txt\n",
      "INFO:tensorflow:vocabulary_size = 11 in age is inferred from the number of elements in the vocabulary_file ./diabetes_vocab/age_vocab.txt.\n"
     ]
    },
    {
     "name": "stderr",
     "output_type": "stream",
     "text": [
      "INFO:tensorflow:vocabulary_size = 11 in age is inferred from the number of elements in the vocabulary_file ./diabetes_vocab/age_vocab.txt.\n"
     ]
    },
    {
     "name": "stdout",
     "output_type": "stream",
     "text": [
      "age ./diabetes_vocab/age_vocab.txt\n",
      "INFO:tensorflow:vocabulary_size = 3 in Acarbose is inferred from the number of elements in the vocabulary_file ./diabetes_vocab/Acarbose_vocab.txt.\n"
     ]
    },
    {
     "name": "stderr",
     "output_type": "stream",
     "text": [
      "INFO:tensorflow:vocabulary_size = 3 in Acarbose is inferred from the number of elements in the vocabulary_file ./diabetes_vocab/Acarbose_vocab.txt.\n"
     ]
    },
    {
     "name": "stdout",
     "output_type": "stream",
     "text": [
      "Acarbose ./diabetes_vocab/Acarbose_vocab.txt\n",
      "INFO:tensorflow:vocabulary_size = 3 in Glimepiride is inferred from the number of elements in the vocabulary_file ./diabetes_vocab/Glimepiride_vocab.txt.\n"
     ]
    },
    {
     "name": "stderr",
     "output_type": "stream",
     "text": [
      "INFO:tensorflow:vocabulary_size = 3 in Glimepiride is inferred from the number of elements in the vocabulary_file ./diabetes_vocab/Glimepiride_vocab.txt.\n"
     ]
    },
    {
     "name": "stdout",
     "output_type": "stream",
     "text": [
      "Glimepiride ./diabetes_vocab/Glimepiride_vocab.txt\n",
      "INFO:tensorflow:vocabulary_size = 3 in Glipizide is inferred from the number of elements in the vocabulary_file ./diabetes_vocab/Glipizide_vocab.txt.\n"
     ]
    },
    {
     "name": "stderr",
     "output_type": "stream",
     "text": [
      "INFO:tensorflow:vocabulary_size = 3 in Glipizide is inferred from the number of elements in the vocabulary_file ./diabetes_vocab/Glipizide_vocab.txt.\n"
     ]
    },
    {
     "name": "stdout",
     "output_type": "stream",
     "text": [
      "Glipizide ./diabetes_vocab/Glipizide_vocab.txt\n",
      "INFO:tensorflow:vocabulary_size = 3 in Glipizide_And_Metformin_Hcl is inferred from the number of elements in the vocabulary_file ./diabetes_vocab/Glipizide_And_Metformin_Hcl_vocab.txt.\n"
     ]
    },
    {
     "name": "stderr",
     "output_type": "stream",
     "text": [
      "INFO:tensorflow:vocabulary_size = 3 in Glipizide_And_Metformin_Hcl is inferred from the number of elements in the vocabulary_file ./diabetes_vocab/Glipizide_And_Metformin_Hcl_vocab.txt.\n"
     ]
    },
    {
     "name": "stdout",
     "output_type": "stream",
     "text": [
      "Glipizide_And_Metformin_Hcl ./diabetes_vocab/Glipizide_And_Metformin_Hcl_vocab.txt\n",
      "INFO:tensorflow:vocabulary_size = 3 in Glipizide_And_Metformin_Hydrochloride is inferred from the number of elements in the vocabulary_file ./diabetes_vocab/Glipizide_And_Metformin_Hydrochloride_vocab.txt.\n"
     ]
    },
    {
     "name": "stderr",
     "output_type": "stream",
     "text": [
      "INFO:tensorflow:vocabulary_size = 3 in Glipizide_And_Metformin_Hydrochloride is inferred from the number of elements in the vocabulary_file ./diabetes_vocab/Glipizide_And_Metformin_Hydrochloride_vocab.txt.\n"
     ]
    },
    {
     "name": "stdout",
     "output_type": "stream",
     "text": [
      "Glipizide_And_Metformin_Hydrochloride ./diabetes_vocab/Glipizide_And_Metformin_Hydrochloride_vocab.txt\n",
      "INFO:tensorflow:vocabulary_size = 3 in Glyburide is inferred from the number of elements in the vocabulary_file ./diabetes_vocab/Glyburide_vocab.txt.\n"
     ]
    },
    {
     "name": "stderr",
     "output_type": "stream",
     "text": [
      "INFO:tensorflow:vocabulary_size = 3 in Glyburide is inferred from the number of elements in the vocabulary_file ./diabetes_vocab/Glyburide_vocab.txt.\n"
     ]
    },
    {
     "name": "stdout",
     "output_type": "stream",
     "text": [
      "Glyburide ./diabetes_vocab/Glyburide_vocab.txt\n",
      "INFO:tensorflow:vocabulary_size = 3 in Glyburide_And_Metformin_Hydrochloride is inferred from the number of elements in the vocabulary_file ./diabetes_vocab/Glyburide_And_Metformin_Hydrochloride_vocab.txt.\n"
     ]
    },
    {
     "name": "stderr",
     "output_type": "stream",
     "text": [
      "INFO:tensorflow:vocabulary_size = 3 in Glyburide_And_Metformin_Hydrochloride is inferred from the number of elements in the vocabulary_file ./diabetes_vocab/Glyburide_And_Metformin_Hydrochloride_vocab.txt.\n"
     ]
    },
    {
     "name": "stdout",
     "output_type": "stream",
     "text": [
      "Glyburide_And_Metformin_Hydrochloride ./diabetes_vocab/Glyburide_And_Metformin_Hydrochloride_vocab.txt\n",
      "INFO:tensorflow:vocabulary_size = 3 in Glyburide-metformin_Hydrochloride is inferred from the number of elements in the vocabulary_file ./diabetes_vocab/Glyburide-metformin_Hydrochloride_vocab.txt.\n"
     ]
    },
    {
     "name": "stderr",
     "output_type": "stream",
     "text": [
      "INFO:tensorflow:vocabulary_size = 3 in Glyburide-metformin_Hydrochloride is inferred from the number of elements in the vocabulary_file ./diabetes_vocab/Glyburide-metformin_Hydrochloride_vocab.txt.\n"
     ]
    },
    {
     "name": "stdout",
     "output_type": "stream",
     "text": [
      "Glyburide-metformin_Hydrochloride ./diabetes_vocab/Glyburide-metformin_Hydrochloride_vocab.txt\n",
      "INFO:tensorflow:vocabulary_size = 3 in Human_Insulin is inferred from the number of elements in the vocabulary_file ./diabetes_vocab/Human_Insulin_vocab.txt.\n"
     ]
    },
    {
     "name": "stderr",
     "output_type": "stream",
     "text": [
      "INFO:tensorflow:vocabulary_size = 3 in Human_Insulin is inferred from the number of elements in the vocabulary_file ./diabetes_vocab/Human_Insulin_vocab.txt.\n"
     ]
    },
    {
     "name": "stdout",
     "output_type": "stream",
     "text": [
      "Human_Insulin ./diabetes_vocab/Human_Insulin_vocab.txt\n",
      "INFO:tensorflow:vocabulary_size = 3 in Insulin_Human is inferred from the number of elements in the vocabulary_file ./diabetes_vocab/Insulin_Human_vocab.txt.\n"
     ]
    },
    {
     "name": "stderr",
     "output_type": "stream",
     "text": [
      "INFO:tensorflow:vocabulary_size = 3 in Insulin_Human is inferred from the number of elements in the vocabulary_file ./diabetes_vocab/Insulin_Human_vocab.txt.\n"
     ]
    },
    {
     "name": "stdout",
     "output_type": "stream",
     "text": [
      "Insulin_Human ./diabetes_vocab/Insulin_Human_vocab.txt\n",
      "INFO:tensorflow:vocabulary_size = 3 in Metformin_Hcl is inferred from the number of elements in the vocabulary_file ./diabetes_vocab/Metformin_Hcl_vocab.txt.\n"
     ]
    },
    {
     "name": "stderr",
     "output_type": "stream",
     "text": [
      "INFO:tensorflow:vocabulary_size = 3 in Metformin_Hcl is inferred from the number of elements in the vocabulary_file ./diabetes_vocab/Metformin_Hcl_vocab.txt.\n"
     ]
    },
    {
     "name": "stdout",
     "output_type": "stream",
     "text": [
      "Metformin_Hcl ./diabetes_vocab/Metformin_Hcl_vocab.txt\n",
      "INFO:tensorflow:vocabulary_size = 3 in Metformin_Hydrochloride is inferred from the number of elements in the vocabulary_file ./diabetes_vocab/Metformin_Hydrochloride_vocab.txt.\n"
     ]
    },
    {
     "name": "stderr",
     "output_type": "stream",
     "text": [
      "INFO:tensorflow:vocabulary_size = 3 in Metformin_Hydrochloride is inferred from the number of elements in the vocabulary_file ./diabetes_vocab/Metformin_Hydrochloride_vocab.txt.\n"
     ]
    },
    {
     "name": "stdout",
     "output_type": "stream",
     "text": [
      "Metformin_Hydrochloride ./diabetes_vocab/Metformin_Hydrochloride_vocab.txt\n",
      "INFO:tensorflow:vocabulary_size = 3 in Miglitol is inferred from the number of elements in the vocabulary_file ./diabetes_vocab/Miglitol_vocab.txt.\n"
     ]
    },
    {
     "name": "stderr",
     "output_type": "stream",
     "text": [
      "INFO:tensorflow:vocabulary_size = 3 in Miglitol is inferred from the number of elements in the vocabulary_file ./diabetes_vocab/Miglitol_vocab.txt.\n"
     ]
    },
    {
     "name": "stdout",
     "output_type": "stream",
     "text": [
      "Miglitol ./diabetes_vocab/Miglitol_vocab.txt\n",
      "INFO:tensorflow:vocabulary_size = 3 in Nateglinide is inferred from the number of elements in the vocabulary_file ./diabetes_vocab/Nateglinide_vocab.txt.\n"
     ]
    },
    {
     "name": "stderr",
     "output_type": "stream",
     "text": [
      "INFO:tensorflow:vocabulary_size = 3 in Nateglinide is inferred from the number of elements in the vocabulary_file ./diabetes_vocab/Nateglinide_vocab.txt.\n"
     ]
    },
    {
     "name": "stdout",
     "output_type": "stream",
     "text": [
      "Nateglinide ./diabetes_vocab/Nateglinide_vocab.txt\n",
      "INFO:tensorflow:vocabulary_size = 3 in Pioglitazone is inferred from the number of elements in the vocabulary_file ./diabetes_vocab/Pioglitazone_vocab.txt.\n"
     ]
    },
    {
     "name": "stderr",
     "output_type": "stream",
     "text": [
      "INFO:tensorflow:vocabulary_size = 3 in Pioglitazone is inferred from the number of elements in the vocabulary_file ./diabetes_vocab/Pioglitazone_vocab.txt.\n"
     ]
    },
    {
     "name": "stdout",
     "output_type": "stream",
     "text": [
      "Pioglitazone ./diabetes_vocab/Pioglitazone_vocab.txt\n",
      "INFO:tensorflow:vocabulary_size = 3 in Pioglitazone_Hydrochloride_And_Glimepiride is inferred from the number of elements in the vocabulary_file ./diabetes_vocab/Pioglitazone_Hydrochloride_And_Glimepiride_vocab.txt.\n"
     ]
    },
    {
     "name": "stderr",
     "output_type": "stream",
     "text": [
      "INFO:tensorflow:vocabulary_size = 3 in Pioglitazone_Hydrochloride_And_Glimepiride is inferred from the number of elements in the vocabulary_file ./diabetes_vocab/Pioglitazone_Hydrochloride_And_Glimepiride_vocab.txt.\n"
     ]
    },
    {
     "name": "stdout",
     "output_type": "stream",
     "text": [
      "Pioglitazone_Hydrochloride_And_Glimepiride ./diabetes_vocab/Pioglitazone_Hydrochloride_And_Glimepiride_vocab.txt\n",
      "INFO:tensorflow:vocabulary_size = 3 in Repaglinide is inferred from the number of elements in the vocabulary_file ./diabetes_vocab/Repaglinide_vocab.txt.\n"
     ]
    },
    {
     "name": "stderr",
     "output_type": "stream",
     "text": [
      "INFO:tensorflow:vocabulary_size = 3 in Repaglinide is inferred from the number of elements in the vocabulary_file ./diabetes_vocab/Repaglinide_vocab.txt.\n"
     ]
    },
    {
     "name": "stdout",
     "output_type": "stream",
     "text": [
      "Repaglinide ./diabetes_vocab/Repaglinide_vocab.txt\n",
      "INFO:tensorflow:vocabulary_size = 3 in Rosiglitazone_Maleate is inferred from the number of elements in the vocabulary_file ./diabetes_vocab/Rosiglitazone_Maleate_vocab.txt.\n"
     ]
    },
    {
     "name": "stderr",
     "output_type": "stream",
     "text": [
      "INFO:tensorflow:vocabulary_size = 3 in Rosiglitazone_Maleate is inferred from the number of elements in the vocabulary_file ./diabetes_vocab/Rosiglitazone_Maleate_vocab.txt.\n"
     ]
    },
    {
     "name": "stdout",
     "output_type": "stream",
     "text": [
      "Rosiglitazone_Maleate ./diabetes_vocab/Rosiglitazone_Maleate_vocab.txt\n",
      "INFO:tensorflow:vocabulary_size = 3 in Tolazamide is inferred from the number of elements in the vocabulary_file ./diabetes_vocab/Tolazamide_vocab.txt.\n"
     ]
    },
    {
     "name": "stderr",
     "output_type": "stream",
     "text": [
      "INFO:tensorflow:vocabulary_size = 3 in Tolazamide is inferred from the number of elements in the vocabulary_file ./diabetes_vocab/Tolazamide_vocab.txt.\n"
     ]
    },
    {
     "name": "stdout",
     "output_type": "stream",
     "text": [
      "Tolazamide ./diabetes_vocab/Tolazamide_vocab.txt\n",
      "INFO:tensorflow:vocabulary_size = 3 in Tolbutamide is inferred from the number of elements in the vocabulary_file ./diabetes_vocab/Tolbutamide_vocab.txt.\n"
     ]
    },
    {
     "name": "stderr",
     "output_type": "stream",
     "text": [
      "INFO:tensorflow:vocabulary_size = 3 in Tolbutamide is inferred from the number of elements in the vocabulary_file ./diabetes_vocab/Tolbutamide_vocab.txt.\n"
     ]
    },
    {
     "name": "stdout",
     "output_type": "stream",
     "text": [
      "Tolbutamide ./diabetes_vocab/Tolbutamide_vocab.txt\n"
     ]
    }
   ],
   "source": [
    "from student_utils import create_tf_categorical_feature_cols\n",
    "\"\"\"\n",
    "student_categorical_col_list = ['race', 'gender', 'age' ]\n",
    "df = pd.read_csv('./data/final_project_dataset.csv')\n",
    "batch_size = 128\n",
    "PREDICTOR ='time_in_hospital'\n",
    "diabetes_train_ds = df_to_dataset(df[ student_categorical_col_list + [PREDICTOR] ], PREDICTOR, batch_size=batch_size)\n",
    "diabetes_batch = next(iter(diabetes_train_ds))[0]\n",
    "tf_cat_col_list = create_tf_categorical_feature_cols(student_categorical_col_list)\n",
    "test_cat_var1 = tf_cat_col_list[0]\n",
    "print(\"Example categorical field:\\n{}\".format(test_cat_var1))\n",
    "demo(test_cat_var1, diabetes_batch)\n",
    "\"\"\"\n",
    "tf_cat_col_list = create_tf_categorical_feature_cols(student_categorical_col_list)"
   ]
  },
  {
   "cell_type": "code",
   "execution_count": 468,
   "metadata": {},
   "outputs": [
    {
     "name": "stdout",
     "output_type": "stream",
     "text": [
      "Example categorical field:\n",
      "IndicatorColumn(categorical_column=VocabularyFileCategoricalColumn(key='readmitted', vocabulary_file='./diabetes_vocab/readmitted_vocab.txt', vocabulary_size=4, num_oov_buckets=1, dtype=tf.string, default_value=-1))\n",
      "WARNING:tensorflow:Layer dense_features_13 is casting an input tensor from dtype float64 to the layer's dtype of float32, which is new behavior in TensorFlow 2.  The layer has dtype float32 because it's dtype defaults to floatx.\n",
      "\n",
      "If you intended to run this layer in float32, you can safely ignore this warning. If in doubt, this warning is likely only an issue if you are porting a TensorFlow 1.X model to TensorFlow 2.\n",
      "\n",
      "To change all layers to have dtype float64 by default, call `tf.keras.backend.set_floatx('float64')`. To change just this layer, pass dtype='float64' to the layer constructor. If you are the author of this layer, you can disable autocasting by passing autocast=False to the base Layer constructor.\n",
      "\n"
     ]
    },
    {
     "name": "stderr",
     "output_type": "stream",
     "text": [
      "WARNING:tensorflow:Layer dense_features_13 is casting an input tensor from dtype float64 to the layer's dtype of float32, which is new behavior in TensorFlow 2.  The layer has dtype float32 because it's dtype defaults to floatx.\n",
      "\n",
      "If you intended to run this layer in float32, you can safely ignore this warning. If in doubt, this warning is likely only an issue if you are porting a TensorFlow 1.X model to TensorFlow 2.\n",
      "\n",
      "To change all layers to have dtype float64 by default, call `tf.keras.backend.set_floatx('float64')`. To change just this layer, pass dtype='float64' to the layer constructor. If you are the author of this layer, you can disable autocasting by passing autocast=False to the base Layer constructor.\n",
      "\n"
     ]
    },
    {
     "name": "stdout",
     "output_type": "stream",
     "text": [
      "tf.Tensor(\n",
      "[[0. 0. 0. 1. 0.]\n",
      " [0. 0. 1. 0. 0.]\n",
      " [0. 0. 1. 0. 0.]\n",
      " [0. 0. 1. 0. 0.]\n",
      " [0. 1. 0. 0. 0.]\n",
      " [0. 0. 1. 0. 0.]\n",
      " [0. 0. 1. 0. 0.]\n",
      " [0. 1. 0. 0. 0.]\n",
      " [0. 0. 1. 0. 0.]\n",
      " [0. 0. 1. 0. 0.]\n",
      " [0. 0. 0. 1. 0.]\n",
      " [0. 0. 1. 0. 0.]\n",
      " [0. 0. 1. 0. 0.]\n",
      " [0. 0. 1. 0. 0.]\n",
      " [0. 1. 0. 0. 0.]\n",
      " [0. 0. 0. 1. 0.]\n",
      " [0. 0. 1. 0. 0.]\n",
      " [0. 0. 0. 1. 0.]\n",
      " [0. 1. 0. 0. 0.]\n",
      " [0. 0. 0. 1. 0.]\n",
      " [0. 1. 0. 0. 0.]\n",
      " [0. 0. 1. 0. 0.]\n",
      " [0. 1. 0. 0. 0.]\n",
      " [0. 0. 1. 0. 0.]\n",
      " [0. 0. 1. 0. 0.]\n",
      " [0. 0. 1. 0. 0.]\n",
      " [0. 1. 0. 0. 0.]\n",
      " [0. 0. 1. 0. 0.]\n",
      " [0. 0. 0. 1. 0.]\n",
      " [0. 1. 0. 0. 0.]\n",
      " [0. 0. 1. 0. 0.]\n",
      " [0. 0. 1. 0. 0.]\n",
      " [0. 1. 0. 0. 0.]\n",
      " [0. 0. 1. 0. 0.]\n",
      " [0. 0. 0. 1. 0.]\n",
      " [0. 0. 1. 0. 0.]\n",
      " [0. 1. 0. 0. 0.]\n",
      " [0. 0. 1. 0. 0.]\n",
      " [0. 1. 0. 0. 0.]\n",
      " [0. 0. 1. 0. 0.]\n",
      " [0. 0. 1. 0. 0.]\n",
      " [0. 0. 1. 0. 0.]\n",
      " [0. 0. 1. 0. 0.]\n",
      " [0. 0. 1. 0. 0.]\n",
      " [0. 0. 1. 0. 0.]\n",
      " [0. 0. 1. 0. 0.]\n",
      " [0. 1. 0. 0. 0.]\n",
      " [0. 0. 0. 1. 0.]\n",
      " [0. 0. 1. 0. 0.]\n",
      " [0. 0. 1. 0. 0.]\n",
      " [0. 0. 1. 0. 0.]\n",
      " [0. 1. 0. 0. 0.]\n",
      " [0. 1. 0. 0. 0.]\n",
      " [0. 0. 1. 0. 0.]\n",
      " [0. 1. 0. 0. 0.]\n",
      " [0. 1. 0. 0. 0.]\n",
      " [0. 0. 1. 0. 0.]\n",
      " [0. 1. 0. 0. 0.]\n",
      " [0. 0. 1. 0. 0.]\n",
      " [0. 0. 1. 0. 0.]\n",
      " [0. 0. 1. 0. 0.]\n",
      " [0. 0. 1. 0. 0.]\n",
      " [0. 1. 0. 0. 0.]\n",
      " [0. 0. 1. 0. 0.]\n",
      " [0. 0. 1. 0. 0.]\n",
      " [0. 0. 1. 0. 0.]\n",
      " [0. 0. 1. 0. 0.]\n",
      " [0. 1. 0. 0. 0.]\n",
      " [0. 0. 0. 1. 0.]\n",
      " [0. 0. 0. 1. 0.]\n",
      " [0. 0. 1. 0. 0.]\n",
      " [0. 0. 1. 0. 0.]\n",
      " [0. 0. 1. 0. 0.]\n",
      " [0. 0. 1. 0. 0.]\n",
      " [0. 0. 1. 0. 0.]\n",
      " [0. 0. 1. 0. 0.]\n",
      " [0. 0. 1. 0. 0.]\n",
      " [0. 1. 0. 0. 0.]\n",
      " [0. 0. 1. 0. 0.]\n",
      " [0. 0. 1. 0. 0.]\n",
      " [0. 1. 0. 0. 0.]\n",
      " [0. 0. 1. 0. 0.]\n",
      " [0. 0. 1. 0. 0.]\n",
      " [0. 0. 1. 0. 0.]\n",
      " [0. 0. 1. 0. 0.]\n",
      " [0. 0. 1. 0. 0.]\n",
      " [0. 0. 1. 0. 0.]\n",
      " [0. 0. 1. 0. 0.]\n",
      " [0. 0. 1. 0. 0.]\n",
      " [0. 0. 0. 1. 0.]\n",
      " [0. 0. 1. 0. 0.]\n",
      " [0. 0. 1. 0. 0.]\n",
      " [0. 0. 1. 0. 0.]\n",
      " [0. 0. 0. 1. 0.]\n",
      " [0. 1. 0. 0. 0.]\n",
      " [0. 0. 1. 0. 0.]\n",
      " [0. 1. 0. 0. 0.]\n",
      " [0. 0. 1. 0. 0.]\n",
      " [0. 0. 1. 0. 0.]\n",
      " [0. 0. 1. 0. 0.]\n",
      " [0. 0. 1. 0. 0.]\n",
      " [0. 1. 0. 0. 0.]\n",
      " [0. 1. 0. 0. 0.]\n",
      " [0. 0. 0. 1. 0.]\n",
      " [0. 0. 1. 0. 0.]\n",
      " [0. 1. 0. 0. 0.]\n",
      " [0. 1. 0. 0. 0.]\n",
      " [0. 0. 1. 0. 0.]\n",
      " [0. 0. 1. 0. 0.]\n",
      " [0. 1. 0. 0. 0.]\n",
      " [0. 1. 0. 0. 0.]\n",
      " [0. 0. 1. 0. 0.]\n",
      " [0. 0. 1. 0. 0.]\n",
      " [0. 1. 0. 0. 0.]\n",
      " [0. 0. 1. 0. 0.]\n",
      " [0. 0. 1. 0. 0.]\n",
      " [0. 0. 1. 0. 0.]\n",
      " [0. 1. 0. 0. 0.]\n",
      " [0. 0. 0. 1. 0.]\n",
      " [0. 0. 1. 0. 0.]\n",
      " [0. 0. 1. 0. 0.]\n",
      " [0. 1. 0. 0. 0.]\n",
      " [0. 1. 0. 0. 0.]\n",
      " [0. 0. 1. 0. 0.]\n",
      " [0. 0. 1. 0. 0.]\n",
      " [0. 0. 1. 0. 0.]\n",
      " [0. 0. 1. 0. 0.]\n",
      " [0. 0. 1. 0. 0.]], shape=(128, 5), dtype=float32)\n"
     ]
    }
   ],
   "source": [
    "test_cat_var1 = tf_cat_col_list[0]\n",
    "print(\"Example categorical field:\\n{}\".format(test_cat_var1))\n",
    "demo(test_cat_var1, diabetes_batch)"
   ]
  },
  {
   "cell_type": "markdown",
   "metadata": {},
   "source": [
    "# 5. Create Numerical Features with TF Feature Columns"
   ]
  },
  {
   "cell_type": "markdown",
   "metadata": {},
   "source": [
    "**Question 8**: Using the TF Feature Column API(https://www.tensorflow.org/api_docs/python/tf/feature_column/), please create normalized Tensorflow numeric features for the model. Try to use the z-score normalizer function below to help as well as the 'calculate_stats_from_train_data' function."
   ]
  },
  {
   "cell_type": "code",
   "execution_count": 469,
   "metadata": {},
   "outputs": [],
   "source": [
    "from student_utils import create_tf_numeric_feature"
   ]
  },
  {
   "cell_type": "markdown",
   "metadata": {},
   "source": [
    "For simplicity the create_tf_numerical_feature_cols function below uses the same normalizer function across all features(z-score normalization) but if you have time feel free to analyze and adapt the normalizer based off the statistical distributions. You may find this as a good resource in determining which transformation fits best for the data https://developers.google.com/machine-learning/data-prep/transform/normalization.\n"
   ]
  },
  {
   "cell_type": "code",
   "execution_count": 470,
   "metadata": {},
   "outputs": [],
   "source": [
    "def calculate_stats_from_train_data(df, col):\n",
    "    mean = df[col].describe()['mean']\n",
    "    std = df[col].describe()['std']\n",
    "    #mean =0\n",
    "    #std = 1\n",
    "    return mean, std\n",
    "\n",
    "def create_tf_numerical_feature_cols(numerical_col_list, train_df):\n",
    "    tf_numeric_col_list = []\n",
    "    for c in numerical_col_list:\n",
    "        mean, std = calculate_stats_from_train_data(train_df, c)\n",
    "        tf_numeric_feature = create_tf_numeric_feature(c, mean, std)\n",
    "        tf_numeric_col_list.append(tf_numeric_feature)\n",
    "    return tf_numeric_col_list"
   ]
  },
  {
   "cell_type": "code",
   "execution_count": 471,
   "metadata": {},
   "outputs": [],
   "source": [
    "#print (student_numerical_col_list)\n",
    "#print (student_numerical_col_list[0])\n",
    "#d_train[student_numerical_col_list[0]]\n",
    "\"\"\"\n",
    "student_numerical_col_list = ['num_lab_procedures', 'num_medications', 'number_diagnoses']\n",
    "df = pd.read_csv('./data/final_project_dataset.csv')\n",
    "batch_size = 128\n",
    "PREDICTOR ='time_in_hospital'\n",
    "diabetes_train_ds = df_to_dataset(df[ student_numerical_col_list + [PREDICTOR] ], PREDICTOR, batch_size=batch_size)\n",
    "diabetes_batch = next(iter(diabetes_train_ds))[0]\n",
    "tf_cont_col_list = create_tf_numerical_feature_cols(student_numerical_col_list, df[student_numerical_col_list])\n",
    "test_cont_var1 = tf_cont_col_list[0]\n",
    "print(\"Example continuous field:\\n{}\\n\".format(test_cont_var1))\n",
    "demo(test_cont_var1, diabetes_batch)\n",
    "\"\"\"\n",
    "tf_cont_col_list = create_tf_numerical_feature_cols(student_numerical_col_list, d_train)"
   ]
  },
  {
   "cell_type": "code",
   "execution_count": 472,
   "metadata": {},
   "outputs": [
    {
     "name": "stdout",
     "output_type": "stream",
     "text": [
      "Example continuous field:\n",
      "NumericColumn(key='number_diagnoses', shape=(1,), default_value=(0,), dtype=tf.float64, normalizer_fn=functools.partial(<function normalize_numeric_with_zscore at 0x7fb8c51359e0>, mean=-2.0687156828739134e-16, std=1.0))\n",
      "\n",
      "WARNING:tensorflow:Layer dense_features_14 is casting an input tensor from dtype float64 to the layer's dtype of float32, which is new behavior in TensorFlow 2.  The layer has dtype float32 because it's dtype defaults to floatx.\n",
      "\n",
      "If you intended to run this layer in float32, you can safely ignore this warning. If in doubt, this warning is likely only an issue if you are porting a TensorFlow 1.X model to TensorFlow 2.\n",
      "\n",
      "To change all layers to have dtype float64 by default, call `tf.keras.backend.set_floatx('float64')`. To change just this layer, pass dtype='float64' to the layer constructor. If you are the author of this layer, you can disable autocasting by passing autocast=False to the base Layer constructor.\n",
      "\n"
     ]
    },
    {
     "name": "stderr",
     "output_type": "stream",
     "text": [
      "WARNING:tensorflow:Layer dense_features_14 is casting an input tensor from dtype float64 to the layer's dtype of float32, which is new behavior in TensorFlow 2.  The layer has dtype float32 because it's dtype defaults to floatx.\n",
      "\n",
      "If you intended to run this layer in float32, you can safely ignore this warning. If in doubt, this warning is likely only an issue if you are porting a TensorFlow 1.X model to TensorFlow 2.\n",
      "\n",
      "To change all layers to have dtype float64 by default, call `tf.keras.backend.set_floatx('float64')`. To change just this layer, pass dtype='float64' to the layer constructor. If you are the author of this layer, you can disable autocasting by passing autocast=False to the base Layer constructor.\n",
      "\n"
     ]
    },
    {
     "name": "stdout",
     "output_type": "stream",
     "text": [
      "tf.Tensor(\n",
      "[[ 0.8613502 ]\n",
      " [ 0.8613502 ]\n",
      " [ 0.8613502 ]\n",
      " [ 0.8613502 ]\n",
      " [-1.1372547 ]\n",
      " [-0.6376035 ]\n",
      " [ 0.36169893]\n",
      " [ 0.8613502 ]\n",
      " [ 0.8613502 ]\n",
      " [ 0.8613502 ]\n",
      " [ 0.8613502 ]\n",
      " [-0.6376035 ]\n",
      " [ 0.8613502 ]\n",
      " [ 0.8613502 ]\n",
      " [ 0.36169893]\n",
      " [-0.1379523 ]\n",
      " [-1.1372547 ]\n",
      " [ 0.8613502 ]\n",
      " [-0.1379523 ]\n",
      " [-1.636906  ]\n",
      " [ 0.8613502 ]\n",
      " [ 0.8613502 ]\n",
      " [ 0.8613502 ]\n",
      " [-0.6376035 ]\n",
      " [-1.1372547 ]\n",
      " [-2.136557  ]\n",
      " [-2.6362085 ]\n",
      " [ 0.36169893]\n",
      " [ 0.36169893]\n",
      " [-0.1379523 ]\n",
      " [ 0.36169893]\n",
      " [-0.1379523 ]\n",
      " [ 0.36169893]\n",
      " [ 0.8613502 ]\n",
      " [ 0.8613502 ]\n",
      " [-2.6362085 ]\n",
      " [ 0.8613502 ]\n",
      " [ 0.8613502 ]\n",
      " [-1.636906  ]\n",
      " [ 0.8613502 ]\n",
      " [ 0.8613502 ]\n",
      " [ 0.8613502 ]\n",
      " [ 0.8613502 ]\n",
      " [ 0.36169893]\n",
      " [ 0.8613502 ]\n",
      " [ 0.36169893]\n",
      " [ 0.36169893]\n",
      " [ 0.36169893]\n",
      " [-3.1358597 ]\n",
      " [-1.1372547 ]\n",
      " [-0.1379523 ]\n",
      " [ 0.36169893]\n",
      " [ 0.36169893]\n",
      " [ 0.36169893]\n",
      " [ 0.8613502 ]\n",
      " [ 0.8613502 ]\n",
      " [ 0.36169893]\n",
      " [-1.636906  ]\n",
      " [ 0.8613502 ]\n",
      " [ 0.8613502 ]\n",
      " [ 0.36169893]\n",
      " [-1.1372547 ]\n",
      " [ 0.8613502 ]\n",
      " [ 0.8613502 ]\n",
      " [-1.1372547 ]\n",
      " [ 0.8613502 ]\n",
      " [ 0.36169893]\n",
      " [ 0.8613502 ]\n",
      " [-0.6376035 ]\n",
      " [ 0.8613502 ]\n",
      " [-1.1372547 ]\n",
      " [-0.6376035 ]\n",
      " [ 0.8613502 ]\n",
      " [-2.136557  ]\n",
      " [ 0.8613502 ]\n",
      " [-1.1372547 ]\n",
      " [ 0.8613502 ]\n",
      " [-0.1379523 ]\n",
      " [ 0.8613502 ]\n",
      " [-0.1379523 ]\n",
      " [-2.136557  ]\n",
      " [-1.1372547 ]\n",
      " [ 0.8613502 ]\n",
      " [-0.1379523 ]\n",
      " [ 0.8613502 ]\n",
      " [ 0.8613502 ]\n",
      " [ 0.8613502 ]\n",
      " [-1.1372547 ]\n",
      " [ 0.8613502 ]\n",
      " [ 0.8613502 ]\n",
      " [ 0.8613502 ]\n",
      " [ 0.8613502 ]\n",
      " [-0.6376035 ]\n",
      " [ 0.8613502 ]\n",
      " [ 0.8613502 ]\n",
      " [ 0.36169893]\n",
      " [ 0.8613502 ]\n",
      " [ 0.8613502 ]\n",
      " [ 0.8613502 ]\n",
      " [-0.6376035 ]\n",
      " [-2.136557  ]\n",
      " [-0.1379523 ]\n",
      " [-0.1379523 ]\n",
      " [ 0.36169893]\n",
      " [ 0.8613502 ]\n",
      " [ 0.8613502 ]\n",
      " [ 0.8613502 ]\n",
      " [ 0.8613502 ]\n",
      " [-0.6376035 ]\n",
      " [ 0.8613502 ]\n",
      " [ 0.36169893]\n",
      " [-0.1379523 ]\n",
      " [-0.1379523 ]\n",
      " [ 0.8613502 ]\n",
      " [ 0.8613502 ]\n",
      " [-0.6376035 ]\n",
      " [-0.6376035 ]\n",
      " [-0.6376035 ]\n",
      " [ 0.8613502 ]\n",
      " [-0.6376035 ]\n",
      " [-1.1372547 ]\n",
      " [-1.1372547 ]\n",
      " [-0.6376035 ]\n",
      " [-0.6376035 ]\n",
      " [ 0.8613502 ]\n",
      " [-0.6376035 ]\n",
      " [-1.1372547 ]\n",
      " [ 0.36169893]], shape=(128, 1), dtype=float32)\n"
     ]
    }
   ],
   "source": [
    "test_cont_var1 = tf_cont_col_list[0]\n",
    "print(\"Example continuous field:\\n{}\\n\".format(test_cont_var1))\n",
    "demo(test_cont_var1, diabetes_batch)"
   ]
  },
  {
   "cell_type": "markdown",
   "metadata": {},
   "source": [
    "# 6. Build Deep Learning Regression Model with Sequential API and TF Probability Layers"
   ]
  },
  {
   "cell_type": "markdown",
   "metadata": {},
   "source": [
    "## Use DenseFeatures to combine features for model"
   ]
  },
  {
   "cell_type": "markdown",
   "metadata": {},
   "source": [
    "Now that we have prepared categorical and numerical features using Tensorflow's Feature Column API, we can combine them into a dense vector representation for the model. Below we will create this new input layer, which we will call 'claim_feature_layer'."
   ]
  },
  {
   "cell_type": "code",
   "execution_count": 473,
   "metadata": {},
   "outputs": [],
   "source": [
    "claim_feature_columns = tf_cat_col_list + tf_cont_col_list\n",
    "claim_feature_layer = tf.keras.layers.DenseFeatures(claim_feature_columns)"
   ]
  },
  {
   "cell_type": "markdown",
   "metadata": {},
   "source": [
    "## Build Sequential API Model from DenseFeatures and TF Probability Layers"
   ]
  },
  {
   "cell_type": "markdown",
   "metadata": {},
   "source": [
    "Below we have provided some boilerplate code for building a model that connects the Sequential API, DenseFeatures, and Tensorflow Probability layers into a deep learning model. There are many opportunities to further optimize and explore different architectures through benchmarking and testing approaches in various research papers, loss and evaluation metrics, learning curves, hyperparameter tuning, TF probability layers, etc. Feel free to modify and explore as you wish."
   ]
  },
  {
   "cell_type": "markdown",
   "metadata": {},
   "source": [
    "**OPTIONAL**: Come up with a more optimal neural network architecture and hyperparameters. Share the process in discovering the architecture and hyperparameters."
   ]
  },
  {
   "cell_type": "code",
   "execution_count": 474,
   "metadata": {},
   "outputs": [],
   "source": [
    "def build_sequential_model(feature_layer):\n",
    "    model = tf.keras.Sequential([\n",
    "        feature_layer,\n",
    "        tf.keras.layers.Dense(150, activation='relu'),\n",
    "        tf.keras.layers.Dense(75, activation='relu'),\n",
    "        tfp.layers.DenseVariational(1+1, posterior_mean_field, prior_trainable),\n",
    "        tfp.layers.DistributionLambda(\n",
    "            lambda t:tfp.distributions.Normal(loc=t[..., :1],\n",
    "                                             scale=1e-3 + tf.math.softplus(0.01 * t[...,1:])\n",
    "                                             )\n",
    "        ),\n",
    "    ])\n",
    "    return model\n",
    "\n",
    "def build_diabetes_model(train_ds, val_ds,  feature_layer,  epochs=5, loss_metric='mse'):\n",
    "    model = build_sequential_model(feature_layer)\n",
    "    model.compile(optimizer='rmsprop', loss=loss_metric, metrics=[loss_metric])\n",
    "    early_stop = tf.keras.callbacks.EarlyStopping(monitor=loss_metric, patience=3)     \n",
    "    history = model.fit(train_ds, validation_data=val_ds,\n",
    "                        callbacks=[early_stop],\n",
    "                        epochs=epochs)\n",
    "    return model, history "
   ]
  },
  {
   "cell_type": "code",
   "execution_count": 475,
   "metadata": {},
   "outputs": [
    {
     "name": "stdout",
     "output_type": "stream",
     "text": [
      "Train for 255 steps, validate for 85 steps\n",
      "Epoch 1/10\n",
      "255/255 [==============================] - 11s 43ms/step - loss: 27.6626 - mse: 27.5311 - val_loss: 100.2558 - val_mse: 100.2170\n",
      "Epoch 2/10\n",
      "255/255 [==============================] - 8s 30ms/step - loss: 19.1998 - mse: 18.6096 - val_loss: 410.6509 - val_mse: 410.8615\n",
      "Epoch 3/10\n",
      "255/255 [==============================] - 7s 29ms/step - loss: 14.9225 - mse: 14.2128 - val_loss: 923.9064 - val_mse: 920.9323\n",
      "Epoch 4/10\n",
      "255/255 [==============================] - 7s 29ms/step - loss: 12.1363 - mse: 11.1866 - val_loss: 847.6123 - val_mse: 848.2239\n",
      "Epoch 5/10\n",
      "255/255 [==============================] - 7s 29ms/step - loss: 11.3936 - mse: 10.3333 - val_loss: 831.6171 - val_mse: 831.3814\n",
      "Epoch 6/10\n",
      "255/255 [==============================] - 7s 29ms/step - loss: 10.8255 - mse: 9.9768 - val_loss: 1047.6978 - val_mse: 1048.8491\n",
      "Epoch 7/10\n",
      "255/255 [==============================] - 7s 29ms/step - loss: 10.6601 - mse: 9.8167 - val_loss: 1153.0549 - val_mse: 1149.8485\n",
      "Epoch 8/10\n",
      "255/255 [==============================] - 7s 28ms/step - loss: 9.8569 - mse: 8.9401 - val_loss: 1123.0660 - val_mse: 1121.6675\n",
      "Epoch 9/10\n",
      "255/255 [==============================] - 7s 28ms/step - loss: 9.7592 - mse: 9.0088 - val_loss: 1094.0717 - val_mse: 1093.4288\n",
      "Epoch 10/10\n",
      "255/255 [==============================] - 8s 30ms/step - loss: 9.2560 - mse: 8.3948 - val_loss: 887.3858 - val_mse: 885.6282\n"
     ]
    }
   ],
   "source": [
    "diabetes_model, history = build_diabetes_model(diabetes_train_ds, diabetes_val_ds,  claim_feature_layer,  epochs=10)"
   ]
  },
  {
   "cell_type": "markdown",
   "metadata": {},
   "source": [
    "## Show Model Uncertainty Range with TF Probability"
   ]
  },
  {
   "cell_type": "markdown",
   "metadata": {},
   "source": [
    "**Question 9**: Now that we have trained a model with TF Probability layers, we can extract the mean and standard deviation for each prediction. Please fill in the answer for the m and s variables below. The code for getting the predictions is provided for you below."
   ]
  },
  {
   "cell_type": "code",
   "execution_count": 476,
   "metadata": {},
   "outputs": [],
   "source": [
    "feature_list = student_categorical_col_list + student_numerical_col_list\n",
    "diabetes_x_tst = dict(d_test[feature_list])\n",
    "#d_test[feature_list].head()\n"
   ]
  },
  {
   "cell_type": "code",
   "execution_count": 477,
   "metadata": {},
   "outputs": [
    {
     "name": "stdout",
     "output_type": "stream",
     "text": [
      "tfp.distributions.Normal(\"sequential_6/distribution_lambda_6/Normal/\", batch_shape=[10854, 1], event_shape=[], dtype=float32)\n"
     ]
    }
   ],
   "source": [
    "#print (diabetes_x_tst)\n",
    "diabetes_yhat = diabetes_model(diabetes_x_tst)\n",
    "preds = diabetes_model.predict(diabetes_test_ds)\n",
    "print(diabetes_yhat)"
   ]
  },
  {
   "cell_type": "code",
   "execution_count": 478,
   "metadata": {},
   "outputs": [],
   "source": [
    "from student_utils import get_mean_std_from_preds\n",
    "\n",
    "m, s = get_mean_std_from_preds(diabetes_yhat)"
   ]
  },
  {
   "cell_type": "code",
   "execution_count": 479,
   "metadata": {},
   "outputs": [
    {
     "name": "stdout",
     "output_type": "stream",
     "text": [
      "tf.Tensor(\n",
      "[[1.2239883]\n",
      " [1.2239883]\n",
      " [1.2239883]\n",
      " ...\n",
      " [1.2239883]\n",
      " [1.2239883]\n",
      " [1.2239883]], shape=(10854, 1), dtype=float32)\n"
     ]
    }
   ],
   "source": [
    "print (m)"
   ]
  },
  {
   "cell_type": "markdown",
   "metadata": {},
   "source": [
    "## Show Prediction Output "
   ]
  },
  {
   "cell_type": "code",
   "execution_count": 480,
   "metadata": {},
   "outputs": [],
   "source": [
    "prob_outputs = {\n",
    "    \"pred\": preds.flatten(),\n",
    "    \"actual_value\": d_test['time_in_hospital'].values,\n",
    "    \"pred_mean\": m.numpy().flatten(),\n",
    "    \"pred_std\": s.numpy().flatten()\n",
    "}\n",
    "prob_output_df = pd.DataFrame(prob_outputs)"
   ]
  },
  {
   "cell_type": "code",
   "execution_count": 481,
   "metadata": {},
   "outputs": [
    {
     "data": {
      "text/html": [
       "<div>\n",
       "<style scoped>\n",
       "    .dataframe tbody tr th:only-of-type {\n",
       "        vertical-align: middle;\n",
       "    }\n",
       "\n",
       "    .dataframe tbody tr th {\n",
       "        vertical-align: top;\n",
       "    }\n",
       "\n",
       "    .dataframe thead th {\n",
       "        text-align: right;\n",
       "    }\n",
       "</style>\n",
       "<table border=\"1\" class=\"dataframe\">\n",
       "  <thead>\n",
       "    <tr style=\"text-align: right;\">\n",
       "      <th></th>\n",
       "      <th>pred</th>\n",
       "      <th>actual_value</th>\n",
       "      <th>pred_mean</th>\n",
       "      <th>pred_std</th>\n",
       "    </tr>\n",
       "  </thead>\n",
       "  <tbody>\n",
       "    <tr>\n",
       "      <th>count</th>\n",
       "      <td>10854.000000</td>\n",
       "      <td>10854.000000</td>\n",
       "      <td>10854.000000</td>\n",
       "      <td>10854.000000</td>\n",
       "    </tr>\n",
       "    <tr>\n",
       "      <th>mean</th>\n",
       "      <td>27.561081</td>\n",
       "      <td>4.393588</td>\n",
       "      <td>1.223988</td>\n",
       "      <td>0.688321</td>\n",
       "    </tr>\n",
       "    <tr>\n",
       "      <th>std</th>\n",
       "      <td>18.061121</td>\n",
       "      <td>2.974237</td>\n",
       "      <td>0.000000</td>\n",
       "      <td>0.000000</td>\n",
       "    </tr>\n",
       "    <tr>\n",
       "      <th>min</th>\n",
       "      <td>-3.056073</td>\n",
       "      <td>1.000000</td>\n",
       "      <td>1.223988</td>\n",
       "      <td>0.688321</td>\n",
       "    </tr>\n",
       "    <tr>\n",
       "      <th>25%</th>\n",
       "      <td>15.097404</td>\n",
       "      <td>2.000000</td>\n",
       "      <td>1.223988</td>\n",
       "      <td>0.688321</td>\n",
       "    </tr>\n",
       "    <tr>\n",
       "      <th>50%</th>\n",
       "      <td>24.083462</td>\n",
       "      <td>4.000000</td>\n",
       "      <td>1.223988</td>\n",
       "      <td>0.688321</td>\n",
       "    </tr>\n",
       "    <tr>\n",
       "      <th>75%</th>\n",
       "      <td>35.548993</td>\n",
       "      <td>6.000000</td>\n",
       "      <td>1.223988</td>\n",
       "      <td>0.688321</td>\n",
       "    </tr>\n",
       "    <tr>\n",
       "      <th>max</th>\n",
       "      <td>201.473892</td>\n",
       "      <td>14.000000</td>\n",
       "      <td>1.223988</td>\n",
       "      <td>0.688321</td>\n",
       "    </tr>\n",
       "  </tbody>\n",
       "</table>\n",
       "</div>"
      ],
      "text/plain": [
       "               pred  actual_value     pred_mean      pred_std\n",
       "count  10854.000000  10854.000000  10854.000000  10854.000000\n",
       "mean      27.561081      4.393588      1.223988      0.688321\n",
       "std       18.061121      2.974237      0.000000      0.000000\n",
       "min       -3.056073      1.000000      1.223988      0.688321\n",
       "25%       15.097404      2.000000      1.223988      0.688321\n",
       "50%       24.083462      4.000000      1.223988      0.688321\n",
       "75%       35.548993      6.000000      1.223988      0.688321\n",
       "max      201.473892     14.000000      1.223988      0.688321"
      ]
     },
     "execution_count": 481,
     "metadata": {},
     "output_type": "execute_result"
    }
   ],
   "source": [
    "prob_output_df.describe()"
   ]
  },
  {
   "cell_type": "code",
   "execution_count": 482,
   "metadata": {},
   "outputs": [
    {
     "data": {
      "text/html": [
       "<div>\n",
       "<style scoped>\n",
       "    .dataframe tbody tr th:only-of-type {\n",
       "        vertical-align: middle;\n",
       "    }\n",
       "\n",
       "    .dataframe tbody tr th {\n",
       "        vertical-align: top;\n",
       "    }\n",
       "\n",
       "    .dataframe thead th {\n",
       "        text-align: right;\n",
       "    }\n",
       "</style>\n",
       "<table border=\"1\" class=\"dataframe\">\n",
       "  <thead>\n",
       "    <tr style=\"text-align: right;\">\n",
       "      <th></th>\n",
       "      <th>pred</th>\n",
       "      <th>actual_value</th>\n",
       "      <th>pred_mean</th>\n",
       "      <th>pred_std</th>\n",
       "    </tr>\n",
       "  </thead>\n",
       "  <tbody>\n",
       "    <tr>\n",
       "      <th>0</th>\n",
       "      <td>12.343987</td>\n",
       "      <td>3.0</td>\n",
       "      <td>1.223988</td>\n",
       "      <td>0.688321</td>\n",
       "    </tr>\n",
       "    <tr>\n",
       "      <th>1</th>\n",
       "      <td>35.436169</td>\n",
       "      <td>4.0</td>\n",
       "      <td>1.223988</td>\n",
       "      <td>0.688321</td>\n",
       "    </tr>\n",
       "    <tr>\n",
       "      <th>2</th>\n",
       "      <td>54.355946</td>\n",
       "      <td>1.0</td>\n",
       "      <td>1.223988</td>\n",
       "      <td>0.688321</td>\n",
       "    </tr>\n",
       "    <tr>\n",
       "      <th>3</th>\n",
       "      <td>16.276314</td>\n",
       "      <td>4.0</td>\n",
       "      <td>1.223988</td>\n",
       "      <td>0.688321</td>\n",
       "    </tr>\n",
       "    <tr>\n",
       "      <th>4</th>\n",
       "      <td>12.358015</td>\n",
       "      <td>7.0</td>\n",
       "      <td>1.223988</td>\n",
       "      <td>0.688321</td>\n",
       "    </tr>\n",
       "    <tr>\n",
       "      <th>...</th>\n",
       "      <td>...</td>\n",
       "      <td>...</td>\n",
       "      <td>...</td>\n",
       "      <td>...</td>\n",
       "    </tr>\n",
       "    <tr>\n",
       "      <th>10849</th>\n",
       "      <td>24.636808</td>\n",
       "      <td>3.0</td>\n",
       "      <td>1.223988</td>\n",
       "      <td>0.688321</td>\n",
       "    </tr>\n",
       "    <tr>\n",
       "      <th>10850</th>\n",
       "      <td>16.062744</td>\n",
       "      <td>4.0</td>\n",
       "      <td>1.223988</td>\n",
       "      <td>0.688321</td>\n",
       "    </tr>\n",
       "    <tr>\n",
       "      <th>10851</th>\n",
       "      <td>19.244745</td>\n",
       "      <td>6.0</td>\n",
       "      <td>1.223988</td>\n",
       "      <td>0.688321</td>\n",
       "    </tr>\n",
       "    <tr>\n",
       "      <th>10852</th>\n",
       "      <td>68.907043</td>\n",
       "      <td>5.0</td>\n",
       "      <td>1.223988</td>\n",
       "      <td>0.688321</td>\n",
       "    </tr>\n",
       "    <tr>\n",
       "      <th>10853</th>\n",
       "      <td>27.935846</td>\n",
       "      <td>6.0</td>\n",
       "      <td>1.223988</td>\n",
       "      <td>0.688321</td>\n",
       "    </tr>\n",
       "  </tbody>\n",
       "</table>\n",
       "<p>10854 rows × 4 columns</p>\n",
       "</div>"
      ],
      "text/plain": [
       "            pred  actual_value  pred_mean  pred_std\n",
       "0      12.343987           3.0   1.223988  0.688321\n",
       "1      35.436169           4.0   1.223988  0.688321\n",
       "2      54.355946           1.0   1.223988  0.688321\n",
       "3      16.276314           4.0   1.223988  0.688321\n",
       "4      12.358015           7.0   1.223988  0.688321\n",
       "...          ...           ...        ...       ...\n",
       "10849  24.636808           3.0   1.223988  0.688321\n",
       "10850  16.062744           4.0   1.223988  0.688321\n",
       "10851  19.244745           6.0   1.223988  0.688321\n",
       "10852  68.907043           5.0   1.223988  0.688321\n",
       "10853  27.935846           6.0   1.223988  0.688321\n",
       "\n",
       "[10854 rows x 4 columns]"
      ]
     },
     "execution_count": 482,
     "metadata": {},
     "output_type": "execute_result"
    }
   ],
   "source": [
    "prob_output_df"
   ]
  },
  {
   "cell_type": "markdown",
   "metadata": {},
   "source": [
    "## Convert Regression Output to Classification Output for Patient Selection"
   ]
  },
  {
   "cell_type": "markdown",
   "metadata": {},
   "source": [
    "**Question 10**: Given the output predictions, convert it to a binary label for whether the patient meets the time criteria or does not (HINT: use the mean prediction numpy array). The expected output is a numpy array with a 1 or 0 based off if the prediction meets or doesnt meet the criteria."
   ]
  },
  {
   "cell_type": "code",
   "execution_count": 483,
   "metadata": {},
   "outputs": [],
   "source": [
    "from student_utils import get_student_binary_prediction\n",
    "\n",
    "student_binary_prediction = get_student_binary_prediction(prob_output_df, 'pred') #change to pred_mean"
   ]
  },
  {
   "cell_type": "markdown",
   "metadata": {},
   "source": [
    "### Add Binary Prediction to Test Dataframe"
   ]
  },
  {
   "cell_type": "markdown",
   "metadata": {},
   "source": [
    "Using the student_binary_prediction output that is a numpy array with binary labels, we can use this to add to a dataframe to better visualize and also to prepare the data for the Aequitas toolkit. The Aequitas toolkit requires that the predictions be mapped to a binary label for the predictions (called 'score' field) and the actual value (called 'label_value')."
   ]
  },
  {
   "cell_type": "code",
   "execution_count": 484,
   "metadata": {},
   "outputs": [],
   "source": [
    "def add_pred_to_test(test_df, pred_np, demo_col_list):\n",
    "    for c in demo_col_list:\n",
    "        test_df[c] = test_df[c].astype(str)\n",
    "    test_df['score'] = pred_np\n",
    "    test_df['label_value'] = test_df['time_in_hospital'].apply(lambda x: 1 if x >=5 else 0)\n",
    "    return test_df\n",
    "\n",
    "pred_test_df = add_pred_to_test(d_test, student_binary_prediction, ['race', 'gender'])"
   ]
  },
  {
   "cell_type": "code",
   "execution_count": 485,
   "metadata": {},
   "outputs": [
    {
     "name": "stdout",
     "output_type": "stream",
     "text": [
      "# Match = 5860\n",
      "# Mismatch = 4994\n",
      "# NaNs in Prediction = 0\n"
     ]
    }
   ],
   "source": [
    "pred_test_df[['patient_nbr', 'gender', 'race', 'time_in_hospital', 'score', 'label_value']].head()\n",
    "print (\"# Match =\", len(pred_test_df[(pred_test_df['score'] == pred_test_df['label_value'])]))\n",
    "print (\"# Mismatch =\", len(pred_test_df[(pred_test_df['score'] != pred_test_df['label_value'])]))\n",
    "print (\"# NaNs in Prediction =\", len(pred_test_df[np.isnan(pred_test_df['score'])]))"
   ]
  },
  {
   "cell_type": "markdown",
   "metadata": {},
   "source": [
    "## Model Evaluation Metrics "
   ]
  },
  {
   "cell_type": "markdown",
   "metadata": {},
   "source": [
    "**Question 11**: Now it is time to use the newly created binary labels in the 'pred_test_df' dataframe to evaluate the model with some common classification metrics. Please create a report summary of the performance of the model and be sure to give the ROC AUC, F1 score(weighted), class precision and recall scores. "
   ]
  },
  {
   "cell_type": "markdown",
   "metadata": {},
   "source": [
    "For the report please be sure to include the following three parts:\n",
    "- With a non-technical audience in mind, explain the precision-recall tradeoff in regard to how you have optimized your model.\n",
    "\n",
    "- What are some areas of improvement for future iterations?"
   ]
  },
  {
   "cell_type": "code",
   "execution_count": 487,
   "metadata": {},
   "outputs": [
    {
     "name": "stdout",
     "output_type": "stream",
     "text": [
      "              precision    recall  f1-score   support\n",
      "\n",
      "           0       0.63      0.65      0.64      6743\n",
      "           1       0.39      0.37      0.38      4111\n",
      "\n",
      "    accuracy                           0.54     10854\n",
      "   macro avg       0.51      0.51      0.51     10854\n",
      "weighted avg       0.53      0.54      0.54     10854\n",
      "\n"
     ]
    }
   ],
   "source": [
    "# AUC, F1, precision and recall\n",
    "# Summary\n",
    "# The model displays a precision of 0.63, recall of 0.65 and an f1-score of 0.64.\n",
    "# In order to get the model working at this level, I used a classification threshold of 30 days\n",
    "# on the pred values returned by the model. I also tried different combinations of numerical and\n",
    "# categorical variables and arrived at a combination that seemingly works best.\n",
    "# For future/further improvements, need to further cleanse the data. I have dropped several columns that had \n",
    "# large number of null/invalid values, but there are other columns (e.g., 'gender'), that has a small number\n",
    "# of invalid values which I have kept as-is. Also, different loss functions can be tried, more hidden layers \n",
    "# can be added to the DNN, and the categorical features can be further permutated. Also, more numerical \n",
    "# features can be added and embedding columns can replace indicator columns.\n",
    "\n",
    "from sklearn.metrics import accuracy_score, f1_score, classification_report, roc_auc_score\n",
    "\n",
    "y_true = pred_test_df['label_value'].values \n",
    "y_pred = pred_test_df['score'].values\n",
    "\n",
    "accuracy_score(y_true, y_pred)\n",
    "print(classification_report(y_true, y_pred))"
   ]
  },
  {
   "cell_type": "markdown",
   "metadata": {},
   "source": [
    "# 7. Evaluating Potential Model Biases with Aequitas Toolkit"
   ]
  },
  {
   "cell_type": "markdown",
   "metadata": {},
   "source": [
    "## Prepare Data For Aequitas Bias Toolkit "
   ]
  },
  {
   "cell_type": "markdown",
   "metadata": {},
   "source": [
    "Using the gender and race fields, we will prepare the data for the Aequitas Toolkit."
   ]
  },
  {
   "cell_type": "code",
   "execution_count": 488,
   "metadata": {},
   "outputs": [
    {
     "name": "stderr",
     "output_type": "stream",
     "text": [
      "/opt/conda/lib/python3.7/site-packages/aequitas/group.py:143: SettingWithCopyWarning: \n",
      "A value is trying to be set on a copy of a slice from a DataFrame.\n",
      "Try using .loc[row_indexer,col_indexer] = value instead\n",
      "\n",
      "See the caveats in the documentation: https://pandas.pydata.org/pandas-docs/stable/user_guide/indexing.html#returning-a-view-versus-a-copy\n",
      "  df['score'] = df['score'].astype(float)\n"
     ]
    },
    {
     "name": "stdout",
     "output_type": "stream",
     "text": [
      "model_id, score_thresholds 1 {'rank_abs': [3885]}\n"
     ]
    }
   ],
   "source": [
    "# Aequitas\n",
    "from aequitas.preprocessing import preprocess_input_df\n",
    "from aequitas.group import Group\n",
    "from aequitas.plotting import Plot\n",
    "from aequitas.bias import Bias\n",
    "from aequitas.fairness import Fairness\n",
    "\n",
    "ae_subset_df = pred_test_df[['race', 'gender', 'score', 'label_value']]\n",
    "ae_df, _ = preprocess_input_df(ae_subset_df)\n",
    "g = Group()\n",
    "xtab, _ = g.get_crosstabs(ae_df)\n",
    "absolute_metrics = g.list_absolute_metrics(xtab)\n",
    "clean_xtab = xtab.fillna(-1)\n",
    "aqp = Plot()\n",
    "b = Bias()\n"
   ]
  },
  {
   "cell_type": "markdown",
   "metadata": {},
   "source": [
    "## Reference Group Selection"
   ]
  },
  {
   "cell_type": "markdown",
   "metadata": {},
   "source": [
    "Below we have chosen the reference group for our analysis but feel free to select another one."
   ]
  },
  {
   "cell_type": "code",
   "execution_count": 489,
   "metadata": {},
   "outputs": [
    {
     "name": "stdout",
     "output_type": "stream",
     "text": [
      "get_disparity_predefined_group()\n"
     ]
    },
    {
     "name": "stderr",
     "output_type": "stream",
     "text": [
      "/opt/conda/lib/python3.7/site-packages/aequitas/bias.py:368: FutureWarning: The pandas.np module is deprecated and will be removed from pandas in a future version. Import numpy directly instead\n",
      "  df = df.replace(pd.np.inf, fill_divbyzero)\n",
      "/opt/conda/lib/python3.7/site-packages/aequitas/fairness.py:32: FutureWarning: The pandas.np module is deprecated and will be removed from pandas in a future version. Import numpy directly instead\n",
      "  self.fair_eval = lambda tau: lambda x: pd.np.nan if pd.np.isnan(x) else \\\n",
      "/opt/conda/lib/python3.7/site-packages/aequitas/fairness.py:45: FutureWarning: The pandas.np module is deprecated and will be removed from pandas in a future version. Import numpy directly instead\n",
      "  self.high_level_pair_eval = lambda col1, col2: lambda x: pd.np.nan if (pd.np.isnan(x[col1]) and pd.np.isnan(x[col2])) \\\n"
     ]
    }
   ],
   "source": [
    "# test reference group with Caucasian Male\n",
    "bdf = b.get_disparity_predefined_groups(clean_xtab, \n",
    "                    original_df=ae_df, \n",
    "                    ref_groups_dict={'race':'Caucasian', 'gender':'Male'\n",
    "                                     }, \n",
    "                    alpha=0.05, \n",
    "                    check_significance=False)\n",
    "\n",
    "\n",
    "f = Fairness()\n",
    "fdf = f.get_group_value_fairness(bdf)"
   ]
  },
  {
   "cell_type": "markdown",
   "metadata": {},
   "source": [
    "## Race and Gender Bias Analysis for Patient Selection"
   ]
  },
  {
   "cell_type": "markdown",
   "metadata": {},
   "source": [
    "**Question 12**: For the gender and race fields, please plot two metrics that are important for patient selection below and state whether there is a significant bias in your model across any of the groups along with justification for your statement."
   ]
  },
  {
   "cell_type": "code",
   "execution_count": 490,
   "metadata": {},
   "outputs": [
    {
     "data": {
      "image/png": "[encoded data removed]",
      "text/plain": [
       "<Figure size 1800x432 with 2 Axes>"
      ]
     },
     "metadata": {
      "needs_background": "light"
     },
     "output_type": "display_data"
    }
   ],
   "source": [
    "# Plot two metrics\n",
    "#p = aqp.plot_group_metric_all(xtab, metrics=['tpr', 'fpr', 'ppr', 'pprev', 'fnr'], ncols=5)\n",
    "p = aqp.plot_group_metric_all(xtab, metrics=['tpr', 'fpr'], ncols=2)\n",
    "\n",
    "# Is there significant bias in your model for either race or gender?\n",
    "# Ans: There is no significant bias at a gender level as revealed by the TPR and FPR plots\n",
    "# At the race level, there seem to be a minor bias against African Americans, say, against Asians. For example,\n",
    "# the TPR for African Americans is 7% points less than Asians, while the FPR is 4% points more than Asians. \n",
    "# The training data needs to be verified whether it has enough representation for African Americans."
   ]
  },
  {
   "cell_type": "markdown",
   "metadata": {},
   "source": [
    "## Fairness Analysis Example - Relative to a Reference Group "
   ]
  },
  {
   "cell_type": "markdown",
   "metadata": {},
   "source": [
    "**Question 13**: Earlier we defined our reference group and then calculated disparity metrics relative to this grouping. Please provide a visualization of the fairness evaluation for this reference group and analyze whether there is disparity."
   ]
  },
  {
   "cell_type": "code",
   "execution_count": 491,
   "metadata": {},
   "outputs": [
    {
     "data": {
      "image/png": "[encoded data removed]",
      "text/plain": [
       "<Figure size 360x288 with 2 Axes>"
      ]
     },
     "metadata": {
      "needs_background": "light"
     },
     "output_type": "display_data"
    },
    {
     "data": {
      "image/png": "[encoded data removed]",
      "text/plain": [
       "<Figure size 360x288 with 2 Axes>"
      ]
     },
     "metadata": {
      "needs_background": "light"
     },
     "output_type": "display_data"
    }
   ],
   "source": [
    "# Reference group fairness plot\n",
    "fpr_disparity = aqp.plot_disparity(bdf, group_metric='fpr_disparity', \n",
    "                                   attribute_name='race')\n",
    "\n",
    "fpr_disparity = aqp.plot_disparity(bdf, group_metric='fpr_disparity', \n",
    "                                   attribute_name='gender')"
   ]
  },
  {
   "cell_type": "code",
   "execution_count": null,
   "metadata": {},
   "outputs": [],
   "source": []
  },
  {
   "cell_type": "code",
   "execution_count": null,
   "metadata": {},
   "outputs": [],
   "source": []
  }
 ],
 "metadata": {
  "kernelspec": {
   "display_name": "Python 3",
   "language": "python",
   "name": "python3"
  },
  "language_info": {
   "codemirror_mode": {
    "name": "ipython",
    "version": 3
   },
   "file_extension": ".py",
   "mimetype": "text/x-python",
   "name": "python",
   "nbconvert_exporter": "python",
   "pygments_lexer": "ipython3",
   "version": "3.7.6"
  }
 },
 "nbformat": 4,
 "nbformat_minor": 2
}
